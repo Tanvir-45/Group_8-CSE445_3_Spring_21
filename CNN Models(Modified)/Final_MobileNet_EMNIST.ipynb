{
  "nbformat": 4,
  "nbformat_minor": 0,
  "metadata": {
    "accelerator": "GPU",
    "colab": {
      "name": "Final-MobileNet-EMNIST.ipynb",
      "provenance": [],
      "collapsed_sections": []
    },
    "kernelspec": {
      "display_name": "Python 3",
      "name": "python3"
    },
    "language_info": {
      "name": "python"
    }
  },
  "cells": [
    {
      "cell_type": "code",
      "metadata": {
        "colab": {
          "base_uri": "https://localhost:8080/"
        },
        "id": "009e9706",
        "outputId": "e95a08f4-7669-4738-c7ff-33d50e66f6ac"
      },
      "source": [
        "import matplotlib.pyplot as plt\n",
        "\n",
        "import tensorflow as tf\n",
        "from tensorflow import keras\n",
        "from tensorflow.keras import layers\n",
        "import tensorflow_datasets as tfds\n",
        "from tensorflow.keras.models import Model\n",
        "\n",
        "import seaborn as sns\n"
      ],
      "execution_count": null,
      "outputs": [
        {
          "output_type": "stream",
          "text": [
            "time: 1.83 s (started: 2021-05-26 18:26:08 +00:00)\n"
          ],
          "name": "stdout"
        }
      ]
    },
    {
      "cell_type": "code",
      "metadata": {
        "colab": {
          "base_uri": "https://localhost:8080/"
        },
        "id": "rnmOYJgDYQRF",
        "outputId": "4ca42624-d420-4234-87b4-66afcd3bded8"
      },
      "source": [
        "# from tensorflow.keras import mixed_precision\n",
        "\n",
        "# policy = mixed_precision.Policy('mixed_float16')\n",
        "# mixed_precision.set_global_policy(policy)"
      ],
      "execution_count": null,
      "outputs": [
        {
          "output_type": "stream",
          "text": [
            "time: 694 µs (started: 2021-05-26 18:26:10 +00:00)\n"
          ],
          "name": "stdout"
        }
      ]
    },
    {
      "cell_type": "code",
      "metadata": {
        "colab": {
          "base_uri": "https://localhost:8080/"
        },
        "id": "f9db72aa",
        "outputId": "1d67415d-6bb6-4a70-cc76-91825baca8c9"
      },
      "source": [
        "(ds_train, ds_val, ds_test), ds_info = tfds.load(\n",
        "    'emnist/balanced',\n",
        "    data_dir = \"/content/drive/MyDrive/Colab Notebooks/Datasets/TensorflowDatasets\",\n",
        "    split=['train[:80%]', 'train[80%:]', 'test'],\n",
        "    \n",
        "    with_info=True,\n",
        "    as_supervised=True\n",
        ")"
      ],
      "execution_count": null,
      "outputs": [
        {
          "output_type": "stream",
          "text": [
            "time: 631 ms (started: 2021-05-26 18:26:10 +00:00)\n"
          ],
          "name": "stdout"
        }
      ]
    },
    {
      "cell_type": "code",
      "metadata": {
        "colab": {
          "base_uri": "https://localhost:8080/"
        },
        "id": "66861f42",
        "outputId": "9d9a7170-461b-4236-921d-4b3a4faad569"
      },
      "source": [
        "print(ds_info)"
      ],
      "execution_count": null,
      "outputs": [
        {
          "output_type": "stream",
          "text": [
            "tfds.core.DatasetInfo(\n",
            "    name='emnist',\n",
            "    version=3.0.0,\n",
            "    description='The EMNIST dataset is a set of handwritten character digits derived from the NIST Special Database 19 and converted to a 28x28 pixel image format and dataset structure that directly matches the MNIST dataset.\n",
            "\n",
            "Note: Like the original EMNIST data, images provided here are inverted horizontally and rotated 90 anti-clockwise. You can use `tf.transpose` within `ds.map` to convert the images to a human-friendlier format.',\n",
            "    homepage='https://www.nist.gov/itl/products-and-services/emnist-dataset',\n",
            "    features=FeaturesDict({\n",
            "        'image': Image(shape=(28, 28, 1), dtype=tf.uint8),\n",
            "        'label': ClassLabel(shape=(), dtype=tf.int64, num_classes=47),\n",
            "    }),\n",
            "    total_num_examples=131600,\n",
            "    splits={\n",
            "        'test': 18800,\n",
            "        'train': 112800,\n",
            "    },\n",
            "    supervised_keys=('image', 'label'),\n",
            "    citation=\"\"\"@article{cohen_afshar_tapson_schaik_2017,\n",
            "        title={EMNIST: Extending MNIST to handwritten letters},\n",
            "        DOI={10.1109/ijcnn.2017.7966217},\n",
            "        journal={2017 International Joint Conference on Neural Networks (IJCNN)},\n",
            "        author={Cohen, Gregory and Afshar, Saeed and Tapson, Jonathan and Schaik, Andre Van},\n",
            "        year={2017}\n",
            "    }\"\"\",\n",
            "    redistribution_info=,\n",
            ")\n",
            "\n",
            "time: 2.4 ms (started: 2021-05-26 18:26:10 +00:00)\n"
          ],
          "name": "stdout"
        }
      ]
    },
    {
      "cell_type": "code",
      "metadata": {
        "colab": {
          "base_uri": "https://localhost:8080/"
        },
        "id": "cd52afec",
        "outputId": "7a7c3af2-6176-4bf5-8c06-95a20f5b5c03"
      },
      "source": [
        "print(type(ds_train))"
      ],
      "execution_count": null,
      "outputs": [
        {
          "output_type": "stream",
          "text": [
            "<class 'tensorflow.python.data.ops.dataset_ops.PrefetchDataset'>\n",
            "time: 1.72 ms (started: 2021-05-26 18:26:10 +00:00)\n"
          ],
          "name": "stdout"
        }
      ]
    },
    {
      "cell_type": "code",
      "metadata": {
        "colab": {
          "base_uri": "https://localhost:8080/",
          "height": 877
        },
        "id": "f2637936",
        "outputId": "b6b3341e-5a9e-4ba0-a02c-3c1e125d48d7"
      },
      "source": [
        "fig = tfds.show_examples(ds_train, ds_info, rows = 5, cols = 5)"
      ],
      "execution_count": null,
      "outputs": [
        {
          "output_type": "display_data",
          "data": {
            "image/png": "[encoded data removed]",
            "text/plain": [
              "<Figure size 1080x1080 with 25 Axes>"
            ]
          },
          "metadata": {
            "tags": []
          }
        },
        {
          "output_type": "stream",
          "text": [
            "time: 1.01 s (started: 2021-05-26 18:26:10 +00:00)\n"
          ],
          "name": "stdout"
        }
      ]
    },
    {
      "cell_type": "code",
      "metadata": {
        "colab": {
          "base_uri": "https://localhost:8080/"
        },
        "id": "2b8ce7d7",
        "outputId": "42da264f-ff97-4bc0-815d-0c8ac6eed564"
      },
      "source": [
        "img_height = img_width = 128\n",
        "\n",
        "print(img_height)\n",
        "print(img_width)\n",
        "\n",
        "AUTOTUNE = tf.data.AUTOTUNE\n",
        "BATCH_SIZE = 64\n",
        "\n"
      ],
      "execution_count": null,
      "outputs": [
        {
          "output_type": "stream",
          "text": [
            "128\n",
            "128\n",
            "time: 3.24 ms (started: 2021-05-26 18:26:11 +00:00)\n"
          ],
          "name": "stdout"
        }
      ]
    },
    {
      "cell_type": "code",
      "metadata": {
        "colab": {
          "base_uri": "https://localhost:8080/"
        },
        "id": "969b1098",
        "outputId": "c5b14666-409b-46e7-e094-5b4d10b2a42a"
      },
      "source": [
        "def downscale_img(image, label):\n",
        "  image = tf.image.resize(image, [img_height, img_width])\n",
        "  # image = tf.reshape(-1,img_height*img_width)\n",
        "  return image, label\n",
        "\n",
        "\n",
        "\n",
        "ds_train = ds_train.map(downscale_img, num_parallel_calls=AUTOTUNE)\n",
        "ds_val = ds_val.map(downscale_img, num_parallel_calls=AUTOTUNE)\n",
        "ds_test = ds_test.map(downscale_img, num_parallel_calls=AUTOTUNE)\n"
      ],
      "execution_count": null,
      "outputs": [
        {
          "output_type": "stream",
          "text": [
            "time: 69 ms (started: 2021-05-26 18:26:11 +00:00)\n"
          ],
          "name": "stdout"
        }
      ]
    },
    {
      "cell_type": "code",
      "metadata": {
        "colab": {
          "base_uri": "https://localhost:8080/"
        },
        "id": "74a40daa",
        "outputId": "67df847a-1f31-4317-d6e6-9322f9da4bae"
      },
      "source": [
        "def normalize_img(image, label):\n",
        "    return tf.cast(image, tf.float32) / 255.0, label\n",
        "\n",
        "def configure_for_performance(ds):\n",
        "    ds = ds.map(normalize_img, num_parallel_calls = AUTOTUNE)\n",
        "    # ds = ds.cache(\"Cache\")\n",
        "    ds = ds.shuffle(buffer_size=256)\n",
        "    ds = ds.batch(BATCH_SIZE)\n",
        "    ds = ds.prefetch(buffer_size=AUTOTUNE)\n",
        "    return ds\n",
        "\n",
        "\n",
        "def configure_for_performance_3(ds):\n",
        "    ds = ds.map(normalize_img, num_parallel_calls = AUTOTUNE)\n",
        "    ds = ds.batch(BATCH_SIZE)\n",
        "    ds = ds.prefetch(buffer_size=AUTOTUNE)\n",
        "    return ds"
      ],
      "execution_count": null,
      "outputs": [
        {
          "output_type": "stream",
          "text": [
            "time: 8.68 ms (started: 2021-05-26 18:26:11 +00:00)\n"
          ],
          "name": "stdout"
        }
      ]
    },
    {
      "cell_type": "code",
      "metadata": {
        "colab": {
          "base_uri": "https://localhost:8080/"
        },
        "id": "1b926034",
        "outputId": "215ffb36-1936-40d2-db4e-c736a2bae346"
      },
      "source": [
        "ds_train = configure_for_performance(ds_train)\n",
        "ds_val = configure_for_performance_3(ds_val)\n",
        "ds_test = configure_for_performance_3(ds_test)\n"
      ],
      "execution_count": null,
      "outputs": [
        {
          "output_type": "stream",
          "text": [
            "time: 52.9 ms (started: 2021-05-26 18:26:11 +00:00)\n"
          ],
          "name": "stdout"
        }
      ]
    },
    {
      "cell_type": "code",
      "metadata": {
        "colab": {
          "base_uri": "https://localhost:8080/"
        },
        "id": "afa7bfc8",
        "outputId": "311298b9-dbb8-4c98-8abe-1ae1541a5048"
      },
      "source": [
        "for image, label in ds_train.take(1):\n",
        "  print(\"Image shape: \", image.numpy().shape)\n",
        "  print(\"Label: \", label.numpy())\n",
        "\n",
        "for image, label in ds_val.take(1):\n",
        "  print(\"Image shape: \", image.numpy().shape)\n",
        "  print(\"Label: \", label.numpy())\n",
        "    \n",
        "for image, label in ds_test.take(1):\n",
        "  print(\"Image shape: \", image.numpy().shape)\n",
        "  print(\"Label: \", label.numpy())\n"
      ],
      "execution_count": null,
      "outputs": [
        {
          "output_type": "stream",
          "text": [
            "Image shape:  (64, 128, 128, 1)\n",
            "Label:  [29 20 26  8 19 10 30  0  8 20 34 43 38 27 12 21  5 13  1 29 35  9 31 11\n",
            " 39 46 21 38  3 13 25 33  1 22  3 23  7  0  2 12  2 24 27 28 43 13 33 29\n",
            " 29 22 34 26  2 15 40  3 20 25  3 46 17 46  8  7]\n",
            "Image shape:  (64, 128, 128, 1)\n",
            "Label:  [ 8 37 23 18 23 29  9 23 30 39  5 35 17  9 34  7 29  4  7 35 44 22 24  0\n",
            " 32  4 19 40 32 36  0  7  6 24  3 45 27 14 43 46  1 21 38  2 12 28 26  5\n",
            " 34 45 43 45 20 26 16 38 16 23 11  5 42 38 26 30]\n",
            "Image shape:  (64, 128, 128, 1)\n",
            "Label:  [36 11 31 44 46 11  2 15 30 44 42 20 15 43 35 26 41 11 33 22 44 22 28 23\n",
            " 11 33 27 16 25 42 41 17 32 31 28 24 16 46 32 32  6 10  7 22 35 29  5  1\n",
            " 34 11  8 19 26 33 44 11  2  4  4 30  0 45 13 25]\n",
            "time: 378 ms (started: 2021-05-26 18:26:12 +00:00)\n"
          ],
          "name": "stdout"
        }
      ]
    },
    {
      "cell_type": "code",
      "metadata": {
        "colab": {
          "base_uri": "https://localhost:8080/"
        },
        "id": "2QJK99gk6qa6",
        "outputId": "5f58a5b4-21de-46e6-8e03-c71c3f19e772"
      },
      "source": [
        "import pandas as pd\n",
        "import matplotlib.pyplot as plt\n",
        "\n",
        "num_classes = ds_info.features[\"label\"].num_classes\n",
        "\n",
        "path = '/content/drive/MyDrive/Colab Notebooks/Notebooks/Models/Final/MobileNet_EMNIST/' #_Relu_L2_Regularizer_Dropout/'\n",
        "\n",
        "def model_plot(model_history, p, t):\n",
        "\n",
        "\n",
        "  img_path = p + t + \".png\" \n",
        "\n",
        "\n",
        "  pd.DataFrame(model_history.history).plot(figsize=(16, 10))\n",
        "  plt.grid(True)\n",
        "  plt.gca().set_ylim(0, 1.2)\n",
        "  plt.title(t)\n",
        "  plt.savefig(img_path)\n",
        "  plt.show()\n",
        "  \n",
        "\n"
      ],
      "execution_count": null,
      "outputs": [
        {
          "output_type": "stream",
          "text": [
            "time: 5.04 ms (started: 2021-05-26 18:26:12 +00:00)\n"
          ],
          "name": "stdout"
        }
      ]
    },
    {
      "cell_type": "code",
      "metadata": {
        "colab": {
          "base_uri": "https://localhost:8080/"
        },
        "id": "0ef3a3a4",
        "outputId": "e71ce7f1-008b-4fb3-af63-650a0bf6069d"
      },
      "source": [
        "last_layers = 1\n",
        "dropout = 1.0\n",
        "\n",
        "n = last_layers\n",
        "d = dropout\n",
        "layer = 2\n"
      ],
      "execution_count": null,
      "outputs": [
        {
          "output_type": "stream",
          "text": [
            "time: 2.74 ms (started: 2021-05-26 18:26:12 +00:00)\n"
          ],
          "name": "stdout"
        }
      ]
    },
    {
      "cell_type": "code",
      "metadata": {
        "colab": {
          "base_uri": "https://localhost:8080/"
        },
        "id": "8Gl2eUpnpjEP",
        "outputId": "14001b37-54d4-45b5-9249-16ce92af846d"
      },
      "source": [
        "# Creating model\n",
        "base_model = tf.keras.applications.MobileNet(\n",
        "    include_top=False, input_shape=(img_height, img_width, 1),\n",
        "    classes=num_classes, dropout=d, weights=None)\n",
        "\n",
        "b = -n\n",
        "\n",
        "m = base_model.layers[b].output\n",
        "\n",
        "m = layers.GlobalAveragePooling2D()(m)\n",
        "\n",
        "\n",
        "\n",
        "# output layer\n",
        "predictions = layers.Dense(num_classes, activation=\"softmax\")(m)\n",
        "\n",
        "base_model = Model(inputs = base_model.input, outputs = predictions)\n",
        "\n",
        "base_model.summary()"
      ],
      "execution_count": null,
      "outputs": [
        {
          "output_type": "stream",
          "text": [
            "Model: \"model\"\n",
            "_________________________________________________________________\n",
            "Layer (type)                 Output Shape              Param #   \n",
            "=================================================================\n",
            "input_1 (InputLayer)         [(None, 128, 128, 1)]     0         \n",
            "_________________________________________________________________\n",
            "conv1 (Conv2D)               (None, 64, 64, 32)        288       \n",
            "_________________________________________________________________\n",
            "conv1_bn (BatchNormalization (None, 64, 64, 32)        128       \n",
            "_________________________________________________________________\n",
            "conv1_relu (ReLU)            (None, 64, 64, 32)        0         \n",
            "_________________________________________________________________\n",
            "conv_dw_1 (DepthwiseConv2D)  (None, 64, 64, 32)        288       \n",
            "_________________________________________________________________\n",
            "conv_dw_1_bn (BatchNormaliza (None, 64, 64, 32)        128       \n",
            "_________________________________________________________________\n",
            "conv_dw_1_relu (ReLU)        (None, 64, 64, 32)        0         \n",
            "_________________________________________________________________\n",
            "conv_pw_1 (Conv2D)           (None, 64, 64, 64)        2048      \n",
            "_________________________________________________________________\n",
            "conv_pw_1_bn (BatchNormaliza (None, 64, 64, 64)        256       \n",
            "_________________________________________________________________\n",
            "conv_pw_1_relu (ReLU)        (None, 64, 64, 64)        0         \n",
            "_________________________________________________________________\n",
            "conv_pad_2 (ZeroPadding2D)   (None, 65, 65, 64)        0         \n",
            "_________________________________________________________________\n",
            "conv_dw_2 (DepthwiseConv2D)  (None, 32, 32, 64)        576       \n",
            "_________________________________________________________________\n",
            "conv_dw_2_bn (BatchNormaliza (None, 32, 32, 64)        256       \n",
            "_________________________________________________________________\n",
            "conv_dw_2_relu (ReLU)        (None, 32, 32, 64)        0         \n",
            "_________________________________________________________________\n",
            "conv_pw_2 (Conv2D)           (None, 32, 32, 128)       8192      \n",
            "_________________________________________________________________\n",
            "conv_pw_2_bn (BatchNormaliza (None, 32, 32, 128)       512       \n",
            "_________________________________________________________________\n",
            "conv_pw_2_relu (ReLU)        (None, 32, 32, 128)       0         \n",
            "_________________________________________________________________\n",
            "conv_dw_3 (DepthwiseConv2D)  (None, 32, 32, 128)       1152      \n",
            "_________________________________________________________________\n",
            "conv_dw_3_bn (BatchNormaliza (None, 32, 32, 128)       512       \n",
            "_________________________________________________________________\n",
            "conv_dw_3_relu (ReLU)        (None, 32, 32, 128)       0         \n",
            "_________________________________________________________________\n",
            "conv_pw_3 (Conv2D)           (None, 32, 32, 128)       16384     \n",
            "_________________________________________________________________\n",
            "conv_pw_3_bn (BatchNormaliza (None, 32, 32, 128)       512       \n",
            "_________________________________________________________________\n",
            "conv_pw_3_relu (ReLU)        (None, 32, 32, 128)       0         \n",
            "_________________________________________________________________\n",
            "conv_pad_4 (ZeroPadding2D)   (None, 33, 33, 128)       0         \n",
            "_________________________________________________________________\n",
            "conv_dw_4 (DepthwiseConv2D)  (None, 16, 16, 128)       1152      \n",
            "_________________________________________________________________\n",
            "conv_dw_4_bn (BatchNormaliza (None, 16, 16, 128)       512       \n",
            "_________________________________________________________________\n",
            "conv_dw_4_relu (ReLU)        (None, 16, 16, 128)       0         \n",
            "_________________________________________________________________\n",
            "conv_pw_4 (Conv2D)           (None, 16, 16, 256)       32768     \n",
            "_________________________________________________________________\n",
            "conv_pw_4_bn (BatchNormaliza (None, 16, 16, 256)       1024      \n",
            "_________________________________________________________________\n",
            "conv_pw_4_relu (ReLU)        (None, 16, 16, 256)       0         \n",
            "_________________________________________________________________\n",
            "conv_dw_5 (DepthwiseConv2D)  (None, 16, 16, 256)       2304      \n",
            "_________________________________________________________________\n",
            "conv_dw_5_bn (BatchNormaliza (None, 16, 16, 256)       1024      \n",
            "_________________________________________________________________\n",
            "conv_dw_5_relu (ReLU)        (None, 16, 16, 256)       0         \n",
            "_________________________________________________________________\n",
            "conv_pw_5 (Conv2D)           (None, 16, 16, 256)       65536     \n",
            "_________________________________________________________________\n",
            "conv_pw_5_bn (BatchNormaliza (None, 16, 16, 256)       1024      \n",
            "_________________________________________________________________\n",
            "conv_pw_5_relu (ReLU)        (None, 16, 16, 256)       0         \n",
            "_________________________________________________________________\n",
            "conv_pad_6 (ZeroPadding2D)   (None, 17, 17, 256)       0         \n",
            "_________________________________________________________________\n",
            "conv_dw_6 (DepthwiseConv2D)  (None, 8, 8, 256)         2304      \n",
            "_________________________________________________________________\n",
            "conv_dw_6_bn (BatchNormaliza (None, 8, 8, 256)         1024      \n",
            "_________________________________________________________________\n",
            "conv_dw_6_relu (ReLU)        (None, 8, 8, 256)         0         \n",
            "_________________________________________________________________\n",
            "conv_pw_6 (Conv2D)           (None, 8, 8, 512)         131072    \n",
            "_________________________________________________________________\n",
            "conv_pw_6_bn (BatchNormaliza (None, 8, 8, 512)         2048      \n",
            "_________________________________________________________________\n",
            "conv_pw_6_relu (ReLU)        (None, 8, 8, 512)         0         \n",
            "_________________________________________________________________\n",
            "conv_dw_7 (DepthwiseConv2D)  (None, 8, 8, 512)         4608      \n",
            "_________________________________________________________________\n",
            "conv_dw_7_bn (BatchNormaliza (None, 8, 8, 512)         2048      \n",
            "_________________________________________________________________\n",
            "conv_dw_7_relu (ReLU)        (None, 8, 8, 512)         0         \n",
            "_________________________________________________________________\n",
            "conv_pw_7 (Conv2D)           (None, 8, 8, 512)         262144    \n",
            "_________________________________________________________________\n",
            "conv_pw_7_bn (BatchNormaliza (None, 8, 8, 512)         2048      \n",
            "_________________________________________________________________\n",
            "conv_pw_7_relu (ReLU)        (None, 8, 8, 512)         0         \n",
            "_________________________________________________________________\n",
            "conv_dw_8 (DepthwiseConv2D)  (None, 8, 8, 512)         4608      \n",
            "_________________________________________________________________\n",
            "conv_dw_8_bn (BatchNormaliza (None, 8, 8, 512)         2048      \n",
            "_________________________________________________________________\n",
            "conv_dw_8_relu (ReLU)        (None, 8, 8, 512)         0         \n",
            "_________________________________________________________________\n",
            "conv_pw_8 (Conv2D)           (None, 8, 8, 512)         262144    \n",
            "_________________________________________________________________\n",
            "conv_pw_8_bn (BatchNormaliza (None, 8, 8, 512)         2048      \n",
            "_________________________________________________________________\n",
            "conv_pw_8_relu (ReLU)        (None, 8, 8, 512)         0         \n",
            "_________________________________________________________________\n",
            "conv_dw_9 (DepthwiseConv2D)  (None, 8, 8, 512)         4608      \n",
            "_________________________________________________________________\n",
            "conv_dw_9_bn (BatchNormaliza (None, 8, 8, 512)         2048      \n",
            "_________________________________________________________________\n",
            "conv_dw_9_relu (ReLU)        (None, 8, 8, 512)         0         \n",
            "_________________________________________________________________\n",
            "conv_pw_9 (Conv2D)           (None, 8, 8, 512)         262144    \n",
            "_________________________________________________________________\n",
            "conv_pw_9_bn (BatchNormaliza (None, 8, 8, 512)         2048      \n",
            "_________________________________________________________________\n",
            "conv_pw_9_relu (ReLU)        (None, 8, 8, 512)         0         \n",
            "_________________________________________________________________\n",
            "conv_dw_10 (DepthwiseConv2D) (None, 8, 8, 512)         4608      \n",
            "_________________________________________________________________\n",
            "conv_dw_10_bn (BatchNormaliz (None, 8, 8, 512)         2048      \n",
            "_________________________________________________________________\n",
            "conv_dw_10_relu (ReLU)       (None, 8, 8, 512)         0         \n",
            "_________________________________________________________________\n",
            "conv_pw_10 (Conv2D)          (None, 8, 8, 512)         262144    \n",
            "_________________________________________________________________\n",
            "conv_pw_10_bn (BatchNormaliz (None, 8, 8, 512)         2048      \n",
            "_________________________________________________________________\n",
            "conv_pw_10_relu (ReLU)       (None, 8, 8, 512)         0         \n",
            "_________________________________________________________________\n",
            "conv_dw_11 (DepthwiseConv2D) (None, 8, 8, 512)         4608      \n",
            "_________________________________________________________________\n",
            "conv_dw_11_bn (BatchNormaliz (None, 8, 8, 512)         2048      \n",
            "_________________________________________________________________\n",
            "conv_dw_11_relu (ReLU)       (None, 8, 8, 512)         0         \n",
            "_________________________________________________________________\n",
            "conv_pw_11 (Conv2D)          (None, 8, 8, 512)         262144    \n",
            "_________________________________________________________________\n",
            "conv_pw_11_bn (BatchNormaliz (None, 8, 8, 512)         2048      \n",
            "_________________________________________________________________\n",
            "conv_pw_11_relu (ReLU)       (None, 8, 8, 512)         0         \n",
            "_________________________________________________________________\n",
            "conv_pad_12 (ZeroPadding2D)  (None, 9, 9, 512)         0         \n",
            "_________________________________________________________________\n",
            "conv_dw_12 (DepthwiseConv2D) (None, 4, 4, 512)         4608      \n",
            "_________________________________________________________________\n",
            "conv_dw_12_bn (BatchNormaliz (None, 4, 4, 512)         2048      \n",
            "_________________________________________________________________\n",
            "conv_dw_12_relu (ReLU)       (None, 4, 4, 512)         0         \n",
            "_________________________________________________________________\n",
            "conv_pw_12 (Conv2D)          (None, 4, 4, 1024)        524288    \n",
            "_________________________________________________________________\n",
            "conv_pw_12_bn (BatchNormaliz (None, 4, 4, 1024)        4096      \n",
            "_________________________________________________________________\n",
            "conv_pw_12_relu (ReLU)       (None, 4, 4, 1024)        0         \n",
            "_________________________________________________________________\n",
            "conv_dw_13 (DepthwiseConv2D) (None, 4, 4, 1024)        9216      \n",
            "_________________________________________________________________\n",
            "conv_dw_13_bn (BatchNormaliz (None, 4, 4, 1024)        4096      \n",
            "_________________________________________________________________\n",
            "conv_dw_13_relu (ReLU)       (None, 4, 4, 1024)        0         \n",
            "_________________________________________________________________\n",
            "conv_pw_13 (Conv2D)          (None, 4, 4, 1024)        1048576   \n",
            "_________________________________________________________________\n",
            "conv_pw_13_bn (BatchNormaliz (None, 4, 4, 1024)        4096      \n",
            "_________________________________________________________________\n",
            "conv_pw_13_relu (ReLU)       (None, 4, 4, 1024)        0         \n",
            "_________________________________________________________________\n",
            "global_average_pooling2d (Gl (None, 1024)              0         \n",
            "_________________________________________________________________\n",
            "dense (Dense)                (None, 47)                48175     \n",
            "=================================================================\n",
            "Total params: 3,276,463\n",
            "Trainable params: 3,254,575\n",
            "Non-trainable params: 21,888\n",
            "_________________________________________________________________\n",
            "time: 467 ms (started: 2021-05-26 18:26:12 +00:00)\n"
          ],
          "name": "stdout"
        }
      ]
    },
    {
      "cell_type": "code",
      "metadata": {
        "colab": {
          "base_uri": "https://localhost:8080/",
          "height": 1000
        },
        "id": "I1KD6WBom3WM",
        "outputId": "807e5567-1fd4-4aa5-e889-56970aa36d0b"
      },
      "source": [
        "from tensorflow.keras import regularizers\n",
        "from tensorflow.keras.optimizers import Adamax\n",
        "\n",
        "\n",
        "activation_funcntion = 'relu'\n",
        "af = activation_funcntion\n",
        "regularizer_rate = 0.05\n",
        "\n",
        "# neurons = [256, 512]\n",
        "neurons = [512]\n",
        "\n",
        "for i in range(len(neurons)):\n",
        "  \n",
        "  model = base_model\n",
        "  b = -(n+1)\n",
        "\n",
        "  x = model.layers[b].output\n",
        "\n",
        "\n",
        "  if layer >= 1:\n",
        "    x = layers.Dense(neurons[i], activation = af,\n",
        "                     kernel_regularizer=regularizers.L2(regularizer_rate)\n",
        "                    )(x)\n",
        "    print(\"L1\")\n",
        "\n",
        "    if layer >= 2:\n",
        "      x = layers.Dense(neurons[i], activation = af,\n",
        "                       kernel_regularizer=regularizers.L2(regularizer_rate)\n",
        "                      )(x)\n",
        "      x = layers.Dropout(0.2)(x)\n",
        "      print(\"L2\")\n",
        "      \n",
        "\n",
        "  predictions2 = layers.Dense(num_classes, activation=\"softmax\")(x)\n",
        "\n",
        "  model = Model(inputs = model.input, outputs = predictions2)\n",
        "\n",
        "  # model.summary()\n",
        "\n",
        "\n",
        "  # Model compilation\n",
        "  model.compile(loss='sparse_categorical_crossentropy',\n",
        "                optimizer=Adamax(0.0001),\n",
        "                metrics=['accuracy'])\n",
        "\n",
        "\n",
        "  callback = keras.callbacks.EarlyStopping(monitor='val_accuracy', \n",
        "                                            patience=5, restore_best_weights=True)\n",
        "\n",
        "  # Training model\n",
        "  model_history = model.fit(ds_train,\n",
        "                            epochs=30,\n",
        "                            validation_data=ds_val,\n",
        "                            callbacks=[callback],\n",
        "                            verbose=1)\n",
        "\n",
        "\n",
        "  save_path = path + 'moled_HL_' + str(neurons[i])\n",
        "\n",
        "  model.save(save_path)\n",
        "\n",
        "  s = \"Last \" + str(n-1) + \" layers were removed(neurons = \" + str(neurons[i]) + \")\"\n",
        "\n",
        "  model_plot(model_history, path, s)\n",
        "\n",
        "  loss_value, acc = model.evaluate(ds_test)\n",
        "\n",
        "  print(f\"Last {(n-1)} layers were removed\")\n",
        "  print(f\"Test Accuracy: {(acc*100):.3f}%\")\n",
        "  print(f\"Loss: {loss_value:.3f}%\")\n",
        "  \n",
        "  print(\"\\n\\n\")"
      ],
      "execution_count": null,
      "outputs": [
        {
          "output_type": "stream",
          "text": [
            "L1\n",
            "L2\n",
            "Epoch 1/30\n",
            "1410/1410 [==============================] - 137s 95ms/step - loss: 17.7623 - accuracy: 0.1092 - val_loss: 4.3374 - val_accuracy: 0.2341\n",
            "Epoch 2/30\n",
            "1410/1410 [==============================] - 133s 95ms/step - loss: 3.2209 - accuracy: 0.3387 - val_loss: 2.2606 - val_accuracy: 0.5645\n",
            "Epoch 3/30\n",
            "1410/1410 [==============================] - 135s 95ms/step - loss: 1.9057 - accuracy: 0.6303 - val_loss: 1.4761 - val_accuracy: 0.7497\n",
            "Epoch 4/30\n",
            "1410/1410 [==============================] - 135s 96ms/step - loss: 1.3856 - accuracy: 0.7513 - val_loss: 1.1859 - val_accuracy: 0.8023\n",
            "Epoch 5/30\n",
            "1410/1410 [==============================] - 133s 95ms/step - loss: 1.1384 - accuracy: 0.8051 - val_loss: 1.0444 - val_accuracy: 0.8202\n",
            "Epoch 6/30\n",
            "1410/1410 [==============================] - 133s 94ms/step - loss: 0.9887 - accuracy: 0.8367 - val_loss: 0.9426 - val_accuracy: 0.8391\n",
            "Epoch 7/30\n",
            "1410/1410 [==============================] - 133s 94ms/step - loss: 0.8774 - accuracy: 0.8580 - val_loss: 0.8907 - val_accuracy: 0.8412\n",
            "Epoch 8/30\n",
            "1410/1410 [==============================] - 133s 94ms/step - loss: 0.7872 - accuracy: 0.8779 - val_loss: 0.8361 - val_accuracy: 0.8512\n",
            "Epoch 9/30\n",
            "1410/1410 [==============================] - 133s 94ms/step - loss: 0.7152 - accuracy: 0.8930 - val_loss: 0.7993 - val_accuracy: 0.8551\n",
            "Epoch 10/30\n",
            "1410/1410 [==============================] - 133s 95ms/step - loss: 0.6515 - accuracy: 0.9072 - val_loss: 0.7796 - val_accuracy: 0.8557\n",
            "Epoch 11/30\n",
            "1410/1410 [==============================] - 133s 94ms/step - loss: 0.5940 - accuracy: 0.9206 - val_loss: 0.7702 - val_accuracy: 0.8516\n",
            "Epoch 12/30\n",
            "1410/1410 [==============================] - 133s 94ms/step - loss: 0.5436 - accuracy: 0.9337 - val_loss: 0.7625 - val_accuracy: 0.8509\n",
            "Epoch 13/30\n",
            "1410/1410 [==============================] - 132s 94ms/step - loss: 0.4996 - accuracy: 0.9437 - val_loss: 0.7525 - val_accuracy: 0.8512\n",
            "Epoch 14/30\n",
            "1410/1410 [==============================] - 133s 94ms/step - loss: 0.4587 - accuracy: 0.9542 - val_loss: 0.7533 - val_accuracy: 0.8484\n",
            "Epoch 15/30\n",
            "1410/1410 [==============================] - 133s 94ms/step - loss: 0.4220 - accuracy: 0.9635 - val_loss: 0.7469 - val_accuracy: 0.8515\n",
            "INFO:tensorflow:Assets written to: /content/drive/MyDrive/Colab Notebooks/Notebooks/Models/Final/MobileNet_EMNIST/moled_HL_512/assets\n"
          ],
          "name": "stdout"
        },
        {
          "output_type": "stream",
          "text": [
            "INFO:tensorflow:Assets written to: /content/drive/MyDrive/Colab Notebooks/Notebooks/Models/Final/MobileNet_EMNIST/moled_HL_512/assets\n"
          ],
          "name": "stderr"
        },
        {
          "output_type": "display_data",
          "data": {
            "image/png": "[encoded data removed]",
            "text/plain": [
              "<Figure size 1152x720 with 1 Axes>"
            ]
          },
          "metadata": {
            "tags": [],
            "needs_background": "light"
          }
        },
        {
          "output_type": "stream",
          "text": [
            "294/294 [==============================] - 5s 16ms/step - loss: 0.8061 - accuracy: 0.8489\n",
            "Last 0 layers were removed\n",
            "Test Accuracy: 84.888%\n",
            "Loss: 0.806%\n",
            "\n",
            "\n",
            "\n",
            "time: 34min 44s (started: 2021-05-26 18:26:12 +00:00)\n"
          ],
          "name": "stdout"
        }
      ]
    },
    {
      "cell_type": "code",
      "metadata": {
        "id": "i7wRfPpD5t-L"
      },
      "source": [
        ""
      ],
      "execution_count": null,
      "outputs": []
    }
  ]
}