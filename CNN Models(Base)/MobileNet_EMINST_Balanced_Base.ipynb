{
  "nbformat": 4,
  "nbformat_minor": 0,
  "metadata": {
    "accelerator": "GPU",
    "colab": {
      "name": "MobileNet-EMINST_Balanced-Base.ipynb",
      "provenance": [],
      "collapsed_sections": []
    },
    "kernelspec": {
      "display_name": "Python 3",
      "name": "python3"
    },
    "language_info": {
      "name": "python"
    }
  },
  "cells": [
    {
      "cell_type": "code",
      "metadata": {
        "colab": {
          "base_uri": "https://localhost:8080/"
        },
        "id": "009e9706",
        "outputId": "744b4568-a1d0-4b38-b568-748dd3cf4e03"
      },
      "source": [
        "import tensorflow as tf\n",
        "from tensorflow import keras\n",
        "from tensorflow.keras import layers\n",
        "import tensorflow_datasets as tfds\n",
        "from tensorflow.keras.models import Model\n",
        "\n",
        "import seaborn as sns\n",
        "\n",
        "import pandas as pd\n",
        "import matplotlib.pyplot as plt\n"
      ],
      "execution_count": null,
      "outputs": [
        {
          "output_type": "stream",
          "text": [
            "time: 2.49 s (started: 2021-05-25 22:00:07 +00:00)\n"
          ],
          "name": "stdout"
        }
      ]
    },
    {
      "cell_type": "code",
      "metadata": {
        "colab": {
          "base_uri": "https://localhost:8080/"
        },
        "id": "rnmOYJgDYQRF",
        "outputId": "84a4b68e-7294-4341-9eb2-7317a2c3d2db"
      },
      "source": [
        "# from tensorflow.keras import mixed_precision\n",
        "\n",
        "# policy = mixed_precision.Policy('mixed_float16')\n",
        "# mixed_precision.set_global_policy(policy)"
      ],
      "execution_count": null,
      "outputs": [
        {
          "output_type": "stream",
          "text": [
            "time: 833 µs (started: 2021-05-25 22:00:09 +00:00)\n"
          ],
          "name": "stdout"
        }
      ]
    },
    {
      "cell_type": "code",
      "metadata": {
        "colab": {
          "base_uri": "https://localhost:8080/"
        },
        "id": "f9db72aa",
        "outputId": "fde3ab21-d7d7-4e52-fe17-a36be3cb2b42"
      },
      "source": [
        "(ds_train, ds_val, ds_test), ds_info = tfds.load(\n",
        "    'emnist/balanced',\n",
        "    data_dir = \"/content/drive/MyDrive/Colab Notebooks/Datasets/TensorflowDatasets\",\n",
        "    split=['train[:80%]', 'train[80%:]', 'test'],\n",
        "    \n",
        "    with_info=True,\n",
        "    as_supervised=True\n",
        ")\n",
        "\n"
      ],
      "execution_count": null,
      "outputs": [
        {
          "output_type": "stream",
          "text": [
            "time: 5.89 s (started: 2021-05-25 22:00:09 +00:00)\n"
          ],
          "name": "stdout"
        }
      ]
    },
    {
      "cell_type": "code",
      "metadata": {
        "colab": {
          "base_uri": "https://localhost:8080/"
        },
        "id": "66861f42",
        "outputId": "427b6bc8-8d9b-42a9-e475-77e48bd0c680"
      },
      "source": [
        "print(ds_info)"
      ],
      "execution_count": null,
      "outputs": [
        {
          "output_type": "stream",
          "text": [
            "tfds.core.DatasetInfo(\n",
            "    name='emnist',\n",
            "    version=3.0.0,\n",
            "    description='The EMNIST dataset is a set of handwritten character digits derived from the NIST Special Database 19 and converted to a 28x28 pixel image format and dataset structure that directly matches the MNIST dataset.\n",
            "\n",
            "Note: Like the original EMNIST data, images provided here are inverted horizontally and rotated 90 anti-clockwise. You can use `tf.transpose` within `ds.map` to convert the images to a human-friendlier format.',\n",
            "    homepage='https://www.nist.gov/itl/products-and-services/emnist-dataset',\n",
            "    features=FeaturesDict({\n",
            "        'image': Image(shape=(28, 28, 1), dtype=tf.uint8),\n",
            "        'label': ClassLabel(shape=(), dtype=tf.int64, num_classes=47),\n",
            "    }),\n",
            "    total_num_examples=131600,\n",
            "    splits={\n",
            "        'test': 18800,\n",
            "        'train': 112800,\n",
            "    },\n",
            "    supervised_keys=('image', 'label'),\n",
            "    citation=\"\"\"@article{cohen_afshar_tapson_schaik_2017,\n",
            "        title={EMNIST: Extending MNIST to handwritten letters},\n",
            "        DOI={10.1109/ijcnn.2017.7966217},\n",
            "        journal={2017 International Joint Conference on Neural Networks (IJCNN)},\n",
            "        author={Cohen, Gregory and Afshar, Saeed and Tapson, Jonathan and Schaik, Andre Van},\n",
            "        year={2017}\n",
            "    }\"\"\",\n",
            "    redistribution_info=,\n",
            ")\n",
            "\n",
            "time: 1.92 ms (started: 2021-05-25 22:00:15 +00:00)\n"
          ],
          "name": "stdout"
        }
      ]
    },
    {
      "cell_type": "code",
      "metadata": {
        "colab": {
          "base_uri": "https://localhost:8080/"
        },
        "id": "cd52afec",
        "outputId": "36499b08-be61-4784-9db6-618ad73632a3"
      },
      "source": [
        "print(type(ds_train))"
      ],
      "execution_count": null,
      "outputs": [
        {
          "output_type": "stream",
          "text": [
            "<class 'tensorflow.python.data.ops.dataset_ops.PrefetchDataset'>\n",
            "time: 1.33 ms (started: 2021-05-25 22:00:15 +00:00)\n"
          ],
          "name": "stdout"
        }
      ]
    },
    {
      "cell_type": "code",
      "metadata": {
        "colab": {
          "base_uri": "https://localhost:8080/"
        },
        "id": "91009f32",
        "outputId": "c454da6d-eea3-41c5-d618-e6b65c1ba40b"
      },
      "source": [
        "# get_label_name = ds_info.features['label'].int2str\n",
        "\n",
        "# image, label = next(iter(ds_train))\n",
        "# _ = plt.imshow(image)\n",
        "# _ = plt.title(get_label_name(label))"
      ],
      "execution_count": null,
      "outputs": [
        {
          "output_type": "stream",
          "text": [
            "time: 1.67 ms (started: 2021-05-25 22:00:15 +00:00)\n"
          ],
          "name": "stdout"
        }
      ]
    },
    {
      "cell_type": "code",
      "metadata": {
        "colab": {
          "base_uri": "https://localhost:8080/",
          "height": 877
        },
        "id": "f2637936",
        "outputId": "f84b4733-8ba1-4c0a-ea00-6bd97707373f"
      },
      "source": [
        "fig = tfds.show_examples(ds_train, ds_info, rows = 5, cols = 5)"
      ],
      "execution_count": null,
      "outputs": [
        {
          "output_type": "display_data",
          "data": {
            "image/png": "[encoded data removed]",
            "text/plain": [
              "<Figure size 1080x1080 with 25 Axes>"
            ]
          },
          "metadata": {
            "tags": []
          }
        },
        {
          "output_type": "stream",
          "text": [
            "time: 2.2 s (started: 2021-05-25 22:00:15 +00:00)\n"
          ],
          "name": "stdout"
        }
      ]
    },
    {
      "cell_type": "code",
      "metadata": {
        "colab": {
          "base_uri": "https://localhost:8080/"
        },
        "id": "2b8ce7d7",
        "outputId": "a4a3c797-79ec-4a68-9f09-a03c944188c3"
      },
      "source": [
        "img_height = img_width = 32\n",
        "\n",
        "print(img_height)\n",
        "print(img_width)\n",
        "\n",
        "\n",
        "AUTOTUNE = tf.data.AUTOTUNE\n",
        "BATCH_SIZE = 64\n",
        "\n",
        "\n",
        "\n",
        "\n",
        "\n"
      ],
      "execution_count": null,
      "outputs": [
        {
          "output_type": "stream",
          "text": [
            "32\n",
            "32\n",
            "time: 3.79 ms (started: 2021-05-25 22:00:17 +00:00)\n"
          ],
          "name": "stdout"
        }
      ]
    },
    {
      "cell_type": "code",
      "metadata": {
        "colab": {
          "base_uri": "https://localhost:8080/"
        },
        "id": "969b1098",
        "outputId": "6fccce7d-600d-4c12-df0c-25f9ecaa54f4"
      },
      "source": [
        "def downscale_img(image, label):\n",
        "  image = tf.image.resize(image, [img_height, img_width])\n",
        "  # image = tf.reshape(-1,img_height*img_width)\n",
        "  return image, label\n",
        "\n",
        "\n",
        "\n",
        "ds_train = ds_train.map(downscale_img, num_parallel_calls=AUTOTUNE)\n",
        "ds_val = ds_val.map(downscale_img, num_parallel_calls=AUTOTUNE)\n",
        "ds_test = ds_test.map(downscale_img, num_parallel_calls=AUTOTUNE)\n"
      ],
      "execution_count": null,
      "outputs": [
        {
          "output_type": "stream",
          "text": [
            "time: 55.5 ms (started: 2021-05-25 22:00:17 +00:00)\n"
          ],
          "name": "stdout"
        }
      ]
    },
    {
      "cell_type": "code",
      "metadata": {
        "colab": {
          "base_uri": "https://localhost:8080/"
        },
        "id": "74a40daa",
        "outputId": "085ba6c0-0720-4a82-bc70-fd4a84be66ad"
      },
      "source": [
        "def normalize_img(image, label):\n",
        "    return tf.cast(image, tf.float32) / 255.0, label\n",
        "\n",
        "def configure_for_performance(ds):\n",
        "    ds = ds.map(normalize_img, num_parallel_calls = AUTOTUNE)\n",
        "    # ds = ds.cache(\"Cache\")\n",
        "    ds = ds.shuffle(buffer_size=256)\n",
        "    ds = ds.batch(BATCH_SIZE)\n",
        "    ds = ds.prefetch(buffer_size=AUTOTUNE)\n",
        "    return ds\n",
        "\n",
        "# def configure_for_performance_2(ds):\n",
        "#     ds = ds.map(normalize_img, num_parallel_calls = AUTOTUNE)\n",
        "#     ds = ds.cache(\"Cache\")\n",
        "#     ds = ds.shuffle(buffer_size=256)\n",
        "#     ds = ds.batch(BATCH_SIZE)\n",
        "#     ds = ds.prefetch(buffer_size=AUTOTUNE)\n",
        "#     return ds\n",
        "\n",
        "def configure_for_performance_3(ds):\n",
        "    ds = ds.map(normalize_img, num_parallel_calls = AUTOTUNE)\n",
        "    ds = ds.batch(BATCH_SIZE)\n",
        "    ds = ds.prefetch(buffer_size=AUTOTUNE)\n",
        "    return ds"
      ],
      "execution_count": null,
      "outputs": [
        {
          "output_type": "stream",
          "text": [
            "time: 10.4 ms (started: 2021-05-25 22:00:17 +00:00)\n"
          ],
          "name": "stdout"
        }
      ]
    },
    {
      "cell_type": "code",
      "metadata": {
        "colab": {
          "base_uri": "https://localhost:8080/"
        },
        "id": "1b926034",
        "outputId": "cebfcd72-e3a5-4cf4-f580-b3811645138f"
      },
      "source": [
        "ds_train = configure_for_performance(ds_train)\n",
        "ds_val = configure_for_performance_3(ds_val)\n",
        "ds_test = configure_for_performance_3(ds_test)\n"
      ],
      "execution_count": null,
      "outputs": [
        {
          "output_type": "stream",
          "text": [
            "time: 52.1 ms (started: 2021-05-25 22:00:17 +00:00)\n"
          ],
          "name": "stdout"
        }
      ]
    },
    {
      "cell_type": "code",
      "metadata": {
        "id": "1FkkoRL4EkJw"
      },
      "source": [
        ""
      ],
      "execution_count": null,
      "outputs": []
    },
    {
      "cell_type": "code",
      "metadata": {
        "colab": {
          "base_uri": "https://localhost:8080/"
        },
        "id": "afa7bfc8",
        "outputId": "8671bab2-d4f3-40a2-fccd-3eac66b9567c"
      },
      "source": [
        "for image, label in ds_train.take(1):\n",
        "  print(\"Image shape: \", image.numpy().shape)\n",
        "  print(\"Label: \", label.numpy())\n",
        "\n",
        "for image, label in ds_val.take(1):\n",
        "  print(\"Image shape: \", image.numpy().shape)\n",
        "  print(\"Label: \", label.numpy())\n",
        "    \n",
        "for image, label in ds_test.take(1):\n",
        "  print(\"Image shape: \", image.numpy().shape)\n",
        "  print(\"Label: \", label.numpy())\n"
      ],
      "execution_count": null,
      "outputs": [
        {
          "output_type": "stream",
          "text": [
            "Image shape:  (64, 32, 32, 1)\n",
            "Label:  [20 31  1  5 13 37 43  8 25 35 25  0  3  7 36 16 12 33 46  3  8 29 34  6\n",
            "  1 21 29 31 29 22 10 22 34  5 31 36  3  2  5 41 23  7 23 25  3 16 19 27\n",
            "  2 12 17 24 30 11 13 29 39 37 30 40 29 43 27 28]\n",
            "Image shape:  (64, 32, 32, 1)\n",
            "Label:  [ 8 37 23 18 23 29  9 23 30 39  5 35 17  9 34  7 29  4  7 35 44 22 24  0\n",
            " 32  4 19 40 32 36  0  7  6 24  3 45 27 14 43 46  1 21 38  2 12 28 26  5\n",
            " 34 45 43 45 20 26 16 38 16 23 11  5 42 38 26 30]\n",
            "Image shape:  (64, 32, 32, 1)\n",
            "Label:  [36 11 31 44 46 11  2 15 30 44 42 20 15 43 35 26 41 11 33 22 44 22 28 23\n",
            " 11 33 27 16 25 42 41 17 32 31 28 24 16 46 32 32  6 10  7 22 35 29  5  1\n",
            " 34 11  8 19 26 33 44 11  2  4  4 30  0 45 13 25]\n",
            "time: 3.94 s (started: 2021-05-25 22:00:17 +00:00)\n"
          ],
          "name": "stdout"
        }
      ]
    },
    {
      "cell_type": "code",
      "metadata": {
        "colab": {
          "base_uri": "https://localhost:8080/"
        },
        "id": "2QJK99gk6qa6",
        "outputId": "06e069b1-5f88-40d8-df92-8ebaad198147"
      },
      "source": [
        "num_classes = ds_info.features[\"label\"].num_classes\n",
        "\n",
        "\n",
        "# Creating model\n",
        "model = tf.keras.applications.MobileNet(\n",
        "    include_top=False, input_shape=(img_height, img_width, 1),\n",
        "    classes=num_classes, weights=None) #, pooling='avg')\n",
        "\n",
        "\n",
        "x = model.output\n",
        "\n",
        "x = layers.GlobalAveragePooling2D()(x)\n",
        "\n",
        "# output layer\n",
        "predictions = layers.Dense(num_classes, activation=\"softmax\")(x)\n",
        "\n",
        "model = Model(inputs = model.input, outputs = predictions)\n",
        "  \n",
        "model.summary()"
      ],
      "execution_count": null,
      "outputs": [
        {
          "output_type": "stream",
          "text": [
            "Model: \"model\"\n",
            "_________________________________________________________________\n",
            "Layer (type)                 Output Shape              Param #   \n",
            "=================================================================\n",
            "input_1 (InputLayer)         [(None, 32, 32, 1)]       0         \n",
            "_________________________________________________________________\n",
            "conv1 (Conv2D)               (None, 16, 16, 32)        288       \n",
            "_________________________________________________________________\n",
            "conv1_bn (BatchNormalization (None, 16, 16, 32)        128       \n",
            "_________________________________________________________________\n",
            "conv1_relu (ReLU)            (None, 16, 16, 32)        0         \n",
            "_________________________________________________________________\n",
            "conv_dw_1 (DepthwiseConv2D)  (None, 16, 16, 32)        288       \n",
            "_________________________________________________________________\n",
            "conv_dw_1_bn (BatchNormaliza (None, 16, 16, 32)        128       \n",
            "_________________________________________________________________\n",
            "conv_dw_1_relu (ReLU)        (None, 16, 16, 32)        0         \n",
            "_________________________________________________________________\n",
            "conv_pw_1 (Conv2D)           (None, 16, 16, 64)        2048      \n",
            "_________________________________________________________________\n",
            "conv_pw_1_bn (BatchNormaliza (None, 16, 16, 64)        256       \n",
            "_________________________________________________________________\n",
            "conv_pw_1_relu (ReLU)        (None, 16, 16, 64)        0         \n",
            "_________________________________________________________________\n",
            "conv_pad_2 (ZeroPadding2D)   (None, 17, 17, 64)        0         \n",
            "_________________________________________________________________\n",
            "conv_dw_2 (DepthwiseConv2D)  (None, 8, 8, 64)          576       \n",
            "_________________________________________________________________\n",
            "conv_dw_2_bn (BatchNormaliza (None, 8, 8, 64)          256       \n",
            "_________________________________________________________________\n",
            "conv_dw_2_relu (ReLU)        (None, 8, 8, 64)          0         \n",
            "_________________________________________________________________\n",
            "conv_pw_2 (Conv2D)           (None, 8, 8, 128)         8192      \n",
            "_________________________________________________________________\n",
            "conv_pw_2_bn (BatchNormaliza (None, 8, 8, 128)         512       \n",
            "_________________________________________________________________\n",
            "conv_pw_2_relu (ReLU)        (None, 8, 8, 128)         0         \n",
            "_________________________________________________________________\n",
            "conv_dw_3 (DepthwiseConv2D)  (None, 8, 8, 128)         1152      \n",
            "_________________________________________________________________\n",
            "conv_dw_3_bn (BatchNormaliza (None, 8, 8, 128)         512       \n",
            "_________________________________________________________________\n",
            "conv_dw_3_relu (ReLU)        (None, 8, 8, 128)         0         \n",
            "_________________________________________________________________\n",
            "conv_pw_3 (Conv2D)           (None, 8, 8, 128)         16384     \n",
            "_________________________________________________________________\n",
            "conv_pw_3_bn (BatchNormaliza (None, 8, 8, 128)         512       \n",
            "_________________________________________________________________\n",
            "conv_pw_3_relu (ReLU)        (None, 8, 8, 128)         0         \n",
            "_________________________________________________________________\n",
            "conv_pad_4 (ZeroPadding2D)   (None, 9, 9, 128)         0         \n",
            "_________________________________________________________________\n",
            "conv_dw_4 (DepthwiseConv2D)  (None, 4, 4, 128)         1152      \n",
            "_________________________________________________________________\n",
            "conv_dw_4_bn (BatchNormaliza (None, 4, 4, 128)         512       \n",
            "_________________________________________________________________\n",
            "conv_dw_4_relu (ReLU)        (None, 4, 4, 128)         0         \n",
            "_________________________________________________________________\n",
            "conv_pw_4 (Conv2D)           (None, 4, 4, 256)         32768     \n",
            "_________________________________________________________________\n",
            "conv_pw_4_bn (BatchNormaliza (None, 4, 4, 256)         1024      \n",
            "_________________________________________________________________\n",
            "conv_pw_4_relu (ReLU)        (None, 4, 4, 256)         0         \n",
            "_________________________________________________________________\n",
            "conv_dw_5 (DepthwiseConv2D)  (None, 4, 4, 256)         2304      \n",
            "_________________________________________________________________\n",
            "conv_dw_5_bn (BatchNormaliza (None, 4, 4, 256)         1024      \n",
            "_________________________________________________________________\n",
            "conv_dw_5_relu (ReLU)        (None, 4, 4, 256)         0         \n",
            "_________________________________________________________________\n",
            "conv_pw_5 (Conv2D)           (None, 4, 4, 256)         65536     \n",
            "_________________________________________________________________\n",
            "conv_pw_5_bn (BatchNormaliza (None, 4, 4, 256)         1024      \n",
            "_________________________________________________________________\n",
            "conv_pw_5_relu (ReLU)        (None, 4, 4, 256)         0         \n",
            "_________________________________________________________________\n",
            "conv_pad_6 (ZeroPadding2D)   (None, 5, 5, 256)         0         \n",
            "_________________________________________________________________\n",
            "conv_dw_6 (DepthwiseConv2D)  (None, 2, 2, 256)         2304      \n",
            "_________________________________________________________________\n",
            "conv_dw_6_bn (BatchNormaliza (None, 2, 2, 256)         1024      \n",
            "_________________________________________________________________\n",
            "conv_dw_6_relu (ReLU)        (None, 2, 2, 256)         0         \n",
            "_________________________________________________________________\n",
            "conv_pw_6 (Conv2D)           (None, 2, 2, 512)         131072    \n",
            "_________________________________________________________________\n",
            "conv_pw_6_bn (BatchNormaliza (None, 2, 2, 512)         2048      \n",
            "_________________________________________________________________\n",
            "conv_pw_6_relu (ReLU)        (None, 2, 2, 512)         0         \n",
            "_________________________________________________________________\n",
            "conv_dw_7 (DepthwiseConv2D)  (None, 2, 2, 512)         4608      \n",
            "_________________________________________________________________\n",
            "conv_dw_7_bn (BatchNormaliza (None, 2, 2, 512)         2048      \n",
            "_________________________________________________________________\n",
            "conv_dw_7_relu (ReLU)        (None, 2, 2, 512)         0         \n",
            "_________________________________________________________________\n",
            "conv_pw_7 (Conv2D)           (None, 2, 2, 512)         262144    \n",
            "_________________________________________________________________\n",
            "conv_pw_7_bn (BatchNormaliza (None, 2, 2, 512)         2048      \n",
            "_________________________________________________________________\n",
            "conv_pw_7_relu (ReLU)        (None, 2, 2, 512)         0         \n",
            "_________________________________________________________________\n",
            "conv_dw_8 (DepthwiseConv2D)  (None, 2, 2, 512)         4608      \n",
            "_________________________________________________________________\n",
            "conv_dw_8_bn (BatchNormaliza (None, 2, 2, 512)         2048      \n",
            "_________________________________________________________________\n",
            "conv_dw_8_relu (ReLU)        (None, 2, 2, 512)         0         \n",
            "_________________________________________________________________\n",
            "conv_pw_8 (Conv2D)           (None, 2, 2, 512)         262144    \n",
            "_________________________________________________________________\n",
            "conv_pw_8_bn (BatchNormaliza (None, 2, 2, 512)         2048      \n",
            "_________________________________________________________________\n",
            "conv_pw_8_relu (ReLU)        (None, 2, 2, 512)         0         \n",
            "_________________________________________________________________\n",
            "conv_dw_9 (DepthwiseConv2D)  (None, 2, 2, 512)         4608      \n",
            "_________________________________________________________________\n",
            "conv_dw_9_bn (BatchNormaliza (None, 2, 2, 512)         2048      \n",
            "_________________________________________________________________\n",
            "conv_dw_9_relu (ReLU)        (None, 2, 2, 512)         0         \n",
            "_________________________________________________________________\n",
            "conv_pw_9 (Conv2D)           (None, 2, 2, 512)         262144    \n",
            "_________________________________________________________________\n",
            "conv_pw_9_bn (BatchNormaliza (None, 2, 2, 512)         2048      \n",
            "_________________________________________________________________\n",
            "conv_pw_9_relu (ReLU)        (None, 2, 2, 512)         0         \n",
            "_________________________________________________________________\n",
            "conv_dw_10 (DepthwiseConv2D) (None, 2, 2, 512)         4608      \n",
            "_________________________________________________________________\n",
            "conv_dw_10_bn (BatchNormaliz (None, 2, 2, 512)         2048      \n",
            "_________________________________________________________________\n",
            "conv_dw_10_relu (ReLU)       (None, 2, 2, 512)         0         \n",
            "_________________________________________________________________\n",
            "conv_pw_10 (Conv2D)          (None, 2, 2, 512)         262144    \n",
            "_________________________________________________________________\n",
            "conv_pw_10_bn (BatchNormaliz (None, 2, 2, 512)         2048      \n",
            "_________________________________________________________________\n",
            "conv_pw_10_relu (ReLU)       (None, 2, 2, 512)         0         \n",
            "_________________________________________________________________\n",
            "conv_dw_11 (DepthwiseConv2D) (None, 2, 2, 512)         4608      \n",
            "_________________________________________________________________\n",
            "conv_dw_11_bn (BatchNormaliz (None, 2, 2, 512)         2048      \n",
            "_________________________________________________________________\n",
            "conv_dw_11_relu (ReLU)       (None, 2, 2, 512)         0         \n",
            "_________________________________________________________________\n",
            "conv_pw_11 (Conv2D)          (None, 2, 2, 512)         262144    \n",
            "_________________________________________________________________\n",
            "conv_pw_11_bn (BatchNormaliz (None, 2, 2, 512)         2048      \n",
            "_________________________________________________________________\n",
            "conv_pw_11_relu (ReLU)       (None, 2, 2, 512)         0         \n",
            "_________________________________________________________________\n",
            "conv_pad_12 (ZeroPadding2D)  (None, 3, 3, 512)         0         \n",
            "_________________________________________________________________\n",
            "conv_dw_12 (DepthwiseConv2D) (None, 1, 1, 512)         4608      \n",
            "_________________________________________________________________\n",
            "conv_dw_12_bn (BatchNormaliz (None, 1, 1, 512)         2048      \n",
            "_________________________________________________________________\n",
            "conv_dw_12_relu (ReLU)       (None, 1, 1, 512)         0         \n",
            "_________________________________________________________________\n",
            "conv_pw_12 (Conv2D)          (None, 1, 1, 1024)        524288    \n",
            "_________________________________________________________________\n",
            "conv_pw_12_bn (BatchNormaliz (None, 1, 1, 1024)        4096      \n",
            "_________________________________________________________________\n",
            "conv_pw_12_relu (ReLU)       (None, 1, 1, 1024)        0         \n",
            "_________________________________________________________________\n",
            "conv_dw_13 (DepthwiseConv2D) (None, 1, 1, 1024)        9216      \n",
            "_________________________________________________________________\n",
            "conv_dw_13_bn (BatchNormaliz (None, 1, 1, 1024)        4096      \n",
            "_________________________________________________________________\n",
            "conv_dw_13_relu (ReLU)       (None, 1, 1, 1024)        0         \n",
            "_________________________________________________________________\n",
            "conv_pw_13 (Conv2D)          (None, 1, 1, 1024)        1048576   \n",
            "_________________________________________________________________\n",
            "conv_pw_13_bn (BatchNormaliz (None, 1, 1, 1024)        4096      \n",
            "_________________________________________________________________\n",
            "conv_pw_13_relu (ReLU)       (None, 1, 1, 1024)        0         \n",
            "_________________________________________________________________\n",
            "global_average_pooling2d (Gl (None, 1024)              0         \n",
            "_________________________________________________________________\n",
            "dense (Dense)                (None, 47)                48175     \n",
            "=================================================================\n",
            "Total params: 3,276,463\n",
            "Trainable params: 3,254,575\n",
            "Non-trainable params: 21,888\n",
            "_________________________________________________________________\n",
            "time: 480 ms (started: 2021-05-25 22:00:21 +00:00)\n"
          ],
          "name": "stdout"
        }
      ]
    },
    {
      "cell_type": "code",
      "metadata": {
        "colab": {
          "base_uri": "https://localhost:8080/"
        },
        "id": "af3544ac",
        "outputId": "9e24f6f0-1b27-4700-e198-97cef4bf14ad"
      },
      "source": [
        "from tensorflow.keras.optimizers import Adamax\n",
        "\n",
        "# Model compilation\n",
        "model.compile(loss='sparse_categorical_crossentropy',\n",
        "              optimizer=Adamax(0.0001),\n",
        "              metrics=['accuracy'])\n",
        "\n",
        "\n",
        "# Training model\n",
        "model_history = model.fit(ds_train,\n",
        "                          epochs=30,\n",
        "                          validation_data=ds_val,\n",
        "                          verbose=1)\n",
        "\n",
        "\n",
        "path = '/content/drive/MyDrive/Colab Notebooks/Notebooks/Models/MobileNet_EMNIST_Balanced_Base/'\n",
        "model.save(path)"
      ],
      "execution_count": null,
      "outputs": [
        {
          "output_type": "stream",
          "text": [
            "Epoch 1/30\n",
            "1410/1410 [==============================] - 48s 21ms/step - loss: 3.7905 - accuracy: 0.0572 - val_loss: 3.5124 - val_accuracy: 0.0956\n",
            "Epoch 2/30\n",
            "1410/1410 [==============================] - 29s 21ms/step - loss: 3.1118 - accuracy: 0.1623 - val_loss: 2.7467 - val_accuracy: 0.2293\n",
            "Epoch 3/30\n",
            "1410/1410 [==============================] - 31s 22ms/step - loss: 2.3537 - accuracy: 0.3165 - val_loss: 2.0239 - val_accuracy: 0.3970\n",
            "Epoch 4/30\n",
            "1410/1410 [==============================] - 32s 22ms/step - loss: 1.7297 - accuracy: 0.4753 - val_loss: 1.5044 - val_accuracy: 0.5372\n",
            "Epoch 5/30\n",
            "1410/1410 [==============================] - 29s 21ms/step - loss: 1.2981 - accuracy: 0.5936 - val_loss: 1.1818 - val_accuracy: 0.6255\n",
            "Epoch 6/30\n",
            "1410/1410 [==============================] - 30s 21ms/step - loss: 1.0180 - accuracy: 0.6747 - val_loss: 0.9822 - val_accuracy: 0.6849\n",
            "Epoch 7/30\n",
            "1410/1410 [==============================] - 29s 21ms/step - loss: 0.8297 - accuracy: 0.7306 - val_loss: 0.8735 - val_accuracy: 0.7160\n",
            "Epoch 8/30\n",
            "1410/1410 [==============================] - 29s 21ms/step - loss: 0.7046 - accuracy: 0.7677 - val_loss: 0.8042 - val_accuracy: 0.7363\n",
            "Epoch 9/30\n",
            "1410/1410 [==============================] - 29s 21ms/step - loss: 0.6060 - accuracy: 0.7980 - val_loss: 0.7588 - val_accuracy: 0.7513\n",
            "Epoch 10/30\n",
            "1410/1410 [==============================] - 29s 21ms/step - loss: 0.5307 - accuracy: 0.8195 - val_loss: 0.7293 - val_accuracy: 0.7604\n",
            "Epoch 11/30\n",
            "1410/1410 [==============================] - 31s 22ms/step - loss: 0.4698 - accuracy: 0.8398 - val_loss: 0.7161 - val_accuracy: 0.7650\n",
            "Epoch 12/30\n",
            "1410/1410 [==============================] - 30s 21ms/step - loss: 0.4178 - accuracy: 0.8570 - val_loss: 0.7156 - val_accuracy: 0.7681\n",
            "Epoch 13/30\n",
            "1410/1410 [==============================] - 30s 21ms/step - loss: 0.3717 - accuracy: 0.8716 - val_loss: 0.7137 - val_accuracy: 0.7731\n",
            "Epoch 14/30\n",
            "1410/1410 [==============================] - 29s 21ms/step - loss: 0.3353 - accuracy: 0.8855 - val_loss: 0.7161 - val_accuracy: 0.7746\n",
            "Epoch 15/30\n",
            "1410/1410 [==============================] - 30s 21ms/step - loss: 0.2980 - accuracy: 0.8977 - val_loss: 0.7259 - val_accuracy: 0.7740\n",
            "Epoch 16/30\n",
            "1410/1410 [==============================] - 30s 21ms/step - loss: 0.2674 - accuracy: 0.9076 - val_loss: 0.7412 - val_accuracy: 0.7729\n",
            "Epoch 17/30\n",
            "1410/1410 [==============================] - 30s 21ms/step - loss: 0.2385 - accuracy: 0.9188 - val_loss: 0.7598 - val_accuracy: 0.7729\n",
            "Epoch 18/30\n",
            "1410/1410 [==============================] - 30s 21ms/step - loss: 0.2147 - accuracy: 0.9276 - val_loss: 0.7719 - val_accuracy: 0.7734\n",
            "Epoch 19/30\n",
            "1410/1410 [==============================] - 30s 21ms/step - loss: 0.1906 - accuracy: 0.9360 - val_loss: 0.7842 - val_accuracy: 0.7730\n",
            "Epoch 20/30\n",
            "1410/1410 [==============================] - 32s 22ms/step - loss: 0.1714 - accuracy: 0.9421 - val_loss: 0.8001 - val_accuracy: 0.7731\n",
            "Epoch 21/30\n",
            "1410/1410 [==============================] - 30s 21ms/step - loss: 0.1535 - accuracy: 0.9483 - val_loss: 0.8323 - val_accuracy: 0.7713\n",
            "Epoch 22/30\n",
            "1410/1410 [==============================] - 30s 21ms/step - loss: 0.1414 - accuracy: 0.9528 - val_loss: 0.8482 - val_accuracy: 0.7704\n",
            "Epoch 23/30\n",
            "1410/1410 [==============================] - 30s 21ms/step - loss: 0.1266 - accuracy: 0.9588 - val_loss: 0.8667 - val_accuracy: 0.7730\n",
            "Epoch 24/30\n",
            "1410/1410 [==============================] - 30s 21ms/step - loss: 0.1162 - accuracy: 0.9625 - val_loss: 0.8869 - val_accuracy: 0.7713\n",
            "Epoch 25/30\n",
            "1410/1410 [==============================] - 30s 21ms/step - loss: 0.1064 - accuracy: 0.9652 - val_loss: 0.9157 - val_accuracy: 0.7729\n",
            "Epoch 26/30\n",
            "1410/1410 [==============================] - 30s 21ms/step - loss: 0.0987 - accuracy: 0.9677 - val_loss: 0.9192 - val_accuracy: 0.7747\n",
            "Epoch 27/30\n",
            "1410/1410 [==============================] - 30s 21ms/step - loss: 0.0909 - accuracy: 0.9700 - val_loss: 0.9394 - val_accuracy: 0.7713\n",
            "Epoch 28/30\n",
            "1410/1410 [==============================] - 31s 22ms/step - loss: 0.0855 - accuracy: 0.9724 - val_loss: 0.9583 - val_accuracy: 0.7713\n",
            "Epoch 29/30\n",
            "1410/1410 [==============================] - 31s 22ms/step - loss: 0.0795 - accuracy: 0.9743 - val_loss: 0.9509 - val_accuracy: 0.7746\n",
            "Epoch 30/30\n",
            "1410/1410 [==============================] - 33s 23ms/step - loss: 0.0705 - accuracy: 0.9774 - val_loss: 0.9683 - val_accuracy: 0.7746\n",
            "INFO:tensorflow:Assets written to: /content/drive/MyDrive/Colab Notebooks/Notebooks/Models/MobileNet_EMNIST_Balanced_Base/assets\n"
          ],
          "name": "stdout"
        },
        {
          "output_type": "stream",
          "text": [
            "INFO:tensorflow:Assets written to: /content/drive/MyDrive/Colab Notebooks/Notebooks/Models/MobileNet_EMNIST_Balanced_Base/assets\n"
          ],
          "name": "stderr"
        },
        {
          "output_type": "stream",
          "text": [
            "time: 17min 45s (started: 2021-05-25 22:00:22 +00:00)\n"
          ],
          "name": "stdout"
        }
      ]
    },
    {
      "cell_type": "code",
      "metadata": {
        "id": "i7wRfPpD5t-L",
        "colab": {
          "base_uri": "https://localhost:8080/",
          "height": 593
        },
        "outputId": "d481e2b7-52d4-4662-f4aa-b11fabaf9685"
      },
      "source": [
        "img_path = path + 'Graph'\n",
        "\n",
        "pd.DataFrame(model_history.history).plot(figsize=(20, 10))\n",
        "plt.grid(True)\n",
        "plt.gca().set_ylim(0, 1.2)\n",
        "plt.savefig(img_path)\n",
        "plt.show()"
      ],
      "execution_count": null,
      "outputs": [
        {
          "output_type": "display_data",
          "data": {
            "image/png": "[encoded data removed]",
            "text/plain": [
              "<Figure size 1440x720 with 1 Axes>"
            ]
          },
          "metadata": {
            "tags": [],
            "needs_background": "light"
          }
        },
        {
          "output_type": "stream",
          "text": [
            "time: 440 ms (started: 2021-05-25 22:18:08 +00:00)\n"
          ],
          "name": "stdout"
        }
      ]
    },
    {
      "cell_type": "code",
      "metadata": {
        "colab": {
          "base_uri": "https://localhost:8080/"
        },
        "id": "0ef3a3a4",
        "outputId": "09b1f68d-d7a8-436a-d212-a6a92d351834"
      },
      "source": [
        "loss_value, acc = model.evaluate(ds_test)\n",
        "\n",
        "print(f\"Test Accuracy: {(acc*100):.3f}%\")\n",
        "print(f\"Loss: {loss_value:.3f}%\")"
      ],
      "execution_count": null,
      "outputs": [
        {
          "output_type": "stream",
          "text": [
            "294/294 [==============================] - 3s 11ms/step - loss: 0.9990 - accuracy: 0.7707\n",
            "Test Accuracy: 77.074%\n",
            "Loss: 0.999%\n",
            "time: 5.18 s (started: 2021-05-25 22:18:08 +00:00)\n"
          ],
          "name": "stdout"
        }
      ]
    }
  ]
}