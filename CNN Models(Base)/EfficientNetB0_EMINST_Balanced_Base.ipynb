{
  "nbformat": 4,
  "nbformat_minor": 0,
  "metadata": {
    "accelerator": "GPU",
    "colab": {
      "name": "EfficientNetB0-EMINST_Balanced-Base.ipynb",
      "provenance": [],
      "collapsed_sections": []
    },
    "kernelspec": {
      "display_name": "Python 3",
      "name": "python3"
    },
    "language_info": {
      "name": "python"
    }
  },
  "cells": [
    {
      "cell_type": "code",
      "metadata": {
        "colab": {
          "base_uri": "https://localhost:8080/"
        },
        "id": "009e9706",
        "outputId": "8adeb2f7-d8aa-454c-bd01-ac8018e8ab44"
      },
      "source": [
        "import tensorflow as tf\n",
        "from tensorflow import keras\n",
        "from tensorflow.keras import layers\n",
        "import tensorflow_datasets as tfds\n",
        "from tensorflow.keras.models import Model\n",
        "\n",
        "import seaborn as sns\n",
        "\n",
        "import pandas as pd\n",
        "import matplotlib.pyplot as plt\n"
      ],
      "execution_count": null,
      "outputs": [
        {
          "output_type": "stream",
          "text": [
            "time: 1.84 s (started: 2021-05-25 19:46:02 +00:00)\n"
          ],
          "name": "stdout"
        }
      ]
    },
    {
      "cell_type": "code",
      "metadata": {
        "colab": {
          "base_uri": "https://localhost:8080/"
        },
        "id": "rnmOYJgDYQRF",
        "outputId": "238c5592-918c-46ce-8cfa-9b1d620899f5"
      },
      "source": [
        "# from tensorflow.keras import mixed_precision\n",
        "\n",
        "# policy = mixed_precision.Policy('mixed_float16')\n",
        "# mixed_precision.set_global_policy(policy)"
      ],
      "execution_count": null,
      "outputs": [
        {
          "output_type": "stream",
          "text": [
            "time: 1.23 ms (started: 2021-05-25 19:46:04 +00:00)\n"
          ],
          "name": "stdout"
        }
      ]
    },
    {
      "cell_type": "code",
      "metadata": {
        "colab": {
          "base_uri": "https://localhost:8080/"
        },
        "id": "f9db72aa",
        "outputId": "190c8967-7d9f-4323-c8dc-c560cac48e45"
      },
      "source": [
        "(ds_train, ds_val, ds_test), ds_info = tfds.load(\n",
        "    'emnist/balanced',\n",
        "    data_dir = \"/content/drive/MyDrive/Colab Notebooks/Datasets/TensorflowDatasets\",\n",
        "    split=['train[:80%]', 'train[80%:]', 'test'],\n",
        "    \n",
        "    with_info=True,\n",
        "    as_supervised=True\n",
        ")\n",
        "\n"
      ],
      "execution_count": null,
      "outputs": [
        {
          "output_type": "stream",
          "text": [
            "time: 614 ms (started: 2021-05-25 19:46:04 +00:00)\n"
          ],
          "name": "stdout"
        }
      ]
    },
    {
      "cell_type": "code",
      "metadata": {
        "colab": {
          "base_uri": "https://localhost:8080/"
        },
        "id": "66861f42",
        "outputId": "6e1f3e8b-29b0-4882-b4fe-dc65a3bf0e5a"
      },
      "source": [
        "print(ds_info)"
      ],
      "execution_count": null,
      "outputs": [
        {
          "output_type": "stream",
          "text": [
            "tfds.core.DatasetInfo(\n",
            "    name='emnist',\n",
            "    version=3.0.0,\n",
            "    description='The EMNIST dataset is a set of handwritten character digits derived from the NIST Special Database 19 and converted to a 28x28 pixel image format and dataset structure that directly matches the MNIST dataset.\n",
            "\n",
            "Note: Like the original EMNIST data, images provided here are inverted horizontally and rotated 90 anti-clockwise. You can use `tf.transpose` within `ds.map` to convert the images to a human-friendlier format.',\n",
            "    homepage='https://www.nist.gov/itl/products-and-services/emnist-dataset',\n",
            "    features=FeaturesDict({\n",
            "        'image': Image(shape=(28, 28, 1), dtype=tf.uint8),\n",
            "        'label': ClassLabel(shape=(), dtype=tf.int64, num_classes=47),\n",
            "    }),\n",
            "    total_num_examples=131600,\n",
            "    splits={\n",
            "        'test': 18800,\n",
            "        'train': 112800,\n",
            "    },\n",
            "    supervised_keys=('image', 'label'),\n",
            "    citation=\"\"\"@article{cohen_afshar_tapson_schaik_2017,\n",
            "        title={EMNIST: Extending MNIST to handwritten letters},\n",
            "        DOI={10.1109/ijcnn.2017.7966217},\n",
            "        journal={2017 International Joint Conference on Neural Networks (IJCNN)},\n",
            "        author={Cohen, Gregory and Afshar, Saeed and Tapson, Jonathan and Schaik, Andre Van},\n",
            "        year={2017}\n",
            "    }\"\"\",\n",
            "    redistribution_info=,\n",
            ")\n",
            "\n",
            "time: 2.04 ms (started: 2021-05-25 19:46:05 +00:00)\n"
          ],
          "name": "stdout"
        }
      ]
    },
    {
      "cell_type": "code",
      "metadata": {
        "colab": {
          "base_uri": "https://localhost:8080/"
        },
        "id": "cd52afec",
        "outputId": "2a8c2a1d-eea1-4a49-8d3a-5dcc9f911d1e"
      },
      "source": [
        "print(type(ds_train))"
      ],
      "execution_count": null,
      "outputs": [
        {
          "output_type": "stream",
          "text": [
            "<class 'tensorflow.python.data.ops.dataset_ops.PrefetchDataset'>\n",
            "time: 1.55 ms (started: 2021-05-25 19:46:05 +00:00)\n"
          ],
          "name": "stdout"
        }
      ]
    },
    {
      "cell_type": "code",
      "metadata": {
        "colab": {
          "base_uri": "https://localhost:8080/"
        },
        "id": "91009f32",
        "outputId": "f280cbaa-6fd2-46ae-bb3c-0f4dbb320cc8"
      },
      "source": [
        "# get_label_name = ds_info.features['label'].int2str\n",
        "\n",
        "# image, label = next(iter(ds_train))\n",
        "# _ = plt.imshow(image)\n",
        "# _ = plt.title(get_label_name(label))"
      ],
      "execution_count": null,
      "outputs": [
        {
          "output_type": "stream",
          "text": [
            "time: 1.04 ms (started: 2021-05-25 19:46:05 +00:00)\n"
          ],
          "name": "stdout"
        }
      ]
    },
    {
      "cell_type": "code",
      "metadata": {
        "colab": {
          "base_uri": "https://localhost:8080/",
          "height": 877
        },
        "id": "f2637936",
        "outputId": "56daf8a7-d8d6-4d56-bd5a-446a064312b2"
      },
      "source": [
        "fig = tfds.show_examples(ds_train, ds_info, rows = 5, cols = 5)"
      ],
      "execution_count": null,
      "outputs": [
        {
          "output_type": "display_data",
          "data": {
            "image/png": "[encoded data removed]",
            "text/plain": [
              "<Figure size 1080x1080 with 25 Axes>"
            ]
          },
          "metadata": {
            "tags": []
          }
        },
        {
          "output_type": "stream",
          "text": [
            "time: 978 ms (started: 2021-05-25 19:46:05 +00:00)\n"
          ],
          "name": "stdout"
        }
      ]
    },
    {
      "cell_type": "code",
      "metadata": {
        "colab": {
          "base_uri": "https://localhost:8080/"
        },
        "id": "2b8ce7d7",
        "outputId": "95ccb88d-30e8-4f6d-ea2d-26901c0251d5"
      },
      "source": [
        "img_height = img_width = 32\n",
        "\n",
        "print(img_height)\n",
        "print(img_width)\n",
        "\n",
        "\n",
        "AUTOTUNE = tf.data.AUTOTUNE\n",
        "BATCH_SIZE = 64\n",
        "\n",
        "\n",
        "\n",
        "\n",
        "\n"
      ],
      "execution_count": null,
      "outputs": [
        {
          "output_type": "stream",
          "text": [
            "32\n",
            "32\n",
            "time: 3.48 ms (started: 2021-05-25 19:46:06 +00:00)\n"
          ],
          "name": "stdout"
        }
      ]
    },
    {
      "cell_type": "code",
      "metadata": {
        "colab": {
          "base_uri": "https://localhost:8080/"
        },
        "id": "969b1098",
        "outputId": "c79bd73e-70ab-4b4a-c608-91604c9601ec"
      },
      "source": [
        "def downscale_img(image, label):\n",
        "  image = tf.image.resize(image, [img_height, img_width])\n",
        "  # image = tf.reshape(-1,img_height*img_width)\n",
        "  return image, label\n",
        "\n",
        "\n",
        "\n",
        "ds_train = ds_train.map(downscale_img, num_parallel_calls=AUTOTUNE)\n",
        "ds_val = ds_val.map(downscale_img, num_parallel_calls=AUTOTUNE)\n",
        "ds_test = ds_test.map(downscale_img, num_parallel_calls=AUTOTUNE)\n"
      ],
      "execution_count": null,
      "outputs": [
        {
          "output_type": "stream",
          "text": [
            "time: 65.9 ms (started: 2021-05-25 19:46:06 +00:00)\n"
          ],
          "name": "stdout"
        }
      ]
    },
    {
      "cell_type": "code",
      "metadata": {
        "colab": {
          "base_uri": "https://localhost:8080/"
        },
        "id": "74a40daa",
        "outputId": "ccac1c56-7098-449b-bc91-19fdbd1f8ccf"
      },
      "source": [
        "def normalize_img(image, label):\n",
        "    return tf.cast(image, tf.float32) / 255.0, label\n",
        "\n",
        "def configure_for_performance(ds):\n",
        "    ds = ds.map(normalize_img, num_parallel_calls = AUTOTUNE)\n",
        "    # ds = ds.cache(\"Cache\")\n",
        "    ds = ds.shuffle(buffer_size=256)\n",
        "    ds = ds.batch(BATCH_SIZE)\n",
        "    ds = ds.prefetch(buffer_size=AUTOTUNE)\n",
        "    return ds\n",
        "\n",
        "# def configure_for_performance_2(ds):\n",
        "#     ds = ds.map(normalize_img, num_parallel_calls = AUTOTUNE)\n",
        "#     ds = ds.cache(\"Cache\")\n",
        "#     ds = ds.shuffle(buffer_size=256)\n",
        "#     ds = ds.batch(BATCH_SIZE)\n",
        "#     ds = ds.prefetch(buffer_size=AUTOTUNE)\n",
        "#     return ds\n",
        "\n",
        "def configure_for_performance_3(ds):\n",
        "    ds = ds.map(normalize_img, num_parallel_calls = AUTOTUNE)\n",
        "    ds = ds.batch(BATCH_SIZE)\n",
        "    ds = ds.prefetch(buffer_size=AUTOTUNE)\n",
        "    return ds"
      ],
      "execution_count": null,
      "outputs": [
        {
          "output_type": "stream",
          "text": [
            "time: 9.93 ms (started: 2021-05-25 19:46:06 +00:00)\n"
          ],
          "name": "stdout"
        }
      ]
    },
    {
      "cell_type": "code",
      "metadata": {
        "colab": {
          "base_uri": "https://localhost:8080/"
        },
        "id": "1b926034",
        "outputId": "041bcd38-89a7-42cb-bce2-46fafde7bcb2"
      },
      "source": [
        "ds_train = configure_for_performance(ds_train)\n",
        "ds_val = configure_for_performance_3(ds_val)\n",
        "ds_test = configure_for_performance_3(ds_test)\n"
      ],
      "execution_count": null,
      "outputs": [
        {
          "output_type": "stream",
          "text": [
            "time: 46.8 ms (started: 2021-05-25 19:46:06 +00:00)\n"
          ],
          "name": "stdout"
        }
      ]
    },
    {
      "cell_type": "code",
      "metadata": {
        "id": "1FkkoRL4EkJw"
      },
      "source": [
        ""
      ],
      "execution_count": null,
      "outputs": []
    },
    {
      "cell_type": "code",
      "metadata": {
        "colab": {
          "base_uri": "https://localhost:8080/"
        },
        "id": "afa7bfc8",
        "outputId": "f1871c60-79c4-43b6-97fb-7df299cda914"
      },
      "source": [
        "for image, label in ds_train.take(1):\n",
        "  print(\"Image shape: \", image.numpy().shape)\n",
        "  print(\"Label: \", label.numpy())\n",
        "\n",
        "for image, label in ds_val.take(1):\n",
        "  print(\"Image shape: \", image.numpy().shape)\n",
        "  print(\"Label: \", label.numpy())\n",
        "    \n",
        "for image, label in ds_test.take(1):\n",
        "  print(\"Image shape: \", image.numpy().shape)\n",
        "  print(\"Label: \", label.numpy())\n"
      ],
      "execution_count": null,
      "outputs": [
        {
          "output_type": "stream",
          "text": [
            "Image shape:  (64, 32, 32, 1)\n",
            "Label:  [26 19  2 40  8 19 12 24  3 46 46 43  8 41  3 18 30 16 16 35 28  4 26 35\n",
            " 10 42 31 37 12 31 22 33 30 41 25 24 21 31 17 26  0 23 13  2 38 13 34 34\n",
            " 15 18 46 25 34 39  5 43 36  0 17 24 26 24 22 44]\n",
            "Image shape:  (64, 32, 32, 1)\n",
            "Label:  [ 8 37 23 18 23 29  9 23 30 39  5 35 17  9 34  7 29  4  7 35 44 22 24  0\n",
            " 32  4 19 40 32 36  0  7  6 24  3 45 27 14 43 46  1 21 38  2 12 28 26  5\n",
            " 34 45 43 45 20 26 16 38 16 23 11  5 42 38 26 30]\n",
            "Image shape:  (64, 32, 32, 1)\n",
            "Label:  [36 11 31 44 46 11  2 15 30 44 42 20 15 43 35 26 41 11 33 22 44 22 28 23\n",
            " 11 33 27 16 25 42 41 17 32 31 28 24 16 46 32 32  6 10  7 22 35 29  5  1\n",
            " 34 11  8 19 26 33 44 11  2  4  4 30  0 45 13 25]\n",
            "time: 303 ms (started: 2021-05-25 19:46:06 +00:00)\n"
          ],
          "name": "stdout"
        }
      ]
    },
    {
      "cell_type": "code",
      "metadata": {
        "colab": {
          "base_uri": "https://localhost:8080/"
        },
        "id": "2QJK99gk6qa6",
        "outputId": "42236904-01c7-4bef-c885-e25173e00638"
      },
      "source": [
        "num_classes = ds_info.features[\"label\"].num_classes\n",
        "\n",
        "\n",
        "# Creating model\n",
        "model = tf.keras.applications.EfficientNetB0(\n",
        "    include_top=False, input_shape=(img_height, img_width, 1),\n",
        "    classes=num_classes, weights=None) #, pooling='avg')\n",
        "\n",
        "\n",
        "x = model.output\n",
        "\n",
        "x = layers.GlobalAveragePooling2D()(x)\n",
        "\n",
        "# output layer\n",
        "predictions = layers.Dense(num_classes, activation=\"softmax\")(x)\n",
        "\n",
        "model = Model(inputs = model.input, outputs = predictions)\n",
        "  \n",
        "model.summary()"
      ],
      "execution_count": null,
      "outputs": [
        {
          "output_type": "stream",
          "text": [
            "Model: \"model\"\n",
            "__________________________________________________________________________________________________\n",
            "Layer (type)                    Output Shape         Param #     Connected to                     \n",
            "==================================================================================================\n",
            "input_1 (InputLayer)            [(None, 32, 32, 1)]  0                                            \n",
            "__________________________________________________________________________________________________\n",
            "rescaling (Rescaling)           (None, 32, 32, 1)    0           input_1[0][0]                    \n",
            "__________________________________________________________________________________________________\n",
            "normalization (Normalization)   (None, 32, 32, 1)    3           rescaling[0][0]                  \n",
            "__________________________________________________________________________________________________\n",
            "stem_conv_pad (ZeroPadding2D)   (None, 33, 33, 1)    0           normalization[0][0]              \n",
            "__________________________________________________________________________________________________\n",
            "stem_conv (Conv2D)              (None, 16, 16, 32)   288         stem_conv_pad[0][0]              \n",
            "__________________________________________________________________________________________________\n",
            "stem_bn (BatchNormalization)    (None, 16, 16, 32)   128         stem_conv[0][0]                  \n",
            "__________________________________________________________________________________________________\n",
            "stem_activation (Activation)    (None, 16, 16, 32)   0           stem_bn[0][0]                    \n",
            "__________________________________________________________________________________________________\n",
            "block1a_dwconv (DepthwiseConv2D (None, 16, 16, 32)   288         stem_activation[0][0]            \n",
            "__________________________________________________________________________________________________\n",
            "block1a_bn (BatchNormalization) (None, 16, 16, 32)   128         block1a_dwconv[0][0]             \n",
            "__________________________________________________________________________________________________\n",
            "block1a_activation (Activation) (None, 16, 16, 32)   0           block1a_bn[0][0]                 \n",
            "__________________________________________________________________________________________________\n",
            "block1a_se_squeeze (GlobalAvera (None, 32)           0           block1a_activation[0][0]         \n",
            "__________________________________________________________________________________________________\n",
            "block1a_se_reshape (Reshape)    (None, 1, 1, 32)     0           block1a_se_squeeze[0][0]         \n",
            "__________________________________________________________________________________________________\n",
            "block1a_se_reduce (Conv2D)      (None, 1, 1, 8)      264         block1a_se_reshape[0][0]         \n",
            "__________________________________________________________________________________________________\n",
            "block1a_se_expand (Conv2D)      (None, 1, 1, 32)     288         block1a_se_reduce[0][0]          \n",
            "__________________________________________________________________________________________________\n",
            "block1a_se_excite (Multiply)    (None, 16, 16, 32)   0           block1a_activation[0][0]         \n",
            "                                                                 block1a_se_expand[0][0]          \n",
            "__________________________________________________________________________________________________\n",
            "block1a_project_conv (Conv2D)   (None, 16, 16, 16)   512         block1a_se_excite[0][0]          \n",
            "__________________________________________________________________________________________________\n",
            "block1a_project_bn (BatchNormal (None, 16, 16, 16)   64          block1a_project_conv[0][0]       \n",
            "__________________________________________________________________________________________________\n",
            "block2a_expand_conv (Conv2D)    (None, 16, 16, 96)   1536        block1a_project_bn[0][0]         \n",
            "__________________________________________________________________________________________________\n",
            "block2a_expand_bn (BatchNormali (None, 16, 16, 96)   384         block2a_expand_conv[0][0]        \n",
            "__________________________________________________________________________________________________\n",
            "block2a_expand_activation (Acti (None, 16, 16, 96)   0           block2a_expand_bn[0][0]          \n",
            "__________________________________________________________________________________________________\n",
            "block2a_dwconv_pad (ZeroPadding (None, 17, 17, 96)   0           block2a_expand_activation[0][0]  \n",
            "__________________________________________________________________________________________________\n",
            "block2a_dwconv (DepthwiseConv2D (None, 8, 8, 96)     864         block2a_dwconv_pad[0][0]         \n",
            "__________________________________________________________________________________________________\n",
            "block2a_bn (BatchNormalization) (None, 8, 8, 96)     384         block2a_dwconv[0][0]             \n",
            "__________________________________________________________________________________________________\n",
            "block2a_activation (Activation) (None, 8, 8, 96)     0           block2a_bn[0][0]                 \n",
            "__________________________________________________________________________________________________\n",
            "block2a_se_squeeze (GlobalAvera (None, 96)           0           block2a_activation[0][0]         \n",
            "__________________________________________________________________________________________________\n",
            "block2a_se_reshape (Reshape)    (None, 1, 1, 96)     0           block2a_se_squeeze[0][0]         \n",
            "__________________________________________________________________________________________________\n",
            "block2a_se_reduce (Conv2D)      (None, 1, 1, 4)      388         block2a_se_reshape[0][0]         \n",
            "__________________________________________________________________________________________________\n",
            "block2a_se_expand (Conv2D)      (None, 1, 1, 96)     480         block2a_se_reduce[0][0]          \n",
            "__________________________________________________________________________________________________\n",
            "block2a_se_excite (Multiply)    (None, 8, 8, 96)     0           block2a_activation[0][0]         \n",
            "                                                                 block2a_se_expand[0][0]          \n",
            "__________________________________________________________________________________________________\n",
            "block2a_project_conv (Conv2D)   (None, 8, 8, 24)     2304        block2a_se_excite[0][0]          \n",
            "__________________________________________________________________________________________________\n",
            "block2a_project_bn (BatchNormal (None, 8, 8, 24)     96          block2a_project_conv[0][0]       \n",
            "__________________________________________________________________________________________________\n",
            "block2b_expand_conv (Conv2D)    (None, 8, 8, 144)    3456        block2a_project_bn[0][0]         \n",
            "__________________________________________________________________________________________________\n",
            "block2b_expand_bn (BatchNormali (None, 8, 8, 144)    576         block2b_expand_conv[0][0]        \n",
            "__________________________________________________________________________________________________\n",
            "block2b_expand_activation (Acti (None, 8, 8, 144)    0           block2b_expand_bn[0][0]          \n",
            "__________________________________________________________________________________________________\n",
            "block2b_dwconv (DepthwiseConv2D (None, 8, 8, 144)    1296        block2b_expand_activation[0][0]  \n",
            "__________________________________________________________________________________________________\n",
            "block2b_bn (BatchNormalization) (None, 8, 8, 144)    576         block2b_dwconv[0][0]             \n",
            "__________________________________________________________________________________________________\n",
            "block2b_activation (Activation) (None, 8, 8, 144)    0           block2b_bn[0][0]                 \n",
            "__________________________________________________________________________________________________\n",
            "block2b_se_squeeze (GlobalAvera (None, 144)          0           block2b_activation[0][0]         \n",
            "__________________________________________________________________________________________________\n",
            "block2b_se_reshape (Reshape)    (None, 1, 1, 144)    0           block2b_se_squeeze[0][0]         \n",
            "__________________________________________________________________________________________________\n",
            "block2b_se_reduce (Conv2D)      (None, 1, 1, 6)      870         block2b_se_reshape[0][0]         \n",
            "__________________________________________________________________________________________________\n",
            "block2b_se_expand (Conv2D)      (None, 1, 1, 144)    1008        block2b_se_reduce[0][0]          \n",
            "__________________________________________________________________________________________________\n",
            "block2b_se_excite (Multiply)    (None, 8, 8, 144)    0           block2b_activation[0][0]         \n",
            "                                                                 block2b_se_expand[0][0]          \n",
            "__________________________________________________________________________________________________\n",
            "block2b_project_conv (Conv2D)   (None, 8, 8, 24)     3456        block2b_se_excite[0][0]          \n",
            "__________________________________________________________________________________________________\n",
            "block2b_project_bn (BatchNormal (None, 8, 8, 24)     96          block2b_project_conv[0][0]       \n",
            "__________________________________________________________________________________________________\n",
            "block2b_drop (Dropout)          (None, 8, 8, 24)     0           block2b_project_bn[0][0]         \n",
            "__________________________________________________________________________________________________\n",
            "block2b_add (Add)               (None, 8, 8, 24)     0           block2b_drop[0][0]               \n",
            "                                                                 block2a_project_bn[0][0]         \n",
            "__________________________________________________________________________________________________\n",
            "block3a_expand_conv (Conv2D)    (None, 8, 8, 144)    3456        block2b_add[0][0]                \n",
            "__________________________________________________________________________________________________\n",
            "block3a_expand_bn (BatchNormali (None, 8, 8, 144)    576         block3a_expand_conv[0][0]        \n",
            "__________________________________________________________________________________________________\n",
            "block3a_expand_activation (Acti (None, 8, 8, 144)    0           block3a_expand_bn[0][0]          \n",
            "__________________________________________________________________________________________________\n",
            "block3a_dwconv_pad (ZeroPadding (None, 11, 11, 144)  0           block3a_expand_activation[0][0]  \n",
            "__________________________________________________________________________________________________\n",
            "block3a_dwconv (DepthwiseConv2D (None, 4, 4, 144)    3600        block3a_dwconv_pad[0][0]         \n",
            "__________________________________________________________________________________________________\n",
            "block3a_bn (BatchNormalization) (None, 4, 4, 144)    576         block3a_dwconv[0][0]             \n",
            "__________________________________________________________________________________________________\n",
            "block3a_activation (Activation) (None, 4, 4, 144)    0           block3a_bn[0][0]                 \n",
            "__________________________________________________________________________________________________\n",
            "block3a_se_squeeze (GlobalAvera (None, 144)          0           block3a_activation[0][0]         \n",
            "__________________________________________________________________________________________________\n",
            "block3a_se_reshape (Reshape)    (None, 1, 1, 144)    0           block3a_se_squeeze[0][0]         \n",
            "__________________________________________________________________________________________________\n",
            "block3a_se_reduce (Conv2D)      (None, 1, 1, 6)      870         block3a_se_reshape[0][0]         \n",
            "__________________________________________________________________________________________________\n",
            "block3a_se_expand (Conv2D)      (None, 1, 1, 144)    1008        block3a_se_reduce[0][0]          \n",
            "__________________________________________________________________________________________________\n",
            "block3a_se_excite (Multiply)    (None, 4, 4, 144)    0           block3a_activation[0][0]         \n",
            "                                                                 block3a_se_expand[0][0]          \n",
            "__________________________________________________________________________________________________\n",
            "block3a_project_conv (Conv2D)   (None, 4, 4, 40)     5760        block3a_se_excite[0][0]          \n",
            "__________________________________________________________________________________________________\n",
            "block3a_project_bn (BatchNormal (None, 4, 4, 40)     160         block3a_project_conv[0][0]       \n",
            "__________________________________________________________________________________________________\n",
            "block3b_expand_conv (Conv2D)    (None, 4, 4, 240)    9600        block3a_project_bn[0][0]         \n",
            "__________________________________________________________________________________________________\n",
            "block3b_expand_bn (BatchNormali (None, 4, 4, 240)    960         block3b_expand_conv[0][0]        \n",
            "__________________________________________________________________________________________________\n",
            "block3b_expand_activation (Acti (None, 4, 4, 240)    0           block3b_expand_bn[0][0]          \n",
            "__________________________________________________________________________________________________\n",
            "block3b_dwconv (DepthwiseConv2D (None, 4, 4, 240)    6000        block3b_expand_activation[0][0]  \n",
            "__________________________________________________________________________________________________\n",
            "block3b_bn (BatchNormalization) (None, 4, 4, 240)    960         block3b_dwconv[0][0]             \n",
            "__________________________________________________________________________________________________\n",
            "block3b_activation (Activation) (None, 4, 4, 240)    0           block3b_bn[0][0]                 \n",
            "__________________________________________________________________________________________________\n",
            "block3b_se_squeeze (GlobalAvera (None, 240)          0           block3b_activation[0][0]         \n",
            "__________________________________________________________________________________________________\n",
            "block3b_se_reshape (Reshape)    (None, 1, 1, 240)    0           block3b_se_squeeze[0][0]         \n",
            "__________________________________________________________________________________________________\n",
            "block3b_se_reduce (Conv2D)      (None, 1, 1, 10)     2410        block3b_se_reshape[0][0]         \n",
            "__________________________________________________________________________________________________\n",
            "block3b_se_expand (Conv2D)      (None, 1, 1, 240)    2640        block3b_se_reduce[0][0]          \n",
            "__________________________________________________________________________________________________\n",
            "block3b_se_excite (Multiply)    (None, 4, 4, 240)    0           block3b_activation[0][0]         \n",
            "                                                                 block3b_se_expand[0][0]          \n",
            "__________________________________________________________________________________________________\n",
            "block3b_project_conv (Conv2D)   (None, 4, 4, 40)     9600        block3b_se_excite[0][0]          \n",
            "__________________________________________________________________________________________________\n",
            "block3b_project_bn (BatchNormal (None, 4, 4, 40)     160         block3b_project_conv[0][0]       \n",
            "__________________________________________________________________________________________________\n",
            "block3b_drop (Dropout)          (None, 4, 4, 40)     0           block3b_project_bn[0][0]         \n",
            "__________________________________________________________________________________________________\n",
            "block3b_add (Add)               (None, 4, 4, 40)     0           block3b_drop[0][0]               \n",
            "                                                                 block3a_project_bn[0][0]         \n",
            "__________________________________________________________________________________________________\n",
            "block4a_expand_conv (Conv2D)    (None, 4, 4, 240)    9600        block3b_add[0][0]                \n",
            "__________________________________________________________________________________________________\n",
            "block4a_expand_bn (BatchNormali (None, 4, 4, 240)    960         block4a_expand_conv[0][0]        \n",
            "__________________________________________________________________________________________________\n",
            "block4a_expand_activation (Acti (None, 4, 4, 240)    0           block4a_expand_bn[0][0]          \n",
            "__________________________________________________________________________________________________\n",
            "block4a_dwconv_pad (ZeroPadding (None, 5, 5, 240)    0           block4a_expand_activation[0][0]  \n",
            "__________________________________________________________________________________________________\n",
            "block4a_dwconv (DepthwiseConv2D (None, 2, 2, 240)    2160        block4a_dwconv_pad[0][0]         \n",
            "__________________________________________________________________________________________________\n",
            "block4a_bn (BatchNormalization) (None, 2, 2, 240)    960         block4a_dwconv[0][0]             \n",
            "__________________________________________________________________________________________________\n",
            "block4a_activation (Activation) (None, 2, 2, 240)    0           block4a_bn[0][0]                 \n",
            "__________________________________________________________________________________________________\n",
            "block4a_se_squeeze (GlobalAvera (None, 240)          0           block4a_activation[0][0]         \n",
            "__________________________________________________________________________________________________\n",
            "block4a_se_reshape (Reshape)    (None, 1, 1, 240)    0           block4a_se_squeeze[0][0]         \n",
            "__________________________________________________________________________________________________\n",
            "block4a_se_reduce (Conv2D)      (None, 1, 1, 10)     2410        block4a_se_reshape[0][0]         \n",
            "__________________________________________________________________________________________________\n",
            "block4a_se_expand (Conv2D)      (None, 1, 1, 240)    2640        block4a_se_reduce[0][0]          \n",
            "__________________________________________________________________________________________________\n",
            "block4a_se_excite (Multiply)    (None, 2, 2, 240)    0           block4a_activation[0][0]         \n",
            "                                                                 block4a_se_expand[0][0]          \n",
            "__________________________________________________________________________________________________\n",
            "block4a_project_conv (Conv2D)   (None, 2, 2, 80)     19200       block4a_se_excite[0][0]          \n",
            "__________________________________________________________________________________________________\n",
            "block4a_project_bn (BatchNormal (None, 2, 2, 80)     320         block4a_project_conv[0][0]       \n",
            "__________________________________________________________________________________________________\n",
            "block4b_expand_conv (Conv2D)    (None, 2, 2, 480)    38400       block4a_project_bn[0][0]         \n",
            "__________________________________________________________________________________________________\n",
            "block4b_expand_bn (BatchNormali (None, 2, 2, 480)    1920        block4b_expand_conv[0][0]        \n",
            "__________________________________________________________________________________________________\n",
            "block4b_expand_activation (Acti (None, 2, 2, 480)    0           block4b_expand_bn[0][0]          \n",
            "__________________________________________________________________________________________________\n",
            "block4b_dwconv (DepthwiseConv2D (None, 2, 2, 480)    4320        block4b_expand_activation[0][0]  \n",
            "__________________________________________________________________________________________________\n",
            "block4b_bn (BatchNormalization) (None, 2, 2, 480)    1920        block4b_dwconv[0][0]             \n",
            "__________________________________________________________________________________________________\n",
            "block4b_activation (Activation) (None, 2, 2, 480)    0           block4b_bn[0][0]                 \n",
            "__________________________________________________________________________________________________\n",
            "block4b_se_squeeze (GlobalAvera (None, 480)          0           block4b_activation[0][0]         \n",
            "__________________________________________________________________________________________________\n",
            "block4b_se_reshape (Reshape)    (None, 1, 1, 480)    0           block4b_se_squeeze[0][0]         \n",
            "__________________________________________________________________________________________________\n",
            "block4b_se_reduce (Conv2D)      (None, 1, 1, 20)     9620        block4b_se_reshape[0][0]         \n",
            "__________________________________________________________________________________________________\n",
            "block4b_se_expand (Conv2D)      (None, 1, 1, 480)    10080       block4b_se_reduce[0][0]          \n",
            "__________________________________________________________________________________________________\n",
            "block4b_se_excite (Multiply)    (None, 2, 2, 480)    0           block4b_activation[0][0]         \n",
            "                                                                 block4b_se_expand[0][0]          \n",
            "__________________________________________________________________________________________________\n",
            "block4b_project_conv (Conv2D)   (None, 2, 2, 80)     38400       block4b_se_excite[0][0]          \n",
            "__________________________________________________________________________________________________\n",
            "block4b_project_bn (BatchNormal (None, 2, 2, 80)     320         block4b_project_conv[0][0]       \n",
            "__________________________________________________________________________________________________\n",
            "block4b_drop (Dropout)          (None, 2, 2, 80)     0           block4b_project_bn[0][0]         \n",
            "__________________________________________________________________________________________________\n",
            "block4b_add (Add)               (None, 2, 2, 80)     0           block4b_drop[0][0]               \n",
            "                                                                 block4a_project_bn[0][0]         \n",
            "__________________________________________________________________________________________________\n",
            "block4c_expand_conv (Conv2D)    (None, 2, 2, 480)    38400       block4b_add[0][0]                \n",
            "__________________________________________________________________________________________________\n",
            "block4c_expand_bn (BatchNormali (None, 2, 2, 480)    1920        block4c_expand_conv[0][0]        \n",
            "__________________________________________________________________________________________________\n",
            "block4c_expand_activation (Acti (None, 2, 2, 480)    0           block4c_expand_bn[0][0]          \n",
            "__________________________________________________________________________________________________\n",
            "block4c_dwconv (DepthwiseConv2D (None, 2, 2, 480)    4320        block4c_expand_activation[0][0]  \n",
            "__________________________________________________________________________________________________\n",
            "block4c_bn (BatchNormalization) (None, 2, 2, 480)    1920        block4c_dwconv[0][0]             \n",
            "__________________________________________________________________________________________________\n",
            "block4c_activation (Activation) (None, 2, 2, 480)    0           block4c_bn[0][0]                 \n",
            "__________________________________________________________________________________________________\n",
            "block4c_se_squeeze (GlobalAvera (None, 480)          0           block4c_activation[0][0]         \n",
            "__________________________________________________________________________________________________\n",
            "block4c_se_reshape (Reshape)    (None, 1, 1, 480)    0           block4c_se_squeeze[0][0]         \n",
            "__________________________________________________________________________________________________\n",
            "block4c_se_reduce (Conv2D)      (None, 1, 1, 20)     9620        block4c_se_reshape[0][0]         \n",
            "__________________________________________________________________________________________________\n",
            "block4c_se_expand (Conv2D)      (None, 1, 1, 480)    10080       block4c_se_reduce[0][0]          \n",
            "__________________________________________________________________________________________________\n",
            "block4c_se_excite (Multiply)    (None, 2, 2, 480)    0           block4c_activation[0][0]         \n",
            "                                                                 block4c_se_expand[0][0]          \n",
            "__________________________________________________________________________________________________\n",
            "block4c_project_conv (Conv2D)   (None, 2, 2, 80)     38400       block4c_se_excite[0][0]          \n",
            "__________________________________________________________________________________________________\n",
            "block4c_project_bn (BatchNormal (None, 2, 2, 80)     320         block4c_project_conv[0][0]       \n",
            "__________________________________________________________________________________________________\n",
            "block4c_drop (Dropout)          (None, 2, 2, 80)     0           block4c_project_bn[0][0]         \n",
            "__________________________________________________________________________________________________\n",
            "block4c_add (Add)               (None, 2, 2, 80)     0           block4c_drop[0][0]               \n",
            "                                                                 block4b_add[0][0]                \n",
            "__________________________________________________________________________________________________\n",
            "block5a_expand_conv (Conv2D)    (None, 2, 2, 480)    38400       block4c_add[0][0]                \n",
            "__________________________________________________________________________________________________\n",
            "block5a_expand_bn (BatchNormali (None, 2, 2, 480)    1920        block5a_expand_conv[0][0]        \n",
            "__________________________________________________________________________________________________\n",
            "block5a_expand_activation (Acti (None, 2, 2, 480)    0           block5a_expand_bn[0][0]          \n",
            "__________________________________________________________________________________________________\n",
            "block5a_dwconv (DepthwiseConv2D (None, 2, 2, 480)    12000       block5a_expand_activation[0][0]  \n",
            "__________________________________________________________________________________________________\n",
            "block5a_bn (BatchNormalization) (None, 2, 2, 480)    1920        block5a_dwconv[0][0]             \n",
            "__________________________________________________________________________________________________\n",
            "block5a_activation (Activation) (None, 2, 2, 480)    0           block5a_bn[0][0]                 \n",
            "__________________________________________________________________________________________________\n",
            "block5a_se_squeeze (GlobalAvera (None, 480)          0           block5a_activation[0][0]         \n",
            "__________________________________________________________________________________________________\n",
            "block5a_se_reshape (Reshape)    (None, 1, 1, 480)    0           block5a_se_squeeze[0][0]         \n",
            "__________________________________________________________________________________________________\n",
            "block5a_se_reduce (Conv2D)      (None, 1, 1, 20)     9620        block5a_se_reshape[0][0]         \n",
            "__________________________________________________________________________________________________\n",
            "block5a_se_expand (Conv2D)      (None, 1, 1, 480)    10080       block5a_se_reduce[0][0]          \n",
            "__________________________________________________________________________________________________\n",
            "block5a_se_excite (Multiply)    (None, 2, 2, 480)    0           block5a_activation[0][0]         \n",
            "                                                                 block5a_se_expand[0][0]          \n",
            "__________________________________________________________________________________________________\n",
            "block5a_project_conv (Conv2D)   (None, 2, 2, 112)    53760       block5a_se_excite[0][0]          \n",
            "__________________________________________________________________________________________________\n",
            "block5a_project_bn (BatchNormal (None, 2, 2, 112)    448         block5a_project_conv[0][0]       \n",
            "__________________________________________________________________________________________________\n",
            "block5b_expand_conv (Conv2D)    (None, 2, 2, 672)    75264       block5a_project_bn[0][0]         \n",
            "__________________________________________________________________________________________________\n",
            "block5b_expand_bn (BatchNormali (None, 2, 2, 672)    2688        block5b_expand_conv[0][0]        \n",
            "__________________________________________________________________________________________________\n",
            "block5b_expand_activation (Acti (None, 2, 2, 672)    0           block5b_expand_bn[0][0]          \n",
            "__________________________________________________________________________________________________\n",
            "block5b_dwconv (DepthwiseConv2D (None, 2, 2, 672)    16800       block5b_expand_activation[0][0]  \n",
            "__________________________________________________________________________________________________\n",
            "block5b_bn (BatchNormalization) (None, 2, 2, 672)    2688        block5b_dwconv[0][0]             \n",
            "__________________________________________________________________________________________________\n",
            "block5b_activation (Activation) (None, 2, 2, 672)    0           block5b_bn[0][0]                 \n",
            "__________________________________________________________________________________________________\n",
            "block5b_se_squeeze (GlobalAvera (None, 672)          0           block5b_activation[0][0]         \n",
            "__________________________________________________________________________________________________\n",
            "block5b_se_reshape (Reshape)    (None, 1, 1, 672)    0           block5b_se_squeeze[0][0]         \n",
            "__________________________________________________________________________________________________\n",
            "block5b_se_reduce (Conv2D)      (None, 1, 1, 28)     18844       block5b_se_reshape[0][0]         \n",
            "__________________________________________________________________________________________________\n",
            "block5b_se_expand (Conv2D)      (None, 1, 1, 672)    19488       block5b_se_reduce[0][0]          \n",
            "__________________________________________________________________________________________________\n",
            "block5b_se_excite (Multiply)    (None, 2, 2, 672)    0           block5b_activation[0][0]         \n",
            "                                                                 block5b_se_expand[0][0]          \n",
            "__________________________________________________________________________________________________\n",
            "block5b_project_conv (Conv2D)   (None, 2, 2, 112)    75264       block5b_se_excite[0][0]          \n",
            "__________________________________________________________________________________________________\n",
            "block5b_project_bn (BatchNormal (None, 2, 2, 112)    448         block5b_project_conv[0][0]       \n",
            "__________________________________________________________________________________________________\n",
            "block5b_drop (Dropout)          (None, 2, 2, 112)    0           block5b_project_bn[0][0]         \n",
            "__________________________________________________________________________________________________\n",
            "block5b_add (Add)               (None, 2, 2, 112)    0           block5b_drop[0][0]               \n",
            "                                                                 block5a_project_bn[0][0]         \n",
            "__________________________________________________________________________________________________\n",
            "block5c_expand_conv (Conv2D)    (None, 2, 2, 672)    75264       block5b_add[0][0]                \n",
            "__________________________________________________________________________________________________\n",
            "block5c_expand_bn (BatchNormali (None, 2, 2, 672)    2688        block5c_expand_conv[0][0]        \n",
            "__________________________________________________________________________________________________\n",
            "block5c_expand_activation (Acti (None, 2, 2, 672)    0           block5c_expand_bn[0][0]          \n",
            "__________________________________________________________________________________________________\n",
            "block5c_dwconv (DepthwiseConv2D (None, 2, 2, 672)    16800       block5c_expand_activation[0][0]  \n",
            "__________________________________________________________________________________________________\n",
            "block5c_bn (BatchNormalization) (None, 2, 2, 672)    2688        block5c_dwconv[0][0]             \n",
            "__________________________________________________________________________________________________\n",
            "block5c_activation (Activation) (None, 2, 2, 672)    0           block5c_bn[0][0]                 \n",
            "__________________________________________________________________________________________________\n",
            "block5c_se_squeeze (GlobalAvera (None, 672)          0           block5c_activation[0][0]         \n",
            "__________________________________________________________________________________________________\n",
            "block5c_se_reshape (Reshape)    (None, 1, 1, 672)    0           block5c_se_squeeze[0][0]         \n",
            "__________________________________________________________________________________________________\n",
            "block5c_se_reduce (Conv2D)      (None, 1, 1, 28)     18844       block5c_se_reshape[0][0]         \n",
            "__________________________________________________________________________________________________\n",
            "block5c_se_expand (Conv2D)      (None, 1, 1, 672)    19488       block5c_se_reduce[0][0]          \n",
            "__________________________________________________________________________________________________\n",
            "block5c_se_excite (Multiply)    (None, 2, 2, 672)    0           block5c_activation[0][0]         \n",
            "                                                                 block5c_se_expand[0][0]          \n",
            "__________________________________________________________________________________________________\n",
            "block5c_project_conv (Conv2D)   (None, 2, 2, 112)    75264       block5c_se_excite[0][0]          \n",
            "__________________________________________________________________________________________________\n",
            "block5c_project_bn (BatchNormal (None, 2, 2, 112)    448         block5c_project_conv[0][0]       \n",
            "__________________________________________________________________________________________________\n",
            "block5c_drop (Dropout)          (None, 2, 2, 112)    0           block5c_project_bn[0][0]         \n",
            "__________________________________________________________________________________________________\n",
            "block5c_add (Add)               (None, 2, 2, 112)    0           block5c_drop[0][0]               \n",
            "                                                                 block5b_add[0][0]                \n",
            "__________________________________________________________________________________________________\n",
            "block6a_expand_conv (Conv2D)    (None, 2, 2, 672)    75264       block5c_add[0][0]                \n",
            "__________________________________________________________________________________________________\n",
            "block6a_expand_bn (BatchNormali (None, 2, 2, 672)    2688        block6a_expand_conv[0][0]        \n",
            "__________________________________________________________________________________________________\n",
            "block6a_expand_activation (Acti (None, 2, 2, 672)    0           block6a_expand_bn[0][0]          \n",
            "__________________________________________________________________________________________________\n",
            "block6a_dwconv_pad (ZeroPadding (None, 5, 5, 672)    0           block6a_expand_activation[0][0]  \n",
            "__________________________________________________________________________________________________\n",
            "block6a_dwconv (DepthwiseConv2D (None, 1, 1, 672)    16800       block6a_dwconv_pad[0][0]         \n",
            "__________________________________________________________________________________________________\n",
            "block6a_bn (BatchNormalization) (None, 1, 1, 672)    2688        block6a_dwconv[0][0]             \n",
            "__________________________________________________________________________________________________\n",
            "block6a_activation (Activation) (None, 1, 1, 672)    0           block6a_bn[0][0]                 \n",
            "__________________________________________________________________________________________________\n",
            "block6a_se_squeeze (GlobalAvera (None, 672)          0           block6a_activation[0][0]         \n",
            "__________________________________________________________________________________________________\n",
            "block6a_se_reshape (Reshape)    (None, 1, 1, 672)    0           block6a_se_squeeze[0][0]         \n",
            "__________________________________________________________________________________________________\n",
            "block6a_se_reduce (Conv2D)      (None, 1, 1, 28)     18844       block6a_se_reshape[0][0]         \n",
            "__________________________________________________________________________________________________\n",
            "block6a_se_expand (Conv2D)      (None, 1, 1, 672)    19488       block6a_se_reduce[0][0]          \n",
            "__________________________________________________________________________________________________\n",
            "block6a_se_excite (Multiply)    (None, 1, 1, 672)    0           block6a_activation[0][0]         \n",
            "                                                                 block6a_se_expand[0][0]          \n",
            "__________________________________________________________________________________________________\n",
            "block6a_project_conv (Conv2D)   (None, 1, 1, 192)    129024      block6a_se_excite[0][0]          \n",
            "__________________________________________________________________________________________________\n",
            "block6a_project_bn (BatchNormal (None, 1, 1, 192)    768         block6a_project_conv[0][0]       \n",
            "__________________________________________________________________________________________________\n",
            "block6b_expand_conv (Conv2D)    (None, 1, 1, 1152)   221184      block6a_project_bn[0][0]         \n",
            "__________________________________________________________________________________________________\n",
            "block6b_expand_bn (BatchNormali (None, 1, 1, 1152)   4608        block6b_expand_conv[0][0]        \n",
            "__________________________________________________________________________________________________\n",
            "block6b_expand_activation (Acti (None, 1, 1, 1152)   0           block6b_expand_bn[0][0]          \n",
            "__________________________________________________________________________________________________\n",
            "block6b_dwconv (DepthwiseConv2D (None, 1, 1, 1152)   28800       block6b_expand_activation[0][0]  \n",
            "__________________________________________________________________________________________________\n",
            "block6b_bn (BatchNormalization) (None, 1, 1, 1152)   4608        block6b_dwconv[0][0]             \n",
            "__________________________________________________________________________________________________\n",
            "block6b_activation (Activation) (None, 1, 1, 1152)   0           block6b_bn[0][0]                 \n",
            "__________________________________________________________________________________________________\n",
            "block6b_se_squeeze (GlobalAvera (None, 1152)         0           block6b_activation[0][0]         \n",
            "__________________________________________________________________________________________________\n",
            "block6b_se_reshape (Reshape)    (None, 1, 1, 1152)   0           block6b_se_squeeze[0][0]         \n",
            "__________________________________________________________________________________________________\n",
            "block6b_se_reduce (Conv2D)      (None, 1, 1, 48)     55344       block6b_se_reshape[0][0]         \n",
            "__________________________________________________________________________________________________\n",
            "block6b_se_expand (Conv2D)      (None, 1, 1, 1152)   56448       block6b_se_reduce[0][0]          \n",
            "__________________________________________________________________________________________________\n",
            "block6b_se_excite (Multiply)    (None, 1, 1, 1152)   0           block6b_activation[0][0]         \n",
            "                                                                 block6b_se_expand[0][0]          \n",
            "__________________________________________________________________________________________________\n",
            "block6b_project_conv (Conv2D)   (None, 1, 1, 192)    221184      block6b_se_excite[0][0]          \n",
            "__________________________________________________________________________________________________\n",
            "block6b_project_bn (BatchNormal (None, 1, 1, 192)    768         block6b_project_conv[0][0]       \n",
            "__________________________________________________________________________________________________\n",
            "block6b_drop (Dropout)          (None, 1, 1, 192)    0           block6b_project_bn[0][0]         \n",
            "__________________________________________________________________________________________________\n",
            "block6b_add (Add)               (None, 1, 1, 192)    0           block6b_drop[0][0]               \n",
            "                                                                 block6a_project_bn[0][0]         \n",
            "__________________________________________________________________________________________________\n",
            "block6c_expand_conv (Conv2D)    (None, 1, 1, 1152)   221184      block6b_add[0][0]                \n",
            "__________________________________________________________________________________________________\n",
            "block6c_expand_bn (BatchNormali (None, 1, 1, 1152)   4608        block6c_expand_conv[0][0]        \n",
            "__________________________________________________________________________________________________\n",
            "block6c_expand_activation (Acti (None, 1, 1, 1152)   0           block6c_expand_bn[0][0]          \n",
            "__________________________________________________________________________________________________\n",
            "block6c_dwconv (DepthwiseConv2D (None, 1, 1, 1152)   28800       block6c_expand_activation[0][0]  \n",
            "__________________________________________________________________________________________________\n",
            "block6c_bn (BatchNormalization) (None, 1, 1, 1152)   4608        block6c_dwconv[0][0]             \n",
            "__________________________________________________________________________________________________\n",
            "block6c_activation (Activation) (None, 1, 1, 1152)   0           block6c_bn[0][0]                 \n",
            "__________________________________________________________________________________________________\n",
            "block6c_se_squeeze (GlobalAvera (None, 1152)         0           block6c_activation[0][0]         \n",
            "__________________________________________________________________________________________________\n",
            "block6c_se_reshape (Reshape)    (None, 1, 1, 1152)   0           block6c_se_squeeze[0][0]         \n",
            "__________________________________________________________________________________________________\n",
            "block6c_se_reduce (Conv2D)      (None, 1, 1, 48)     55344       block6c_se_reshape[0][0]         \n",
            "__________________________________________________________________________________________________\n",
            "block6c_se_expand (Conv2D)      (None, 1, 1, 1152)   56448       block6c_se_reduce[0][0]          \n",
            "__________________________________________________________________________________________________\n",
            "block6c_se_excite (Multiply)    (None, 1, 1, 1152)   0           block6c_activation[0][0]         \n",
            "                                                                 block6c_se_expand[0][0]          \n",
            "__________________________________________________________________________________________________\n",
            "block6c_project_conv (Conv2D)   (None, 1, 1, 192)    221184      block6c_se_excite[0][0]          \n",
            "__________________________________________________________________________________________________\n",
            "block6c_project_bn (BatchNormal (None, 1, 1, 192)    768         block6c_project_conv[0][0]       \n",
            "__________________________________________________________________________________________________\n",
            "block6c_drop (Dropout)          (None, 1, 1, 192)    0           block6c_project_bn[0][0]         \n",
            "__________________________________________________________________________________________________\n",
            "block6c_add (Add)               (None, 1, 1, 192)    0           block6c_drop[0][0]               \n",
            "                                                                 block6b_add[0][0]                \n",
            "__________________________________________________________________________________________________\n",
            "block6d_expand_conv (Conv2D)    (None, 1, 1, 1152)   221184      block6c_add[0][0]                \n",
            "__________________________________________________________________________________________________\n",
            "block6d_expand_bn (BatchNormali (None, 1, 1, 1152)   4608        block6d_expand_conv[0][0]        \n",
            "__________________________________________________________________________________________________\n",
            "block6d_expand_activation (Acti (None, 1, 1, 1152)   0           block6d_expand_bn[0][0]          \n",
            "__________________________________________________________________________________________________\n",
            "block6d_dwconv (DepthwiseConv2D (None, 1, 1, 1152)   28800       block6d_expand_activation[0][0]  \n",
            "__________________________________________________________________________________________________\n",
            "block6d_bn (BatchNormalization) (None, 1, 1, 1152)   4608        block6d_dwconv[0][0]             \n",
            "__________________________________________________________________________________________________\n",
            "block6d_activation (Activation) (None, 1, 1, 1152)   0           block6d_bn[0][0]                 \n",
            "__________________________________________________________________________________________________\n",
            "block6d_se_squeeze (GlobalAvera (None, 1152)         0           block6d_activation[0][0]         \n",
            "__________________________________________________________________________________________________\n",
            "block6d_se_reshape (Reshape)    (None, 1, 1, 1152)   0           block6d_se_squeeze[0][0]         \n",
            "__________________________________________________________________________________________________\n",
            "block6d_se_reduce (Conv2D)      (None, 1, 1, 48)     55344       block6d_se_reshape[0][0]         \n",
            "__________________________________________________________________________________________________\n",
            "block6d_se_expand (Conv2D)      (None, 1, 1, 1152)   56448       block6d_se_reduce[0][0]          \n",
            "__________________________________________________________________________________________________\n",
            "block6d_se_excite (Multiply)    (None, 1, 1, 1152)   0           block6d_activation[0][0]         \n",
            "                                                                 block6d_se_expand[0][0]          \n",
            "__________________________________________________________________________________________________\n",
            "block6d_project_conv (Conv2D)   (None, 1, 1, 192)    221184      block6d_se_excite[0][0]          \n",
            "__________________________________________________________________________________________________\n",
            "block6d_project_bn (BatchNormal (None, 1, 1, 192)    768         block6d_project_conv[0][0]       \n",
            "__________________________________________________________________________________________________\n",
            "block6d_drop (Dropout)          (None, 1, 1, 192)    0           block6d_project_bn[0][0]         \n",
            "__________________________________________________________________________________________________\n",
            "block6d_add (Add)               (None, 1, 1, 192)    0           block6d_drop[0][0]               \n",
            "                                                                 block6c_add[0][0]                \n",
            "__________________________________________________________________________________________________\n",
            "block7a_expand_conv (Conv2D)    (None, 1, 1, 1152)   221184      block6d_add[0][0]                \n",
            "__________________________________________________________________________________________________\n",
            "block7a_expand_bn (BatchNormali (None, 1, 1, 1152)   4608        block7a_expand_conv[0][0]        \n",
            "__________________________________________________________________________________________________\n",
            "block7a_expand_activation (Acti (None, 1, 1, 1152)   0           block7a_expand_bn[0][0]          \n",
            "__________________________________________________________________________________________________\n",
            "block7a_dwconv (DepthwiseConv2D (None, 1, 1, 1152)   10368       block7a_expand_activation[0][0]  \n",
            "__________________________________________________________________________________________________\n",
            "block7a_bn (BatchNormalization) (None, 1, 1, 1152)   4608        block7a_dwconv[0][0]             \n",
            "__________________________________________________________________________________________________\n",
            "block7a_activation (Activation) (None, 1, 1, 1152)   0           block7a_bn[0][0]                 \n",
            "__________________________________________________________________________________________________\n",
            "block7a_se_squeeze (GlobalAvera (None, 1152)         0           block7a_activation[0][0]         \n",
            "__________________________________________________________________________________________________\n",
            "block7a_se_reshape (Reshape)    (None, 1, 1, 1152)   0           block7a_se_squeeze[0][0]         \n",
            "__________________________________________________________________________________________________\n",
            "block7a_se_reduce (Conv2D)      (None, 1, 1, 48)     55344       block7a_se_reshape[0][0]         \n",
            "__________________________________________________________________________________________________\n",
            "block7a_se_expand (Conv2D)      (None, 1, 1, 1152)   56448       block7a_se_reduce[0][0]          \n",
            "__________________________________________________________________________________________________\n",
            "block7a_se_excite (Multiply)    (None, 1, 1, 1152)   0           block7a_activation[0][0]         \n",
            "                                                                 block7a_se_expand[0][0]          \n",
            "__________________________________________________________________________________________________\n",
            "block7a_project_conv (Conv2D)   (None, 1, 1, 320)    368640      block7a_se_excite[0][0]          \n",
            "__________________________________________________________________________________________________\n",
            "block7a_project_bn (BatchNormal (None, 1, 1, 320)    1280        block7a_project_conv[0][0]       \n",
            "__________________________________________________________________________________________________\n",
            "top_conv (Conv2D)               (None, 1, 1, 1280)   409600      block7a_project_bn[0][0]         \n",
            "__________________________________________________________________________________________________\n",
            "top_bn (BatchNormalization)     (None, 1, 1, 1280)   5120        top_conv[0][0]                   \n",
            "__________________________________________________________________________________________________\n",
            "top_activation (Activation)     (None, 1, 1, 1280)   0           top_bn[0][0]                     \n",
            "__________________________________________________________________________________________________\n",
            "global_average_pooling2d (Globa (None, 1280)         0           top_activation[0][0]             \n",
            "__________________________________________________________________________________________________\n",
            "dense (Dense)                   (None, 47)           60207       global_average_pooling2d[0][0]   \n",
            "==================================================================================================\n",
            "Total params: 4,109,198\n",
            "Trainable params: 4,067,179\n",
            "Non-trainable params: 42,019\n",
            "__________________________________________________________________________________________________\n",
            "time: 1.19 s (started: 2021-05-25 19:46:06 +00:00)\n"
          ],
          "name": "stdout"
        }
      ]
    },
    {
      "cell_type": "code",
      "metadata": {
        "colab": {
          "base_uri": "https://localhost:8080/"
        },
        "id": "af3544ac",
        "outputId": "d99786ef-2638-4c6e-f9c5-3c71d352e7b0"
      },
      "source": [
        "from tensorflow.keras.optimizers import Adamax\n",
        "\n",
        "# Model compilation\n",
        "model.compile(loss='sparse_categorical_crossentropy',\n",
        "              optimizer=Adamax(0.0001),\n",
        "              metrics=['accuracy'])\n",
        "\n",
        "\n",
        "# Training model\n",
        "model_history = model.fit(ds_train,\n",
        "                          epochs=50,\n",
        "                          validation_data=ds_val,\n",
        "                          verbose=1)\n",
        "\n",
        "\n",
        "path = '/content/drive/MyDrive/Colab Notebooks/Notebooks/Models/EfficientNetB0_EMNIST_Balanced_Base/'\n",
        "model.save(path)"
      ],
      "execution_count": null,
      "outputs": [
        {
          "output_type": "stream",
          "text": [
            "Epoch 1/50\n",
            "1410/1410 [==============================] - 80s 51ms/step - loss: 3.7308 - accuracy: 0.0707 - val_loss: 3.4075 - val_accuracy: 0.1338\n",
            "Epoch 2/50\n",
            "1410/1410 [==============================] - 75s 53ms/step - loss: 3.1309 - accuracy: 0.1702 - val_loss: 2.6732 - val_accuracy: 0.2773\n",
            "Epoch 3/50\n",
            "1410/1410 [==============================] - 70s 50ms/step - loss: 2.4650 - accuracy: 0.3069 - val_loss: 1.9472 - val_accuracy: 0.4380\n",
            "Epoch 4/50\n",
            "1410/1410 [==============================] - 70s 50ms/step - loss: 1.8593 - accuracy: 0.4503 - val_loss: 1.4087 - val_accuracy: 0.5759\n",
            "Epoch 5/50\n",
            "1410/1410 [==============================] - 70s 50ms/step - loss: 1.4134 - accuracy: 0.5680 - val_loss: 1.0444 - val_accuracy: 0.6710\n",
            "Epoch 6/50\n",
            "1410/1410 [==============================] - 75s 53ms/step - loss: 1.1075 - accuracy: 0.6524 - val_loss: 0.8530 - val_accuracy: 0.7216\n",
            "Epoch 7/50\n",
            "1410/1410 [==============================] - 70s 50ms/step - loss: 0.9151 - accuracy: 0.7068 - val_loss: 0.7114 - val_accuracy: 0.7666\n",
            "Epoch 8/50\n",
            "1410/1410 [==============================] - 70s 50ms/step - loss: 0.7819 - accuracy: 0.7431 - val_loss: 0.6328 - val_accuracy: 0.7904\n",
            "Epoch 9/50\n",
            "1410/1410 [==============================] - 71s 50ms/step - loss: 0.6921 - accuracy: 0.7699 - val_loss: 0.5796 - val_accuracy: 0.8051\n",
            "Epoch 10/50\n",
            "1410/1410 [==============================] - 70s 50ms/step - loss: 0.6281 - accuracy: 0.7899 - val_loss: 0.5437 - val_accuracy: 0.8169\n",
            "Epoch 11/50\n",
            "1410/1410 [==============================] - 75s 53ms/step - loss: 0.5793 - accuracy: 0.8017 - val_loss: 0.5207 - val_accuracy: 0.8235\n",
            "Epoch 12/50\n",
            "1410/1410 [==============================] - 75s 53ms/step - loss: 0.5423 - accuracy: 0.8145 - val_loss: 0.4942 - val_accuracy: 0.8334\n",
            "Epoch 13/50\n",
            "1410/1410 [==============================] - 70s 50ms/step - loss: 0.5027 - accuracy: 0.8261 - val_loss: 0.4807 - val_accuracy: 0.8366\n",
            "Epoch 14/50\n",
            "1410/1410 [==============================] - 70s 50ms/step - loss: 0.4741 - accuracy: 0.8345 - val_loss: 0.4704 - val_accuracy: 0.8391\n",
            "Epoch 15/50\n",
            "1410/1410 [==============================] - 70s 50ms/step - loss: 0.4498 - accuracy: 0.8420 - val_loss: 0.4579 - val_accuracy: 0.8428\n",
            "Epoch 16/50\n",
            "1410/1410 [==============================] - 70s 50ms/step - loss: 0.4282 - accuracy: 0.8471 - val_loss: 0.4511 - val_accuracy: 0.8443\n",
            "Epoch 17/50\n",
            "1410/1410 [==============================] - 70s 50ms/step - loss: 0.4120 - accuracy: 0.8535 - val_loss: 0.4419 - val_accuracy: 0.8484\n",
            "Epoch 18/50\n",
            "1410/1410 [==============================] - 75s 53ms/step - loss: 0.3947 - accuracy: 0.8583 - val_loss: 0.4364 - val_accuracy: 0.8489\n",
            "Epoch 19/50\n",
            "1410/1410 [==============================] - 70s 50ms/step - loss: 0.3786 - accuracy: 0.8622 - val_loss: 0.4357 - val_accuracy: 0.8517\n",
            "Epoch 20/50\n",
            "1410/1410 [==============================] - 75s 53ms/step - loss: 0.3669 - accuracy: 0.8666 - val_loss: 0.4365 - val_accuracy: 0.8524\n",
            "Epoch 21/50\n",
            "1410/1410 [==============================] - 74s 53ms/step - loss: 0.3533 - accuracy: 0.8702 - val_loss: 0.4285 - val_accuracy: 0.8543\n",
            "Epoch 22/50\n",
            "1410/1410 [==============================] - 70s 50ms/step - loss: 0.3444 - accuracy: 0.8732 - val_loss: 0.4252 - val_accuracy: 0.8561\n",
            "Epoch 23/50\n",
            "1410/1410 [==============================] - 75s 53ms/step - loss: 0.3299 - accuracy: 0.8773 - val_loss: 0.4277 - val_accuracy: 0.8546\n",
            "Epoch 24/50\n",
            "1410/1410 [==============================] - 75s 53ms/step - loss: 0.3215 - accuracy: 0.8797 - val_loss: 0.4190 - val_accuracy: 0.8577\n",
            "Epoch 25/50\n",
            "1410/1410 [==============================] - 74s 53ms/step - loss: 0.3141 - accuracy: 0.8836 - val_loss: 0.4235 - val_accuracy: 0.8574\n",
            "Epoch 26/50\n",
            "1410/1410 [==============================] - 70s 50ms/step - loss: 0.3022 - accuracy: 0.8877 - val_loss: 0.4207 - val_accuracy: 0.8588\n",
            "Epoch 27/50\n",
            "1410/1410 [==============================] - 70s 50ms/step - loss: 0.2948 - accuracy: 0.8902 - val_loss: 0.4268 - val_accuracy: 0.8574\n",
            "Epoch 28/50\n",
            "1410/1410 [==============================] - 70s 50ms/step - loss: 0.2864 - accuracy: 0.8924 - val_loss: 0.4226 - val_accuracy: 0.8582\n",
            "Epoch 29/50\n",
            "1410/1410 [==============================] - 70s 50ms/step - loss: 0.2785 - accuracy: 0.8939 - val_loss: 0.4220 - val_accuracy: 0.8598\n",
            "Epoch 30/50\n",
            "1410/1410 [==============================] - 74s 53ms/step - loss: 0.2736 - accuracy: 0.8963 - val_loss: 0.4247 - val_accuracy: 0.8596\n",
            "Epoch 31/50\n",
            "1410/1410 [==============================] - 70s 50ms/step - loss: 0.2630 - accuracy: 0.8992 - val_loss: 0.4293 - val_accuracy: 0.8593\n",
            "Epoch 32/50\n",
            "1410/1410 [==============================] - 74s 53ms/step - loss: 0.2613 - accuracy: 0.8995 - val_loss: 0.4326 - val_accuracy: 0.8598\n",
            "Epoch 33/50\n",
            "1410/1410 [==============================] - 70s 50ms/step - loss: 0.2547 - accuracy: 0.9025 - val_loss: 0.4294 - val_accuracy: 0.8606\n",
            "Epoch 34/50\n",
            "1410/1410 [==============================] - 71s 50ms/step - loss: 0.2500 - accuracy: 0.9046 - val_loss: 0.4290 - val_accuracy: 0.8616\n",
            "Epoch 35/50\n",
            "1410/1410 [==============================] - 75s 53ms/step - loss: 0.2432 - accuracy: 0.9067 - val_loss: 0.4337 - val_accuracy: 0.8616\n",
            "Epoch 36/50\n",
            "1410/1410 [==============================] - 75s 53ms/step - loss: 0.2407 - accuracy: 0.9075 - val_loss: 0.4345 - val_accuracy: 0.8609\n",
            "Epoch 37/50\n",
            "1410/1410 [==============================] - 70s 50ms/step - loss: 0.2328 - accuracy: 0.9103 - val_loss: 0.4390 - val_accuracy: 0.8604\n",
            "Epoch 38/50\n",
            "1410/1410 [==============================] - 70s 50ms/step - loss: 0.2313 - accuracy: 0.9113 - val_loss: 0.4402 - val_accuracy: 0.8610\n",
            "Epoch 39/50\n",
            "1410/1410 [==============================] - 70s 50ms/step - loss: 0.2262 - accuracy: 0.9138 - val_loss: 0.4350 - val_accuracy: 0.8617\n",
            "Epoch 40/50\n",
            "1410/1410 [==============================] - 75s 53ms/step - loss: 0.2189 - accuracy: 0.9162 - val_loss: 0.4409 - val_accuracy: 0.8616\n",
            "Epoch 41/50\n",
            "1410/1410 [==============================] - 70s 50ms/step - loss: 0.2168 - accuracy: 0.9164 - val_loss: 0.4398 - val_accuracy: 0.8619\n",
            "Epoch 42/50\n",
            "1410/1410 [==============================] - 70s 50ms/step - loss: 0.2144 - accuracy: 0.9173 - val_loss: 0.4452 - val_accuracy: 0.8621\n",
            "Epoch 43/50\n",
            "1410/1410 [==============================] - 70s 50ms/step - loss: 0.2109 - accuracy: 0.9181 - val_loss: 0.4482 - val_accuracy: 0.8616\n",
            "Epoch 44/50\n",
            "1410/1410 [==============================] - 70s 50ms/step - loss: 0.2074 - accuracy: 0.9199 - val_loss: 0.4548 - val_accuracy: 0.8601\n",
            "Epoch 45/50\n",
            "1410/1410 [==============================] - 70s 50ms/step - loss: 0.2019 - accuracy: 0.9215 - val_loss: 0.4571 - val_accuracy: 0.8617\n",
            "Epoch 46/50\n",
            "1410/1410 [==============================] - 75s 53ms/step - loss: 0.1996 - accuracy: 0.9228 - val_loss: 0.4538 - val_accuracy: 0.8634\n",
            "Epoch 47/50\n",
            "1410/1410 [==============================] - 70s 50ms/step - loss: 0.1960 - accuracy: 0.9236 - val_loss: 0.4548 - val_accuracy: 0.8616\n",
            "Epoch 48/50\n",
            "1410/1410 [==============================] - 75s 53ms/step - loss: 0.1943 - accuracy: 0.9253 - val_loss: 0.4610 - val_accuracy: 0.8635\n",
            "Epoch 49/50\n",
            "1410/1410 [==============================] - 75s 53ms/step - loss: 0.1904 - accuracy: 0.9257 - val_loss: 0.4621 - val_accuracy: 0.8626\n",
            "Epoch 50/50\n",
            "1410/1410 [==============================] - 70s 50ms/step - loss: 0.1851 - accuracy: 0.9281 - val_loss: 0.4716 - val_accuracy: 0.8592\n"
          ],
          "name": "stdout"
        },
        {
          "output_type": "stream",
          "text": [
            "/usr/local/lib/python3.7/dist-packages/tensorflow/python/keras/utils/generic_utils.py:497: CustomMaskWarning: Custom mask layers require a config and must override get_config. When loading, the custom mask layer must be passed to the custom_objects argument.\n",
            "  category=CustomMaskWarning)\n"
          ],
          "name": "stderr"
        },
        {
          "output_type": "stream",
          "text": [
            "INFO:tensorflow:Assets written to: /content/drive/MyDrive/Colab Notebooks/Notebooks/Models/EfficientNetB0_EMNIST_Balanced_Base/assets\n"
          ],
          "name": "stdout"
        },
        {
          "output_type": "stream",
          "text": [
            "INFO:tensorflow:Assets written to: /content/drive/MyDrive/Colab Notebooks/Notebooks/Models/EfficientNetB0_EMNIST_Balanced_Base/assets\n"
          ],
          "name": "stderr"
        },
        {
          "output_type": "stream",
          "text": [
            "time: 1h 3min 22s (started: 2021-05-25 19:46:07 +00:00)\n"
          ],
          "name": "stdout"
        }
      ]
    },
    {
      "cell_type": "code",
      "metadata": {
        "id": "i7wRfPpD5t-L",
        "colab": {
          "base_uri": "https://localhost:8080/",
          "height": 593
        },
        "outputId": "3201db95-7e9b-4b55-8f14-7447f91f9391"
      },
      "source": [
        "img_path = path + 'Graph'\n",
        "\n",
        "pd.DataFrame(model_history.history).plot(figsize=(20, 10))\n",
        "plt.grid(True)\n",
        "plt.gca().set_ylim(0, 1.2)\n",
        "plt.savefig(img_path)\n",
        "plt.show()"
      ],
      "execution_count": null,
      "outputs": [
        {
          "output_type": "display_data",
          "data": {
            "image/png": "[encoded data removed]",
            "text/plain": [
              "<Figure size 1440x720 with 1 Axes>"
            ]
          },
          "metadata": {
            "tags": [],
            "needs_background": "light"
          }
        },
        {
          "output_type": "stream",
          "text": [
            "time: 402 ms (started: 2021-05-25 21:48:51 +00:00)\n"
          ],
          "name": "stdout"
        }
      ]
    },
    {
      "cell_type": "code",
      "metadata": {
        "colab": {
          "base_uri": "https://localhost:8080/"
        },
        "id": "0ef3a3a4",
        "outputId": "9698f09b-eab4-4203-b23d-5605cb765a3e"
      },
      "source": [
        "loss_value, acc = model.evaluate(ds_test)\n",
        "\n",
        "print(f\"Test Accuracy: {(acc*100):.3f}%\")\n",
        "print(f\"Loss: {loss_value:.3f}%\")"
      ],
      "execution_count": null,
      "outputs": [
        {
          "output_type": "stream",
          "text": [
            "294/294 [==============================] - 6s 20ms/step - loss: 0.4888 - accuracy: 0.8567\n",
            "Test Accuracy: 85.670%\n",
            "Loss: 0.489%\n",
            "time: 10.3 s (started: 2021-05-25 20:49:30 +00:00)\n"
          ],
          "name": "stdout"
        }
      ]
    }
  ]
}