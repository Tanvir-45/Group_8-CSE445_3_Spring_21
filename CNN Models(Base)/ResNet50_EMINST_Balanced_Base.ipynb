{
  "nbformat": 4,
  "nbformat_minor": 0,
  "metadata": {
    "accelerator": "GPU",
    "colab": {
      "name": "ResNet50-EMINST_Balanced-Base.ipynb",
      "provenance": [],
      "collapsed_sections": []
    },
    "kernelspec": {
      "display_name": "Python 3",
      "name": "python3"
    },
    "language_info": {
      "name": "python"
    }
  },
  "cells": [
    {
      "cell_type": "code",
      "metadata": {
        "colab": {
          "base_uri": "https://localhost:8080/"
        },
        "id": "009e9706",
        "outputId": "4642df49-fe0c-4c5d-db03-419a5e699390"
      },
      "source": [
        "import tensorflow as tf\n",
        "from tensorflow import keras\n",
        "from tensorflow.keras import layers\n",
        "import tensorflow_datasets as tfds\n",
        "from tensorflow.keras.models import Model\n",
        "\n",
        "import seaborn as sns\n",
        "\n",
        "import pandas as pd\n",
        "import matplotlib.pyplot as plt\n"
      ],
      "execution_count": null,
      "outputs": [
        {
          "output_type": "stream",
          "text": [
            "time: 1.8 s (started: 2021-05-25 21:50:08 +00:00)\n"
          ],
          "name": "stdout"
        }
      ]
    },
    {
      "cell_type": "code",
      "metadata": {
        "colab": {
          "base_uri": "https://localhost:8080/"
        },
        "id": "rnmOYJgDYQRF",
        "outputId": "8e081dd2-201e-4db7-fd7a-ad9f44155096"
      },
      "source": [
        "# from tensorflow.keras import mixed_precision\n",
        "\n",
        "# policy = mixed_precision.Policy('mixed_float16')\n",
        "# mixed_precision.set_global_policy(policy)"
      ],
      "execution_count": null,
      "outputs": [
        {
          "output_type": "stream",
          "text": [
            "time: 1.21 ms (started: 2021-05-25 21:50:10 +00:00)\n"
          ],
          "name": "stdout"
        }
      ]
    },
    {
      "cell_type": "code",
      "metadata": {
        "colab": {
          "base_uri": "https://localhost:8080/"
        },
        "id": "f9db72aa",
        "outputId": "4a9df179-0baa-4d4b-9d84-1954b714d252"
      },
      "source": [
        "(ds_train, ds_val, ds_test), ds_info = tfds.load(\n",
        "    'emnist/balanced',\n",
        "    data_dir = \"/content/drive/MyDrive/Colab Notebooks/Datasets/TensorflowDatasets\",\n",
        "    split=['train[:80%]', 'train[80%:]', 'test'],\n",
        "    \n",
        "    with_info=True,\n",
        "    as_supervised=True\n",
        ")\n",
        "\n"
      ],
      "execution_count": null,
      "outputs": [
        {
          "output_type": "stream",
          "text": [
            "time: 751 ms (started: 2021-05-25 21:50:10 +00:00)\n"
          ],
          "name": "stdout"
        }
      ]
    },
    {
      "cell_type": "code",
      "metadata": {
        "colab": {
          "base_uri": "https://localhost:8080/"
        },
        "id": "66861f42",
        "outputId": "e1de9193-b673-41bf-b11e-8d60d69dedb0"
      },
      "source": [
        "print(ds_info)"
      ],
      "execution_count": null,
      "outputs": [
        {
          "output_type": "stream",
          "text": [
            "tfds.core.DatasetInfo(\n",
            "    name='emnist',\n",
            "    version=3.0.0,\n",
            "    description='The EMNIST dataset is a set of handwritten character digits derived from the NIST Special Database 19 and converted to a 28x28 pixel image format and dataset structure that directly matches the MNIST dataset.\n",
            "\n",
            "Note: Like the original EMNIST data, images provided here are inverted horizontally and rotated 90 anti-clockwise. You can use `tf.transpose` within `ds.map` to convert the images to a human-friendlier format.',\n",
            "    homepage='https://www.nist.gov/itl/products-and-services/emnist-dataset',\n",
            "    features=FeaturesDict({\n",
            "        'image': Image(shape=(28, 28, 1), dtype=tf.uint8),\n",
            "        'label': ClassLabel(shape=(), dtype=tf.int64, num_classes=47),\n",
            "    }),\n",
            "    total_num_examples=131600,\n",
            "    splits={\n",
            "        'test': 18800,\n",
            "        'train': 112800,\n",
            "    },\n",
            "    supervised_keys=('image', 'label'),\n",
            "    citation=\"\"\"@article{cohen_afshar_tapson_schaik_2017,\n",
            "        title={EMNIST: Extending MNIST to handwritten letters},\n",
            "        DOI={10.1109/ijcnn.2017.7966217},\n",
            "        journal={2017 International Joint Conference on Neural Networks (IJCNN)},\n",
            "        author={Cohen, Gregory and Afshar, Saeed and Tapson, Jonathan and Schaik, Andre Van},\n",
            "        year={2017}\n",
            "    }\"\"\",\n",
            "    redistribution_info=,\n",
            ")\n",
            "\n",
            "time: 1.58 ms (started: 2021-05-25 21:50:11 +00:00)\n"
          ],
          "name": "stdout"
        }
      ]
    },
    {
      "cell_type": "code",
      "metadata": {
        "colab": {
          "base_uri": "https://localhost:8080/"
        },
        "id": "cd52afec",
        "outputId": "2f817940-000a-4c98-cf04-331b9fae2c98"
      },
      "source": [
        "print(type(ds_train))"
      ],
      "execution_count": null,
      "outputs": [
        {
          "output_type": "stream",
          "text": [
            "<class 'tensorflow.python.data.ops.dataset_ops.PrefetchDataset'>\n",
            "time: 992 µs (started: 2021-05-25 21:50:11 +00:00)\n"
          ],
          "name": "stdout"
        }
      ]
    },
    {
      "cell_type": "code",
      "metadata": {
        "colab": {
          "base_uri": "https://localhost:8080/"
        },
        "id": "91009f32",
        "outputId": "c18ececb-ac7a-48df-d95f-33d4c1573228"
      },
      "source": [
        "# get_label_name = ds_info.features['label'].int2str\n",
        "\n",
        "# image, label = next(iter(ds_train))\n",
        "# _ = plt.imshow(image)\n",
        "# _ = plt.title(get_label_name(label))"
      ],
      "execution_count": null,
      "outputs": [
        {
          "output_type": "stream",
          "text": [
            "time: 1.59 ms (started: 2021-05-25 21:50:11 +00:00)\n"
          ],
          "name": "stdout"
        }
      ]
    },
    {
      "cell_type": "code",
      "metadata": {
        "colab": {
          "base_uri": "https://localhost:8080/",
          "height": 877
        },
        "id": "f2637936",
        "outputId": "a1a33703-0acc-408d-d024-4fe8cd85c3cd"
      },
      "source": [
        "fig = tfds.show_examples(ds_train, ds_info, rows = 5, cols = 5)"
      ],
      "execution_count": null,
      "outputs": [
        {
          "output_type": "display_data",
          "data": {
            "image/png": "[encoded data removed]",
            "text/plain": [
              "<Figure size 1080x1080 with 25 Axes>"
            ]
          },
          "metadata": {
            "tags": []
          }
        },
        {
          "output_type": "stream",
          "text": [
            "time: 995 ms (started: 2021-05-25 21:50:11 +00:00)\n"
          ],
          "name": "stdout"
        }
      ]
    },
    {
      "cell_type": "code",
      "metadata": {
        "colab": {
          "base_uri": "https://localhost:8080/"
        },
        "id": "2b8ce7d7",
        "outputId": "7a4c0031-b4cb-4819-feb8-604f695edf87"
      },
      "source": [
        "img_height = img_width = 32\n",
        "\n",
        "print(img_height)\n",
        "print(img_width)\n",
        "\n",
        "\n",
        "AUTOTUNE = tf.data.AUTOTUNE\n",
        "BATCH_SIZE = 64\n",
        "\n",
        "\n",
        "\n",
        "\n",
        "\n"
      ],
      "execution_count": null,
      "outputs": [
        {
          "output_type": "stream",
          "text": [
            "32\n",
            "32\n",
            "time: 5.27 ms (started: 2021-05-25 21:50:12 +00:00)\n"
          ],
          "name": "stdout"
        }
      ]
    },
    {
      "cell_type": "code",
      "metadata": {
        "colab": {
          "base_uri": "https://localhost:8080/"
        },
        "id": "969b1098",
        "outputId": "7df1df22-cdfa-45a0-8e00-49a735b01122"
      },
      "source": [
        "def downscale_img(image, label):\n",
        "  image = tf.image.resize(image, [img_height, img_width])\n",
        "  # image = tf.reshape(-1,img_height*img_width)\n",
        "  return image, label\n",
        "\n",
        "\n",
        "\n",
        "ds_train = ds_train.map(downscale_img, num_parallel_calls=AUTOTUNE)\n",
        "ds_val = ds_val.map(downscale_img, num_parallel_calls=AUTOTUNE)\n",
        "ds_test = ds_test.map(downscale_img, num_parallel_calls=AUTOTUNE)\n"
      ],
      "execution_count": null,
      "outputs": [
        {
          "output_type": "stream",
          "text": [
            "time: 97 ms (started: 2021-05-25 21:50:12 +00:00)\n"
          ],
          "name": "stdout"
        }
      ]
    },
    {
      "cell_type": "code",
      "metadata": {
        "colab": {
          "base_uri": "https://localhost:8080/"
        },
        "id": "74a40daa",
        "outputId": "ef12beb8-6dad-486a-a768-578dc46132d7"
      },
      "source": [
        "def normalize_img(image, label):\n",
        "    return tf.cast(image, tf.float32) / 255.0, label\n",
        "\n",
        "def configure_for_performance(ds):\n",
        "    ds = ds.map(normalize_img, num_parallel_calls = AUTOTUNE)\n",
        "    # ds = ds.cache(\"Cache\")\n",
        "    ds = ds.shuffle(buffer_size=256)\n",
        "    ds = ds.batch(BATCH_SIZE)\n",
        "    ds = ds.prefetch(buffer_size=AUTOTUNE)\n",
        "    return ds\n",
        "\n",
        "# def configure_for_performance_2(ds):\n",
        "#     ds = ds.map(normalize_img, num_parallel_calls = AUTOTUNE)\n",
        "#     ds = ds.cache(\"Cache\")\n",
        "#     ds = ds.shuffle(buffer_size=256)\n",
        "#     ds = ds.batch(BATCH_SIZE)\n",
        "#     ds = ds.prefetch(buffer_size=AUTOTUNE)\n",
        "#     return ds\n",
        "\n",
        "def configure_for_performance_3(ds):\n",
        "    ds = ds.map(normalize_img, num_parallel_calls = AUTOTUNE)\n",
        "    ds = ds.batch(BATCH_SIZE)\n",
        "    ds = ds.prefetch(buffer_size=AUTOTUNE)\n",
        "    return ds"
      ],
      "execution_count": null,
      "outputs": [
        {
          "output_type": "stream",
          "text": [
            "time: 12.6 ms (started: 2021-05-25 21:50:12 +00:00)\n"
          ],
          "name": "stdout"
        }
      ]
    },
    {
      "cell_type": "code",
      "metadata": {
        "colab": {
          "base_uri": "https://localhost:8080/"
        },
        "id": "1b926034",
        "outputId": "a413c076-9997-4f2e-9bc4-35171ff74f57"
      },
      "source": [
        "ds_train = configure_for_performance(ds_train)\n",
        "ds_val = configure_for_performance_3(ds_val)\n",
        "ds_test = configure_for_performance_3(ds_test)\n"
      ],
      "execution_count": null,
      "outputs": [
        {
          "output_type": "stream",
          "text": [
            "time: 57.9 ms (started: 2021-05-25 21:50:12 +00:00)\n"
          ],
          "name": "stdout"
        }
      ]
    },
    {
      "cell_type": "code",
      "metadata": {
        "id": "1FkkoRL4EkJw"
      },
      "source": [
        ""
      ],
      "execution_count": null,
      "outputs": []
    },
    {
      "cell_type": "code",
      "metadata": {
        "colab": {
          "base_uri": "https://localhost:8080/"
        },
        "id": "afa7bfc8",
        "outputId": "8c00a2e9-fdaa-4161-fc6a-56f6153f5dc2"
      },
      "source": [
        "for image, label in ds_train.take(1):\n",
        "  print(\"Image shape: \", image.numpy().shape)\n",
        "  print(\"Label: \", label.numpy())\n",
        "\n",
        "for image, label in ds_val.take(1):\n",
        "  print(\"Image shape: \", image.numpy().shape)\n",
        "  print(\"Label: \", label.numpy())\n",
        "    \n",
        "for image, label in ds_test.take(1):\n",
        "  print(\"Image shape: \", image.numpy().shape)\n",
        "  print(\"Label: \", label.numpy())\n"
      ],
      "execution_count": null,
      "outputs": [
        {
          "output_type": "stream",
          "text": [
            "Image shape:  (64, 32, 32, 1)\n",
            "Label:  [41 10 17 15 35 33 43 43 34 37 24 30 15 46 29 26 36 19 33  8 28 33 25  3\n",
            " 16 24 30  2  3 34  5 43 24 46 26  5 41 27 38 16 23 22 21 14 35 16 17 28\n",
            "  7 43 22 31 33 42 13  2 45 31  2 14 25 44 29 30]\n",
            "Image shape:  (64, 32, 32, 1)\n",
            "Label:  [ 8 37 23 18 23 29  9 23 30 39  5 35 17  9 34  7 29  4  7 35 44 22 24  0\n",
            " 32  4 19 40 32 36  0  7  6 24  3 45 27 14 43 46  1 21 38  2 12 28 26  5\n",
            " 34 45 43 45 20 26 16 38 16 23 11  5 42 38 26 30]\n",
            "Image shape:  (64, 32, 32, 1)\n",
            "Label:  [36 11 31 44 46 11  2 15 30 44 42 20 15 43 35 26 41 11 33 22 44 22 28 23\n",
            " 11 33 27 16 25 42 41 17 32 31 28 24 16 46 32 32  6 10  7 22 35 29  5  1\n",
            " 34 11  8 19 26 33 44 11  2  4  4 30  0 45 13 25]\n",
            "time: 314 ms (started: 2021-05-25 21:50:12 +00:00)\n"
          ],
          "name": "stdout"
        }
      ]
    },
    {
      "cell_type": "code",
      "metadata": {
        "colab": {
          "base_uri": "https://localhost:8080/"
        },
        "id": "2QJK99gk6qa6",
        "outputId": "64902fe5-531f-4312-c6f5-9eaed607fd32"
      },
      "source": [
        "num_classes = ds_info.features[\"label\"].num_classes\n",
        "\n",
        "\n",
        "# Creating model\n",
        "model = tf.keras.applications.ResNet50(\n",
        "    include_top=False, input_shape=(img_height, img_width, 1),\n",
        "    classes=num_classes, weights=None) #, pooling='avg')\n",
        "\n",
        "\n",
        "x = model.output\n",
        "\n",
        "x = layers.GlobalAveragePooling2D()(x)\n",
        "\n",
        "# output layer\n",
        "predictions = layers.Dense(num_classes, activation=\"softmax\")(x)\n",
        "\n",
        "model = Model(inputs = model.input, outputs = predictions)\n",
        "  \n",
        "model.summary()"
      ],
      "execution_count": null,
      "outputs": [
        {
          "output_type": "stream",
          "text": [
            "Model: \"model\"\n",
            "__________________________________________________________________________________________________\n",
            "Layer (type)                    Output Shape         Param #     Connected to                     \n",
            "==================================================================================================\n",
            "input_1 (InputLayer)            [(None, 32, 32, 1)]  0                                            \n",
            "__________________________________________________________________________________________________\n",
            "conv1_pad (ZeroPadding2D)       (None, 38, 38, 1)    0           input_1[0][0]                    \n",
            "__________________________________________________________________________________________________\n",
            "conv1_conv (Conv2D)             (None, 16, 16, 64)   3200        conv1_pad[0][0]                  \n",
            "__________________________________________________________________________________________________\n",
            "conv1_bn (BatchNormalization)   (None, 16, 16, 64)   256         conv1_conv[0][0]                 \n",
            "__________________________________________________________________________________________________\n",
            "conv1_relu (Activation)         (None, 16, 16, 64)   0           conv1_bn[0][0]                   \n",
            "__________________________________________________________________________________________________\n",
            "pool1_pad (ZeroPadding2D)       (None, 18, 18, 64)   0           conv1_relu[0][0]                 \n",
            "__________________________________________________________________________________________________\n",
            "pool1_pool (MaxPooling2D)       (None, 8, 8, 64)     0           pool1_pad[0][0]                  \n",
            "__________________________________________________________________________________________________\n",
            "conv2_block1_1_conv (Conv2D)    (None, 8, 8, 64)     4160        pool1_pool[0][0]                 \n",
            "__________________________________________________________________________________________________\n",
            "conv2_block1_1_bn (BatchNormali (None, 8, 8, 64)     256         conv2_block1_1_conv[0][0]        \n",
            "__________________________________________________________________________________________________\n",
            "conv2_block1_1_relu (Activation (None, 8, 8, 64)     0           conv2_block1_1_bn[0][0]          \n",
            "__________________________________________________________________________________________________\n",
            "conv2_block1_2_conv (Conv2D)    (None, 8, 8, 64)     36928       conv2_block1_1_relu[0][0]        \n",
            "__________________________________________________________________________________________________\n",
            "conv2_block1_2_bn (BatchNormali (None, 8, 8, 64)     256         conv2_block1_2_conv[0][0]        \n",
            "__________________________________________________________________________________________________\n",
            "conv2_block1_2_relu (Activation (None, 8, 8, 64)     0           conv2_block1_2_bn[0][0]          \n",
            "__________________________________________________________________________________________________\n",
            "conv2_block1_0_conv (Conv2D)    (None, 8, 8, 256)    16640       pool1_pool[0][0]                 \n",
            "__________________________________________________________________________________________________\n",
            "conv2_block1_3_conv (Conv2D)    (None, 8, 8, 256)    16640       conv2_block1_2_relu[0][0]        \n",
            "__________________________________________________________________________________________________\n",
            "conv2_block1_0_bn (BatchNormali (None, 8, 8, 256)    1024        conv2_block1_0_conv[0][0]        \n",
            "__________________________________________________________________________________________________\n",
            "conv2_block1_3_bn (BatchNormali (None, 8, 8, 256)    1024        conv2_block1_3_conv[0][0]        \n",
            "__________________________________________________________________________________________________\n",
            "conv2_block1_add (Add)          (None, 8, 8, 256)    0           conv2_block1_0_bn[0][0]          \n",
            "                                                                 conv2_block1_3_bn[0][0]          \n",
            "__________________________________________________________________________________________________\n",
            "conv2_block1_out (Activation)   (None, 8, 8, 256)    0           conv2_block1_add[0][0]           \n",
            "__________________________________________________________________________________________________\n",
            "conv2_block2_1_conv (Conv2D)    (None, 8, 8, 64)     16448       conv2_block1_out[0][0]           \n",
            "__________________________________________________________________________________________________\n",
            "conv2_block2_1_bn (BatchNormali (None, 8, 8, 64)     256         conv2_block2_1_conv[0][0]        \n",
            "__________________________________________________________________________________________________\n",
            "conv2_block2_1_relu (Activation (None, 8, 8, 64)     0           conv2_block2_1_bn[0][0]          \n",
            "__________________________________________________________________________________________________\n",
            "conv2_block2_2_conv (Conv2D)    (None, 8, 8, 64)     36928       conv2_block2_1_relu[0][0]        \n",
            "__________________________________________________________________________________________________\n",
            "conv2_block2_2_bn (BatchNormali (None, 8, 8, 64)     256         conv2_block2_2_conv[0][0]        \n",
            "__________________________________________________________________________________________________\n",
            "conv2_block2_2_relu (Activation (None, 8, 8, 64)     0           conv2_block2_2_bn[0][0]          \n",
            "__________________________________________________________________________________________________\n",
            "conv2_block2_3_conv (Conv2D)    (None, 8, 8, 256)    16640       conv2_block2_2_relu[0][0]        \n",
            "__________________________________________________________________________________________________\n",
            "conv2_block2_3_bn (BatchNormali (None, 8, 8, 256)    1024        conv2_block2_3_conv[0][0]        \n",
            "__________________________________________________________________________________________________\n",
            "conv2_block2_add (Add)          (None, 8, 8, 256)    0           conv2_block1_out[0][0]           \n",
            "                                                                 conv2_block2_3_bn[0][0]          \n",
            "__________________________________________________________________________________________________\n",
            "conv2_block2_out (Activation)   (None, 8, 8, 256)    0           conv2_block2_add[0][0]           \n",
            "__________________________________________________________________________________________________\n",
            "conv2_block3_1_conv (Conv2D)    (None, 8, 8, 64)     16448       conv2_block2_out[0][0]           \n",
            "__________________________________________________________________________________________________\n",
            "conv2_block3_1_bn (BatchNormali (None, 8, 8, 64)     256         conv2_block3_1_conv[0][0]        \n",
            "__________________________________________________________________________________________________\n",
            "conv2_block3_1_relu (Activation (None, 8, 8, 64)     0           conv2_block3_1_bn[0][0]          \n",
            "__________________________________________________________________________________________________\n",
            "conv2_block3_2_conv (Conv2D)    (None, 8, 8, 64)     36928       conv2_block3_1_relu[0][0]        \n",
            "__________________________________________________________________________________________________\n",
            "conv2_block3_2_bn (BatchNormali (None, 8, 8, 64)     256         conv2_block3_2_conv[0][0]        \n",
            "__________________________________________________________________________________________________\n",
            "conv2_block3_2_relu (Activation (None, 8, 8, 64)     0           conv2_block3_2_bn[0][0]          \n",
            "__________________________________________________________________________________________________\n",
            "conv2_block3_3_conv (Conv2D)    (None, 8, 8, 256)    16640       conv2_block3_2_relu[0][0]        \n",
            "__________________________________________________________________________________________________\n",
            "conv2_block3_3_bn (BatchNormali (None, 8, 8, 256)    1024        conv2_block3_3_conv[0][0]        \n",
            "__________________________________________________________________________________________________\n",
            "conv2_block3_add (Add)          (None, 8, 8, 256)    0           conv2_block2_out[0][0]           \n",
            "                                                                 conv2_block3_3_bn[0][0]          \n",
            "__________________________________________________________________________________________________\n",
            "conv2_block3_out (Activation)   (None, 8, 8, 256)    0           conv2_block3_add[0][0]           \n",
            "__________________________________________________________________________________________________\n",
            "conv3_block1_1_conv (Conv2D)    (None, 4, 4, 128)    32896       conv2_block3_out[0][0]           \n",
            "__________________________________________________________________________________________________\n",
            "conv3_block1_1_bn (BatchNormali (None, 4, 4, 128)    512         conv3_block1_1_conv[0][0]        \n",
            "__________________________________________________________________________________________________\n",
            "conv3_block1_1_relu (Activation (None, 4, 4, 128)    0           conv3_block1_1_bn[0][0]          \n",
            "__________________________________________________________________________________________________\n",
            "conv3_block1_2_conv (Conv2D)    (None, 4, 4, 128)    147584      conv3_block1_1_relu[0][0]        \n",
            "__________________________________________________________________________________________________\n",
            "conv3_block1_2_bn (BatchNormali (None, 4, 4, 128)    512         conv3_block1_2_conv[0][0]        \n",
            "__________________________________________________________________________________________________\n",
            "conv3_block1_2_relu (Activation (None, 4, 4, 128)    0           conv3_block1_2_bn[0][0]          \n",
            "__________________________________________________________________________________________________\n",
            "conv3_block1_0_conv (Conv2D)    (None, 4, 4, 512)    131584      conv2_block3_out[0][0]           \n",
            "__________________________________________________________________________________________________\n",
            "conv3_block1_3_conv (Conv2D)    (None, 4, 4, 512)    66048       conv3_block1_2_relu[0][0]        \n",
            "__________________________________________________________________________________________________\n",
            "conv3_block1_0_bn (BatchNormali (None, 4, 4, 512)    2048        conv3_block1_0_conv[0][0]        \n",
            "__________________________________________________________________________________________________\n",
            "conv3_block1_3_bn (BatchNormali (None, 4, 4, 512)    2048        conv3_block1_3_conv[0][0]        \n",
            "__________________________________________________________________________________________________\n",
            "conv3_block1_add (Add)          (None, 4, 4, 512)    0           conv3_block1_0_bn[0][0]          \n",
            "                                                                 conv3_block1_3_bn[0][0]          \n",
            "__________________________________________________________________________________________________\n",
            "conv3_block1_out (Activation)   (None, 4, 4, 512)    0           conv3_block1_add[0][0]           \n",
            "__________________________________________________________________________________________________\n",
            "conv3_block2_1_conv (Conv2D)    (None, 4, 4, 128)    65664       conv3_block1_out[0][0]           \n",
            "__________________________________________________________________________________________________\n",
            "conv3_block2_1_bn (BatchNormali (None, 4, 4, 128)    512         conv3_block2_1_conv[0][0]        \n",
            "__________________________________________________________________________________________________\n",
            "conv3_block2_1_relu (Activation (None, 4, 4, 128)    0           conv3_block2_1_bn[0][0]          \n",
            "__________________________________________________________________________________________________\n",
            "conv3_block2_2_conv (Conv2D)    (None, 4, 4, 128)    147584      conv3_block2_1_relu[0][0]        \n",
            "__________________________________________________________________________________________________\n",
            "conv3_block2_2_bn (BatchNormali (None, 4, 4, 128)    512         conv3_block2_2_conv[0][0]        \n",
            "__________________________________________________________________________________________________\n",
            "conv3_block2_2_relu (Activation (None, 4, 4, 128)    0           conv3_block2_2_bn[0][0]          \n",
            "__________________________________________________________________________________________________\n",
            "conv3_block2_3_conv (Conv2D)    (None, 4, 4, 512)    66048       conv3_block2_2_relu[0][0]        \n",
            "__________________________________________________________________________________________________\n",
            "conv3_block2_3_bn (BatchNormali (None, 4, 4, 512)    2048        conv3_block2_3_conv[0][0]        \n",
            "__________________________________________________________________________________________________\n",
            "conv3_block2_add (Add)          (None, 4, 4, 512)    0           conv3_block1_out[0][0]           \n",
            "                                                                 conv3_block2_3_bn[0][0]          \n",
            "__________________________________________________________________________________________________\n",
            "conv3_block2_out (Activation)   (None, 4, 4, 512)    0           conv3_block2_add[0][0]           \n",
            "__________________________________________________________________________________________________\n",
            "conv3_block3_1_conv (Conv2D)    (None, 4, 4, 128)    65664       conv3_block2_out[0][0]           \n",
            "__________________________________________________________________________________________________\n",
            "conv3_block3_1_bn (BatchNormali (None, 4, 4, 128)    512         conv3_block3_1_conv[0][0]        \n",
            "__________________________________________________________________________________________________\n",
            "conv3_block3_1_relu (Activation (None, 4, 4, 128)    0           conv3_block3_1_bn[0][0]          \n",
            "__________________________________________________________________________________________________\n",
            "conv3_block3_2_conv (Conv2D)    (None, 4, 4, 128)    147584      conv3_block3_1_relu[0][0]        \n",
            "__________________________________________________________________________________________________\n",
            "conv3_block3_2_bn (BatchNormali (None, 4, 4, 128)    512         conv3_block3_2_conv[0][0]        \n",
            "__________________________________________________________________________________________________\n",
            "conv3_block3_2_relu (Activation (None, 4, 4, 128)    0           conv3_block3_2_bn[0][0]          \n",
            "__________________________________________________________________________________________________\n",
            "conv3_block3_3_conv (Conv2D)    (None, 4, 4, 512)    66048       conv3_block3_2_relu[0][0]        \n",
            "__________________________________________________________________________________________________\n",
            "conv3_block3_3_bn (BatchNormali (None, 4, 4, 512)    2048        conv3_block3_3_conv[0][0]        \n",
            "__________________________________________________________________________________________________\n",
            "conv3_block3_add (Add)          (None, 4, 4, 512)    0           conv3_block2_out[0][0]           \n",
            "                                                                 conv3_block3_3_bn[0][0]          \n",
            "__________________________________________________________________________________________________\n",
            "conv3_block3_out (Activation)   (None, 4, 4, 512)    0           conv3_block3_add[0][0]           \n",
            "__________________________________________________________________________________________________\n",
            "conv3_block4_1_conv (Conv2D)    (None, 4, 4, 128)    65664       conv3_block3_out[0][0]           \n",
            "__________________________________________________________________________________________________\n",
            "conv3_block4_1_bn (BatchNormali (None, 4, 4, 128)    512         conv3_block4_1_conv[0][0]        \n",
            "__________________________________________________________________________________________________\n",
            "conv3_block4_1_relu (Activation (None, 4, 4, 128)    0           conv3_block4_1_bn[0][0]          \n",
            "__________________________________________________________________________________________________\n",
            "conv3_block4_2_conv (Conv2D)    (None, 4, 4, 128)    147584      conv3_block4_1_relu[0][0]        \n",
            "__________________________________________________________________________________________________\n",
            "conv3_block4_2_bn (BatchNormali (None, 4, 4, 128)    512         conv3_block4_2_conv[0][0]        \n",
            "__________________________________________________________________________________________________\n",
            "conv3_block4_2_relu (Activation (None, 4, 4, 128)    0           conv3_block4_2_bn[0][0]          \n",
            "__________________________________________________________________________________________________\n",
            "conv3_block4_3_conv (Conv2D)    (None, 4, 4, 512)    66048       conv3_block4_2_relu[0][0]        \n",
            "__________________________________________________________________________________________________\n",
            "conv3_block4_3_bn (BatchNormali (None, 4, 4, 512)    2048        conv3_block4_3_conv[0][0]        \n",
            "__________________________________________________________________________________________________\n",
            "conv3_block4_add (Add)          (None, 4, 4, 512)    0           conv3_block3_out[0][0]           \n",
            "                                                                 conv3_block4_3_bn[0][0]          \n",
            "__________________________________________________________________________________________________\n",
            "conv3_block4_out (Activation)   (None, 4, 4, 512)    0           conv3_block4_add[0][0]           \n",
            "__________________________________________________________________________________________________\n",
            "conv4_block1_1_conv (Conv2D)    (None, 2, 2, 256)    131328      conv3_block4_out[0][0]           \n",
            "__________________________________________________________________________________________________\n",
            "conv4_block1_1_bn (BatchNormali (None, 2, 2, 256)    1024        conv4_block1_1_conv[0][0]        \n",
            "__________________________________________________________________________________________________\n",
            "conv4_block1_1_relu (Activation (None, 2, 2, 256)    0           conv4_block1_1_bn[0][0]          \n",
            "__________________________________________________________________________________________________\n",
            "conv4_block1_2_conv (Conv2D)    (None, 2, 2, 256)    590080      conv4_block1_1_relu[0][0]        \n",
            "__________________________________________________________________________________________________\n",
            "conv4_block1_2_bn (BatchNormali (None, 2, 2, 256)    1024        conv4_block1_2_conv[0][0]        \n",
            "__________________________________________________________________________________________________\n",
            "conv4_block1_2_relu (Activation (None, 2, 2, 256)    0           conv4_block1_2_bn[0][0]          \n",
            "__________________________________________________________________________________________________\n",
            "conv4_block1_0_conv (Conv2D)    (None, 2, 2, 1024)   525312      conv3_block4_out[0][0]           \n",
            "__________________________________________________________________________________________________\n",
            "conv4_block1_3_conv (Conv2D)    (None, 2, 2, 1024)   263168      conv4_block1_2_relu[0][0]        \n",
            "__________________________________________________________________________________________________\n",
            "conv4_block1_0_bn (BatchNormali (None, 2, 2, 1024)   4096        conv4_block1_0_conv[0][0]        \n",
            "__________________________________________________________________________________________________\n",
            "conv4_block1_3_bn (BatchNormali (None, 2, 2, 1024)   4096        conv4_block1_3_conv[0][0]        \n",
            "__________________________________________________________________________________________________\n",
            "conv4_block1_add (Add)          (None, 2, 2, 1024)   0           conv4_block1_0_bn[0][0]          \n",
            "                                                                 conv4_block1_3_bn[0][0]          \n",
            "__________________________________________________________________________________________________\n",
            "conv4_block1_out (Activation)   (None, 2, 2, 1024)   0           conv4_block1_add[0][0]           \n",
            "__________________________________________________________________________________________________\n",
            "conv4_block2_1_conv (Conv2D)    (None, 2, 2, 256)    262400      conv4_block1_out[0][0]           \n",
            "__________________________________________________________________________________________________\n",
            "conv4_block2_1_bn (BatchNormali (None, 2, 2, 256)    1024        conv4_block2_1_conv[0][0]        \n",
            "__________________________________________________________________________________________________\n",
            "conv4_block2_1_relu (Activation (None, 2, 2, 256)    0           conv4_block2_1_bn[0][0]          \n",
            "__________________________________________________________________________________________________\n",
            "conv4_block2_2_conv (Conv2D)    (None, 2, 2, 256)    590080      conv4_block2_1_relu[0][0]        \n",
            "__________________________________________________________________________________________________\n",
            "conv4_block2_2_bn (BatchNormali (None, 2, 2, 256)    1024        conv4_block2_2_conv[0][0]        \n",
            "__________________________________________________________________________________________________\n",
            "conv4_block2_2_relu (Activation (None, 2, 2, 256)    0           conv4_block2_2_bn[0][0]          \n",
            "__________________________________________________________________________________________________\n",
            "conv4_block2_3_conv (Conv2D)    (None, 2, 2, 1024)   263168      conv4_block2_2_relu[0][0]        \n",
            "__________________________________________________________________________________________________\n",
            "conv4_block2_3_bn (BatchNormali (None, 2, 2, 1024)   4096        conv4_block2_3_conv[0][0]        \n",
            "__________________________________________________________________________________________________\n",
            "conv4_block2_add (Add)          (None, 2, 2, 1024)   0           conv4_block1_out[0][0]           \n",
            "                                                                 conv4_block2_3_bn[0][0]          \n",
            "__________________________________________________________________________________________________\n",
            "conv4_block2_out (Activation)   (None, 2, 2, 1024)   0           conv4_block2_add[0][0]           \n",
            "__________________________________________________________________________________________________\n",
            "conv4_block3_1_conv (Conv2D)    (None, 2, 2, 256)    262400      conv4_block2_out[0][0]           \n",
            "__________________________________________________________________________________________________\n",
            "conv4_block3_1_bn (BatchNormali (None, 2, 2, 256)    1024        conv4_block3_1_conv[0][0]        \n",
            "__________________________________________________________________________________________________\n",
            "conv4_block3_1_relu (Activation (None, 2, 2, 256)    0           conv4_block3_1_bn[0][0]          \n",
            "__________________________________________________________________________________________________\n",
            "conv4_block3_2_conv (Conv2D)    (None, 2, 2, 256)    590080      conv4_block3_1_relu[0][0]        \n",
            "__________________________________________________________________________________________________\n",
            "conv4_block3_2_bn (BatchNormali (None, 2, 2, 256)    1024        conv4_block3_2_conv[0][0]        \n",
            "__________________________________________________________________________________________________\n",
            "conv4_block3_2_relu (Activation (None, 2, 2, 256)    0           conv4_block3_2_bn[0][0]          \n",
            "__________________________________________________________________________________________________\n",
            "conv4_block3_3_conv (Conv2D)    (None, 2, 2, 1024)   263168      conv4_block3_2_relu[0][0]        \n",
            "__________________________________________________________________________________________________\n",
            "conv4_block3_3_bn (BatchNormali (None, 2, 2, 1024)   4096        conv4_block3_3_conv[0][0]        \n",
            "__________________________________________________________________________________________________\n",
            "conv4_block3_add (Add)          (None, 2, 2, 1024)   0           conv4_block2_out[0][0]           \n",
            "                                                                 conv4_block3_3_bn[0][0]          \n",
            "__________________________________________________________________________________________________\n",
            "conv4_block3_out (Activation)   (None, 2, 2, 1024)   0           conv4_block3_add[0][0]           \n",
            "__________________________________________________________________________________________________\n",
            "conv4_block4_1_conv (Conv2D)    (None, 2, 2, 256)    262400      conv4_block3_out[0][0]           \n",
            "__________________________________________________________________________________________________\n",
            "conv4_block4_1_bn (BatchNormali (None, 2, 2, 256)    1024        conv4_block4_1_conv[0][0]        \n",
            "__________________________________________________________________________________________________\n",
            "conv4_block4_1_relu (Activation (None, 2, 2, 256)    0           conv4_block4_1_bn[0][0]          \n",
            "__________________________________________________________________________________________________\n",
            "conv4_block4_2_conv (Conv2D)    (None, 2, 2, 256)    590080      conv4_block4_1_relu[0][0]        \n",
            "__________________________________________________________________________________________________\n",
            "conv4_block4_2_bn (BatchNormali (None, 2, 2, 256)    1024        conv4_block4_2_conv[0][0]        \n",
            "__________________________________________________________________________________________________\n",
            "conv4_block4_2_relu (Activation (None, 2, 2, 256)    0           conv4_block4_2_bn[0][0]          \n",
            "__________________________________________________________________________________________________\n",
            "conv4_block4_3_conv (Conv2D)    (None, 2, 2, 1024)   263168      conv4_block4_2_relu[0][0]        \n",
            "__________________________________________________________________________________________________\n",
            "conv4_block4_3_bn (BatchNormali (None, 2, 2, 1024)   4096        conv4_block4_3_conv[0][0]        \n",
            "__________________________________________________________________________________________________\n",
            "conv4_block4_add (Add)          (None, 2, 2, 1024)   0           conv4_block3_out[0][0]           \n",
            "                                                                 conv4_block4_3_bn[0][0]          \n",
            "__________________________________________________________________________________________________\n",
            "conv4_block4_out (Activation)   (None, 2, 2, 1024)   0           conv4_block4_add[0][0]           \n",
            "__________________________________________________________________________________________________\n",
            "conv4_block5_1_conv (Conv2D)    (None, 2, 2, 256)    262400      conv4_block4_out[0][0]           \n",
            "__________________________________________________________________________________________________\n",
            "conv4_block5_1_bn (BatchNormali (None, 2, 2, 256)    1024        conv4_block5_1_conv[0][0]        \n",
            "__________________________________________________________________________________________________\n",
            "conv4_block5_1_relu (Activation (None, 2, 2, 256)    0           conv4_block5_1_bn[0][0]          \n",
            "__________________________________________________________________________________________________\n",
            "conv4_block5_2_conv (Conv2D)    (None, 2, 2, 256)    590080      conv4_block5_1_relu[0][0]        \n",
            "__________________________________________________________________________________________________\n",
            "conv4_block5_2_bn (BatchNormali (None, 2, 2, 256)    1024        conv4_block5_2_conv[0][0]        \n",
            "__________________________________________________________________________________________________\n",
            "conv4_block5_2_relu (Activation (None, 2, 2, 256)    0           conv4_block5_2_bn[0][0]          \n",
            "__________________________________________________________________________________________________\n",
            "conv4_block5_3_conv (Conv2D)    (None, 2, 2, 1024)   263168      conv4_block5_2_relu[0][0]        \n",
            "__________________________________________________________________________________________________\n",
            "conv4_block5_3_bn (BatchNormali (None, 2, 2, 1024)   4096        conv4_block5_3_conv[0][0]        \n",
            "__________________________________________________________________________________________________\n",
            "conv4_block5_add (Add)          (None, 2, 2, 1024)   0           conv4_block4_out[0][0]           \n",
            "                                                                 conv4_block5_3_bn[0][0]          \n",
            "__________________________________________________________________________________________________\n",
            "conv4_block5_out (Activation)   (None, 2, 2, 1024)   0           conv4_block5_add[0][0]           \n",
            "__________________________________________________________________________________________________\n",
            "conv4_block6_1_conv (Conv2D)    (None, 2, 2, 256)    262400      conv4_block5_out[0][0]           \n",
            "__________________________________________________________________________________________________\n",
            "conv4_block6_1_bn (BatchNormali (None, 2, 2, 256)    1024        conv4_block6_1_conv[0][0]        \n",
            "__________________________________________________________________________________________________\n",
            "conv4_block6_1_relu (Activation (None, 2, 2, 256)    0           conv4_block6_1_bn[0][0]          \n",
            "__________________________________________________________________________________________________\n",
            "conv4_block6_2_conv (Conv2D)    (None, 2, 2, 256)    590080      conv4_block6_1_relu[0][0]        \n",
            "__________________________________________________________________________________________________\n",
            "conv4_block6_2_bn (BatchNormali (None, 2, 2, 256)    1024        conv4_block6_2_conv[0][0]        \n",
            "__________________________________________________________________________________________________\n",
            "conv4_block6_2_relu (Activation (None, 2, 2, 256)    0           conv4_block6_2_bn[0][0]          \n",
            "__________________________________________________________________________________________________\n",
            "conv4_block6_3_conv (Conv2D)    (None, 2, 2, 1024)   263168      conv4_block6_2_relu[0][0]        \n",
            "__________________________________________________________________________________________________\n",
            "conv4_block6_3_bn (BatchNormali (None, 2, 2, 1024)   4096        conv4_block6_3_conv[0][0]        \n",
            "__________________________________________________________________________________________________\n",
            "conv4_block6_add (Add)          (None, 2, 2, 1024)   0           conv4_block5_out[0][0]           \n",
            "                                                                 conv4_block6_3_bn[0][0]          \n",
            "__________________________________________________________________________________________________\n",
            "conv4_block6_out (Activation)   (None, 2, 2, 1024)   0           conv4_block6_add[0][0]           \n",
            "__________________________________________________________________________________________________\n",
            "conv5_block1_1_conv (Conv2D)    (None, 1, 1, 512)    524800      conv4_block6_out[0][0]           \n",
            "__________________________________________________________________________________________________\n",
            "conv5_block1_1_bn (BatchNormali (None, 1, 1, 512)    2048        conv5_block1_1_conv[0][0]        \n",
            "__________________________________________________________________________________________________\n",
            "conv5_block1_1_relu (Activation (None, 1, 1, 512)    0           conv5_block1_1_bn[0][0]          \n",
            "__________________________________________________________________________________________________\n",
            "conv5_block1_2_conv (Conv2D)    (None, 1, 1, 512)    2359808     conv5_block1_1_relu[0][0]        \n",
            "__________________________________________________________________________________________________\n",
            "conv5_block1_2_bn (BatchNormali (None, 1, 1, 512)    2048        conv5_block1_2_conv[0][0]        \n",
            "__________________________________________________________________________________________________\n",
            "conv5_block1_2_relu (Activation (None, 1, 1, 512)    0           conv5_block1_2_bn[0][0]          \n",
            "__________________________________________________________________________________________________\n",
            "conv5_block1_0_conv (Conv2D)    (None, 1, 1, 2048)   2099200     conv4_block6_out[0][0]           \n",
            "__________________________________________________________________________________________________\n",
            "conv5_block1_3_conv (Conv2D)    (None, 1, 1, 2048)   1050624     conv5_block1_2_relu[0][0]        \n",
            "__________________________________________________________________________________________________\n",
            "conv5_block1_0_bn (BatchNormali (None, 1, 1, 2048)   8192        conv5_block1_0_conv[0][0]        \n",
            "__________________________________________________________________________________________________\n",
            "conv5_block1_3_bn (BatchNormali (None, 1, 1, 2048)   8192        conv5_block1_3_conv[0][0]        \n",
            "__________________________________________________________________________________________________\n",
            "conv5_block1_add (Add)          (None, 1, 1, 2048)   0           conv5_block1_0_bn[0][0]          \n",
            "                                                                 conv5_block1_3_bn[0][0]          \n",
            "__________________________________________________________________________________________________\n",
            "conv5_block1_out (Activation)   (None, 1, 1, 2048)   0           conv5_block1_add[0][0]           \n",
            "__________________________________________________________________________________________________\n",
            "conv5_block2_1_conv (Conv2D)    (None, 1, 1, 512)    1049088     conv5_block1_out[0][0]           \n",
            "__________________________________________________________________________________________________\n",
            "conv5_block2_1_bn (BatchNormali (None, 1, 1, 512)    2048        conv5_block2_1_conv[0][0]        \n",
            "__________________________________________________________________________________________________\n",
            "conv5_block2_1_relu (Activation (None, 1, 1, 512)    0           conv5_block2_1_bn[0][0]          \n",
            "__________________________________________________________________________________________________\n",
            "conv5_block2_2_conv (Conv2D)    (None, 1, 1, 512)    2359808     conv5_block2_1_relu[0][0]        \n",
            "__________________________________________________________________________________________________\n",
            "conv5_block2_2_bn (BatchNormali (None, 1, 1, 512)    2048        conv5_block2_2_conv[0][0]        \n",
            "__________________________________________________________________________________________________\n",
            "conv5_block2_2_relu (Activation (None, 1, 1, 512)    0           conv5_block2_2_bn[0][0]          \n",
            "__________________________________________________________________________________________________\n",
            "conv5_block2_3_conv (Conv2D)    (None, 1, 1, 2048)   1050624     conv5_block2_2_relu[0][0]        \n",
            "__________________________________________________________________________________________________\n",
            "conv5_block2_3_bn (BatchNormali (None, 1, 1, 2048)   8192        conv5_block2_3_conv[0][0]        \n",
            "__________________________________________________________________________________________________\n",
            "conv5_block2_add (Add)          (None, 1, 1, 2048)   0           conv5_block1_out[0][0]           \n",
            "                                                                 conv5_block2_3_bn[0][0]          \n",
            "__________________________________________________________________________________________________\n",
            "conv5_block2_out (Activation)   (None, 1, 1, 2048)   0           conv5_block2_add[0][0]           \n",
            "__________________________________________________________________________________________________\n",
            "conv5_block3_1_conv (Conv2D)    (None, 1, 1, 512)    1049088     conv5_block2_out[0][0]           \n",
            "__________________________________________________________________________________________________\n",
            "conv5_block3_1_bn (BatchNormali (None, 1, 1, 512)    2048        conv5_block3_1_conv[0][0]        \n",
            "__________________________________________________________________________________________________\n",
            "conv5_block3_1_relu (Activation (None, 1, 1, 512)    0           conv5_block3_1_bn[0][0]          \n",
            "__________________________________________________________________________________________________\n",
            "conv5_block3_2_conv (Conv2D)    (None, 1, 1, 512)    2359808     conv5_block3_1_relu[0][0]        \n",
            "__________________________________________________________________________________________________\n",
            "conv5_block3_2_bn (BatchNormali (None, 1, 1, 512)    2048        conv5_block3_2_conv[0][0]        \n",
            "__________________________________________________________________________________________________\n",
            "conv5_block3_2_relu (Activation (None, 1, 1, 512)    0           conv5_block3_2_bn[0][0]          \n",
            "__________________________________________________________________________________________________\n",
            "conv5_block3_3_conv (Conv2D)    (None, 1, 1, 2048)   1050624     conv5_block3_2_relu[0][0]        \n",
            "__________________________________________________________________________________________________\n",
            "conv5_block3_3_bn (BatchNormali (None, 1, 1, 2048)   8192        conv5_block3_3_conv[0][0]        \n",
            "__________________________________________________________________________________________________\n",
            "conv5_block3_add (Add)          (None, 1, 1, 2048)   0           conv5_block2_out[0][0]           \n",
            "                                                                 conv5_block3_3_bn[0][0]          \n",
            "__________________________________________________________________________________________________\n",
            "conv5_block3_out (Activation)   (None, 1, 1, 2048)   0           conv5_block3_add[0][0]           \n",
            "__________________________________________________________________________________________________\n",
            "global_average_pooling2d (Globa (None, 2048)         0           conv5_block3_out[0][0]           \n",
            "__________________________________________________________________________________________________\n",
            "dense (Dense)                   (None, 47)           96303       global_average_pooling2d[0][0]   \n",
            "==================================================================================================\n",
            "Total params: 23,677,743\n",
            "Trainable params: 23,624,623\n",
            "Non-trainable params: 53,120\n",
            "__________________________________________________________________________________________________\n",
            "time: 954 ms (started: 2021-05-25 21:50:12 +00:00)\n"
          ],
          "name": "stdout"
        }
      ]
    },
    {
      "cell_type": "code",
      "metadata": {
        "colab": {
          "base_uri": "https://localhost:8080/"
        },
        "id": "af3544ac",
        "outputId": "87a2b51a-520d-4b1b-8359-f995f4c0a276"
      },
      "source": [
        "from tensorflow.keras.optimizers import Adamax\n",
        "\n",
        "# Model compilation\n",
        "model.compile(loss='sparse_categorical_crossentropy',\n",
        "              optimizer=Adamax(0.0001),\n",
        "              metrics=['accuracy'])\n",
        "\n",
        "\n",
        "# Training model\n",
        "model_history = model.fit(ds_train,\n",
        "                          epochs=50,\n",
        "                          validation_data=ds_val,\n",
        "                          verbose=1)\n",
        "\n",
        "\n",
        "path = '/content/drive/MyDrive/Colab Notebooks/Notebooks/Models/ResNet50_EMNIST_Balanced_Base/'\n",
        "model.save(path)"
      ],
      "execution_count": null,
      "outputs": [
        {
          "output_type": "stream",
          "text": [
            "Epoch 1/50\n",
            "1410/1410 [==============================] - 81s 54ms/step - loss: 3.3241 - accuracy: 0.1854 - val_loss: 2.2396 - val_accuracy: 0.3785\n",
            "Epoch 2/50\n",
            "1410/1410 [==============================] - 75s 53ms/step - loss: 1.4993 - accuracy: 0.5474 - val_loss: 1.0605 - val_accuracy: 0.6692\n",
            "Epoch 3/50\n",
            "1410/1410 [==============================] - 75s 53ms/step - loss: 0.8281 - accuracy: 0.7308 - val_loss: 0.7010 - val_accuracy: 0.7688\n",
            "Epoch 4/50\n",
            "1410/1410 [==============================] - 75s 53ms/step - loss: 0.5698 - accuracy: 0.8057 - val_loss: 0.5413 - val_accuracy: 0.8140\n",
            "Epoch 5/50\n",
            "1410/1410 [==============================] - 75s 53ms/step - loss: 0.4344 - accuracy: 0.8472 - val_loss: 0.5031 - val_accuracy: 0.8287\n",
            "Epoch 6/50\n",
            "1410/1410 [==============================] - 75s 53ms/step - loss: 0.3478 - accuracy: 0.8715 - val_loss: 0.4925 - val_accuracy: 0.8356\n",
            "Epoch 7/50\n",
            "1410/1410 [==============================] - 75s 53ms/step - loss: 0.2780 - accuracy: 0.8957 - val_loss: 0.4901 - val_accuracy: 0.8410\n",
            "Epoch 8/50\n",
            "1410/1410 [==============================] - 75s 53ms/step - loss: 0.2305 - accuracy: 0.9103 - val_loss: 0.5144 - val_accuracy: 0.8386\n",
            "Epoch 9/50\n",
            "1410/1410 [==============================] - 75s 53ms/step - loss: 0.1907 - accuracy: 0.9258 - val_loss: 0.5243 - val_accuracy: 0.8393\n",
            "Epoch 10/50\n",
            "1410/1410 [==============================] - 75s 53ms/step - loss: 0.1639 - accuracy: 0.9353 - val_loss: 0.5387 - val_accuracy: 0.8390\n",
            "Epoch 11/50\n",
            "1410/1410 [==============================] - 75s 53ms/step - loss: 0.1381 - accuracy: 0.9455 - val_loss: 0.5612 - val_accuracy: 0.8422\n",
            "Epoch 12/50\n",
            "1410/1410 [==============================] - 75s 53ms/step - loss: 0.1189 - accuracy: 0.9536 - val_loss: 0.5919 - val_accuracy: 0.8426\n",
            "Epoch 13/50\n",
            "1410/1410 [==============================] - 75s 53ms/step - loss: 0.1066 - accuracy: 0.9586 - val_loss: 0.6230 - val_accuracy: 0.8420\n",
            "Epoch 14/50\n",
            "1410/1410 [==============================] - 75s 53ms/step - loss: 0.0967 - accuracy: 0.9627 - val_loss: 0.6317 - val_accuracy: 0.8426\n",
            "Epoch 15/50\n",
            "1410/1410 [==============================] - 75s 53ms/step - loss: 0.0865 - accuracy: 0.9664 - val_loss: 0.6565 - val_accuracy: 0.8426\n",
            "Epoch 16/50\n",
            "1410/1410 [==============================] - 75s 53ms/step - loss: 0.0816 - accuracy: 0.9691 - val_loss: 0.6724 - val_accuracy: 0.8374\n",
            "Epoch 17/50\n",
            "1410/1410 [==============================] - 75s 53ms/step - loss: 0.0724 - accuracy: 0.9730 - val_loss: 0.6847 - val_accuracy: 0.8469\n",
            "Epoch 18/50\n",
            "1410/1410 [==============================] - 75s 53ms/step - loss: 0.0683 - accuracy: 0.9744 - val_loss: 0.7154 - val_accuracy: 0.8475\n",
            "Epoch 19/50\n",
            "1410/1410 [==============================] - 75s 53ms/step - loss: 0.0632 - accuracy: 0.9762 - val_loss: 0.7042 - val_accuracy: 0.8480\n",
            "Epoch 20/50\n",
            "1410/1410 [==============================] - 75s 53ms/step - loss: 0.0570 - accuracy: 0.9786 - val_loss: 0.7601 - val_accuracy: 0.8438\n",
            "Epoch 21/50\n",
            "1410/1410 [==============================] - 75s 53ms/step - loss: 0.0548 - accuracy: 0.9799 - val_loss: 0.7459 - val_accuracy: 0.8456\n",
            "Epoch 22/50\n",
            "1410/1410 [==============================] - 75s 53ms/step - loss: 0.0525 - accuracy: 0.9802 - val_loss: 0.7582 - val_accuracy: 0.8440\n",
            "Epoch 23/50\n",
            "1410/1410 [==============================] - 75s 53ms/step - loss: 0.0492 - accuracy: 0.9820 - val_loss: 0.7489 - val_accuracy: 0.8477\n",
            "Epoch 24/50\n",
            "1410/1410 [==============================] - 75s 53ms/step - loss: 0.0461 - accuracy: 0.9832 - val_loss: 0.7990 - val_accuracy: 0.8451\n",
            "Epoch 25/50\n",
            "1410/1410 [==============================] - 75s 53ms/step - loss: 0.0433 - accuracy: 0.9840 - val_loss: 0.7747 - val_accuracy: 0.8463\n",
            "Epoch 26/50\n",
            "1410/1410 [==============================] - 75s 53ms/step - loss: 0.0409 - accuracy: 0.9853 - val_loss: 0.7865 - val_accuracy: 0.8500\n",
            "Epoch 27/50\n",
            "1410/1410 [==============================] - 75s 53ms/step - loss: 0.0381 - accuracy: 0.9858 - val_loss: 0.8134 - val_accuracy: 0.8469\n",
            "Epoch 28/50\n",
            "1410/1410 [==============================] - 75s 53ms/step - loss: 0.0375 - accuracy: 0.9863 - val_loss: 0.7947 - val_accuracy: 0.8487\n",
            "Epoch 29/50\n",
            "1410/1410 [==============================] - 75s 53ms/step - loss: 0.0357 - accuracy: 0.9876 - val_loss: 0.8039 - val_accuracy: 0.8479\n",
            "Epoch 30/50\n",
            "1410/1410 [==============================] - 75s 53ms/step - loss: 0.0351 - accuracy: 0.9873 - val_loss: 0.8152 - val_accuracy: 0.8457\n",
            "Epoch 31/50\n",
            "1410/1410 [==============================] - 75s 53ms/step - loss: 0.0318 - accuracy: 0.9885 - val_loss: 0.8461 - val_accuracy: 0.8486\n",
            "Epoch 32/50\n",
            "1410/1410 [==============================] - 75s 53ms/step - loss: 0.0311 - accuracy: 0.9891 - val_loss: 0.8334 - val_accuracy: 0.8510\n",
            "Epoch 33/50\n",
            "1410/1410 [==============================] - 75s 53ms/step - loss: 0.0282 - accuracy: 0.9900 - val_loss: 0.8402 - val_accuracy: 0.8509\n",
            "Epoch 34/50\n",
            "1410/1410 [==============================] - 75s 53ms/step - loss: 0.0291 - accuracy: 0.9899 - val_loss: 0.8758 - val_accuracy: 0.8478\n",
            "Epoch 35/50\n",
            "1410/1410 [==============================] - 75s 53ms/step - loss: 0.0270 - accuracy: 0.9901 - val_loss: 0.8414 - val_accuracy: 0.8501\n",
            "Epoch 36/50\n",
            "1410/1410 [==============================] - 75s 53ms/step - loss: 0.0268 - accuracy: 0.9903 - val_loss: 0.8545 - val_accuracy: 0.8509\n",
            "Epoch 37/50\n",
            "1410/1410 [==============================] - 76s 54ms/step - loss: 0.0241 - accuracy: 0.9914 - val_loss: 0.8727 - val_accuracy: 0.8474\n",
            "Epoch 38/50\n",
            "1410/1410 [==============================] - 75s 53ms/step - loss: 0.0247 - accuracy: 0.9912 - val_loss: 0.9013 - val_accuracy: 0.8499\n",
            "Epoch 39/50\n",
            "1410/1410 [==============================] - 75s 53ms/step - loss: 0.0248 - accuracy: 0.9914 - val_loss: 0.8738 - val_accuracy: 0.8508\n",
            "Epoch 40/50\n",
            "1410/1410 [==============================] - 75s 53ms/step - loss: 0.0227 - accuracy: 0.9920 - val_loss: 0.9093 - val_accuracy: 0.8496\n",
            "Epoch 41/50\n",
            "1410/1410 [==============================] - 75s 53ms/step - loss: 0.0224 - accuracy: 0.9920 - val_loss: 0.8764 - val_accuracy: 0.8535\n",
            "Epoch 42/50\n",
            "1410/1410 [==============================] - 75s 53ms/step - loss: 0.0215 - accuracy: 0.9925 - val_loss: 0.8957 - val_accuracy: 0.8497\n",
            "Epoch 43/50\n",
            "1410/1410 [==============================] - 76s 54ms/step - loss: 0.0192 - accuracy: 0.9933 - val_loss: 0.8934 - val_accuracy: 0.8496\n",
            "Epoch 44/50\n",
            "1410/1410 [==============================] - 75s 53ms/step - loss: 0.0197 - accuracy: 0.9932 - val_loss: 0.9126 - val_accuracy: 0.8503\n",
            "Epoch 45/50\n",
            "1410/1410 [==============================] - 76s 54ms/step - loss: 0.0180 - accuracy: 0.9936 - val_loss: 0.9266 - val_accuracy: 0.8497\n",
            "Epoch 46/50\n",
            "1410/1410 [==============================] - 75s 53ms/step - loss: 0.0200 - accuracy: 0.9930 - val_loss: 0.9238 - val_accuracy: 0.8531\n",
            "Epoch 47/50\n",
            "1410/1410 [==============================] - 75s 53ms/step - loss: 0.0185 - accuracy: 0.9938 - val_loss: 0.9225 - val_accuracy: 0.8506\n",
            "Epoch 48/50\n",
            "1410/1410 [==============================] - 75s 53ms/step - loss: 0.0177 - accuracy: 0.9940 - val_loss: 0.9150 - val_accuracy: 0.8510\n",
            "Epoch 49/50\n",
            "1410/1410 [==============================] - 75s 53ms/step - loss: 0.0180 - accuracy: 0.9939 - val_loss: 0.9258 - val_accuracy: 0.8532\n",
            "Epoch 50/50\n",
            "1410/1410 [==============================] - 75s 53ms/step - loss: 0.0149 - accuracy: 0.9947 - val_loss: 0.9088 - val_accuracy: 0.8539\n"
          ],
          "name": "stdout"
        },
        {
          "output_type": "stream",
          "text": [
            "/usr/local/lib/python3.7/dist-packages/tensorflow/python/keras/utils/generic_utils.py:497: CustomMaskWarning: Custom mask layers require a config and must override get_config. When loading, the custom mask layer must be passed to the custom_objects argument.\n",
            "  category=CustomMaskWarning)\n"
          ],
          "name": "stderr"
        },
        {
          "output_type": "stream",
          "text": [
            "INFO:tensorflow:Assets written to: /content/drive/MyDrive/Colab Notebooks/Notebooks/Models/ResNet50_EMNIST_Balanced_Base/assets\n"
          ],
          "name": "stdout"
        },
        {
          "output_type": "stream",
          "text": [
            "INFO:tensorflow:Assets written to: /content/drive/MyDrive/Colab Notebooks/Notebooks/Models/ResNet50_EMNIST_Balanced_Base/assets\n"
          ],
          "name": "stderr"
        },
        {
          "output_type": "stream",
          "text": [
            "time: 1h 5min 59s (started: 2021-05-25 21:50:13 +00:00)\n"
          ],
          "name": "stdout"
        }
      ]
    },
    {
      "cell_type": "code",
      "metadata": {
        "id": "i7wRfPpD5t-L",
        "colab": {
          "base_uri": "https://localhost:8080/",
          "height": 593
        },
        "outputId": "1bf65071-e966-4b98-821d-cb05b205fa57"
      },
      "source": [
        "img_path = path + 'Graph'\n",
        "\n",
        "pd.DataFrame(model_history.history).plot(figsize=(20, 10))\n",
        "plt.grid(True)\n",
        "plt.gca().set_ylim(0, 1.2)\n",
        "plt.savefig(img_path)\n",
        "plt.show()"
      ],
      "execution_count": null,
      "outputs": [
        {
          "output_type": "display_data",
          "data": {
            "image/png": "[encoded data removed]",
            "text/plain": [
              "<Figure size 1440x720 with 1 Axes>"
            ]
          },
          "metadata": {
            "tags": [],
            "needs_background": "light"
          }
        },
        {
          "output_type": "stream",
          "text": [
            "time: 405 ms (started: 2021-05-25 22:56:13 +00:00)\n"
          ],
          "name": "stdout"
        }
      ]
    },
    {
      "cell_type": "code",
      "metadata": {
        "id": "0ef3a3a4",
        "colab": {
          "base_uri": "https://localhost:8080/"
        },
        "outputId": "7f0e0ae7-8f7d-4c0b-df48-b70b8be1b64f"
      },
      "source": [
        "loss_value, acc = model.evaluate(ds_test)\n",
        "\n",
        "print(f\"Test Accuracy: {(acc*100):.3f}%\")\n",
        "print(f\"Loss: {loss_value:.3f}%\")"
      ],
      "execution_count": null,
      "outputs": [
        {
          "output_type": "stream",
          "text": [
            "294/294 [==============================] - 6s 19ms/step - loss: 0.9610 - accuracy: 0.8503\n",
            "Test Accuracy: 85.027%\n",
            "Loss: 0.961%\n",
            "time: 10.3 s (started: 2021-05-25 22:56:13 +00:00)\n"
          ],
          "name": "stdout"
        }
      ]
    }
  ]
}